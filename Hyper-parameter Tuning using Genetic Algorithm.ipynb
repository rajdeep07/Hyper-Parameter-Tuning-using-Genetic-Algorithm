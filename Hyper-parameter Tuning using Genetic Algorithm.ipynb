{
 "cells": [
  {
   "cell_type": "markdown",
   "metadata": {
    "colab_type": "text",
    "id": "NMdO_ipKUd7o"
   },
   "source": []
  },
  {
   "cell_type": "code",
   "execution_count": 1,
   "metadata": {
    "colab": {},
    "colab_type": "code",
    "collapsed": true,
    "id": "eJXJ47chpKc_"
   },
   "outputs": [],
   "source": [
    "import numpy as np\n",
    "import pandas as pd\n",
    "import matplotlib.pyplot as plt\n",
    "from sklearn.model_selection import train_test_split \n",
    "from matplotlib.colors import ListedColormap"
   ]
  },
  {
   "cell_type": "code",
   "execution_count": 2,
   "metadata": {
    "colab": {
     "base_uri": "https://localhost:8080/",
     "height": 846
    },
    "colab_type": "code",
    "id": "W-UDYYfej55m",
    "outputId": "5983defc-7c62-4ea5-eda5-dc25685924ea"
   },
   "outputs": [],
   "source": [
    "# Reading the file\n",
    "data = pd.read_csv('UTD_DataSet_Final.csv')"
   ]
  },
  {
   "cell_type": "code",
   "execution_count": 4,
   "metadata": {
    "colab": {
     "base_uri": "https://localhost:8080/",
     "height": 218
    },
    "colab_type": "code",
    "id": "X_gHDV_yjVPi",
    "outputId": "61a4fa12-1b0d-4bbc-f25f-ec4323454f1a"
   },
   "outputs": [
    {
     "data": {
      "text/plain": [
       "ID              0\n",
       "Feature_1       0\n",
       "Feature_2       0\n",
       "Feature_3       0\n",
       "Feature_4       0\n",
       "Feature_5       0\n",
       "Feature_6       0\n",
       "Feature_7       0\n",
       "Feature_8       0\n",
       "Feature_9       0\n",
       "Feature_10    382\n",
       "dtype: int64"
      ]
     },
     "execution_count": 4,
     "metadata": {
      "tags": []
     },
     "output_type": "execute_result"
    }
   ],
   "source": [
    "# Check for Null Values\n",
    "data.isnull().sum()"
   ]
  },
  {
   "cell_type": "code",
   "execution_count": 0,
   "metadata": {
    "colab": {},
    "colab_type": "code",
    "collapsed": true,
    "id": "xuLZoi9YkWy7"
   },
   "outputs": [],
   "source": [
    "import seaborn as sns"
   ]
  },
  {
   "cell_type": "code",
   "execution_count": 0,
   "metadata": {
    "colab": {},
    "colab_type": "code",
    "collapsed": true,
    "id": "yc-PxnJKvfLp"
   },
   "outputs": [],
   "source": [
    "### Feature 5"
   ]
  },
  {
   "cell_type": "code",
   "execution_count": 0,
   "metadata": {
    "colab": {},
    "colab_type": "code",
    "collapsed": true,
    "id": "-vr5WxXokt4I"
   },
   "outputs": [],
   "source": [
    "data[['Feature_5']] = data[['Feature_5']].replace([1,2,3,4,5,6,8,10,11,12,13,15,16,19,20,21], [1,18,1,20,20,17,17,17,20,9,1,20,18,17,17,17])\n",
    "# data.groupby('Feature_5')['Feature_10'].count()"
   ]
  },
  {
   "cell_type": "code",
   "execution_count": 0,
   "metadata": {
    "colab": {},
    "colab_type": "code",
    "collapsed": true,
    "id": "AVoz4qQgoeaq"
   },
   "outputs": [],
   "source": [
    "data['Feature_5'] = data['Feature_5'].astype(object)"
   ]
  },
  {
   "cell_type": "code",
   "execution_count": 9,
   "metadata": {
    "colab": {
     "base_uri": "https://localhost:8080/",
     "height": 538
    },
    "colab_type": "code",
    "id": "f7o1oG8vlifp",
    "outputId": "eeb06902-23e2-4340-a640-731fb0c36b68"
   },
   "outputs": [
    {
     "name": "stdout",
     "output_type": "stream",
     "text": [
      "                            OLS Regression Results                            \n",
      "==============================================================================\n",
      "Dep. Variable:             Feature_10   R-squared:                       0.028\n",
      "Model:                            OLS   Adj. R-squared:                  0.026\n",
      "Method:                 Least Squares   F-statistic:                     13.84\n",
      "Date:                Tue, 13 Nov 2018   Prob (F-statistic):           8.88e-18\n",
      "Time:                        06:43:16   Log-Likelihood:                -32712.\n",
      "No. Observations:                3400   AIC:                         6.544e+04\n",
      "Df Residuals:                    3392   BIC:                         6.549e+04\n",
      "Df Model:                           7                                         \n",
      "Covariance Type:            nonrobust                                         \n",
      "===================================================================================\n",
      "                      coef    std err          t      P>|t|      [0.025      0.975]\n",
      "-----------------------------------------------------------------------------------\n",
      "Intercept        5263.4191    313.244     16.803      0.000    4649.252    5877.586\n",
      "Feature_5[T.1]  -2913.4191   1415.801     -2.058      0.040   -5689.329    -137.509\n",
      "Feature_5[T.7]  -1246.5869    325.456     -3.830      0.000   -1884.696    -608.478\n",
      "Feature_5[T.9]   2283.0095    758.099      3.011      0.003     796.632    3769.387\n",
      "Feature_5[T.14] -1458.3973    356.733     -4.088      0.000   -2157.831    -758.963\n",
      "Feature_5[T.17]  -777.2114    333.747     -2.329      0.020   -1431.577    -122.846\n",
      "Feature_5[T.18] -1741.1218    677.338     -2.571      0.010   -3069.154    -413.090\n",
      "Feature_5[T.20]  4754.2279    939.733      5.059      0.000    2911.728    6596.728\n",
      "==============================================================================\n",
      "Omnibus:                     2219.699   Durbin-Watson:                   1.918\n",
      "Prob(Omnibus):                  0.000   Jarque-Bera (JB):            42077.735\n",
      "Skew:                           2.812   Prob(JB):                         0.00\n",
      "Kurtosis:                      19.290   Cond. No.                         27.0\n",
      "==============================================================================\n",
      "\n",
      "Warnings:\n",
      "[1] Standard Errors assume that the covariance matrix of the errors is correctly specified.\n"
     ]
    }
   ],
   "source": [
    "#ANOVA F Test\n",
    "import statsmodels.formula.api as smf\n",
    "import statsmodels.stats.multicomp as multi\n",
    "model = smf.ols(formula='Feature_10 ~ Feature_5', data=data)\n",
    "results = model.fit()\n",
    "print (results.summary())"
   ]
  },
  {
   "cell_type": "code",
   "execution_count": 0,
   "metadata": {
    "colab": {},
    "colab_type": "code",
    "collapsed": true,
    "id": "cVpqTLcAkt9a"
   },
   "outputs": [],
   "source": [
    "### Feature 6"
   ]
  },
  {
   "cell_type": "code",
   "execution_count": 0,
   "metadata": {
    "colab": {},
    "colab_type": "code",
    "collapsed": true,
    "id": "IQe60W8Ckt_8"
   },
   "outputs": [],
   "source": [
    "data[['Feature_6']] = data[['Feature_6']].replace([3,4,5,12,16,18], [16,4,4,2,29,22])\n",
    "# data.groupby('Feature_6')['Feature_10'].count()"
   ]
  },
  {
   "cell_type": "code",
   "execution_count": 0,
   "metadata": {
    "colab": {},
    "colab_type": "code",
    "collapsed": true,
    "id": "ZcvECQq05wmx"
   },
   "outputs": [],
   "source": [
    "data[['Feature_6']] = data[['Feature_6']].replace([15,23,32,10,4,6,7,8,9,21,22,25,26,30,19,24,27,28,29,31,33,26,16], [11,11,2,11,0,0,0,0,0,0,22,0,0,0,11,11,11,11,22,11,11,0,22])\n",
    "# train.groupby('Feature_6')['Feature_10'].count(), train.groupby('Feature_6')['Feature_10'].mean()"
   ]
  },
  {
   "cell_type": "code",
   "execution_count": 0,
   "metadata": {
    "colab": {},
    "colab_type": "code",
    "collapsed": true,
    "id": "OpLbZg4WnFAc"
   },
   "outputs": [],
   "source": [
    "data['Feature_6'] = data['Feature_6'].astype(object)"
   ]
  },
  {
   "cell_type": "code",
   "execution_count": 14,
   "metadata": {
    "colab": {
     "base_uri": "https://localhost:8080/",
     "height": 588
    },
    "colab_type": "code",
    "id": "2K0DBER53lk-",
    "outputId": "9d556304-ae63-4422-8fad-fcd73c557b02"
   },
   "outputs": [
    {
     "name": "stdout",
     "output_type": "stream",
     "text": [
      "                            OLS Regression Results                            \n",
      "==============================================================================\n",
      "Dep. Variable:             Feature_10   R-squared:                       0.119\n",
      "Model:                            OLS   Adj. R-squared:                  0.117\n",
      "Method:                 Least Squares   F-statistic:                     65.57\n",
      "Date:                Tue, 13 Nov 2018   Prob (F-statistic):           5.96e-89\n",
      "Time:                        06:43:28   Log-Likelihood:                -32544.\n",
      "No. Observations:                3400   AIC:                         6.510e+04\n",
      "Df Residuals:                    3392   BIC:                         6.515e+04\n",
      "Df Model:                           7                                         \n",
      "Covariance Type:            nonrobust                                         \n",
      "===================================================================================\n",
      "                      coef    std err          t      P>|t|      [0.025      0.975]\n",
      "-----------------------------------------------------------------------------------\n",
      "Intercept        2749.0312    122.932     22.362      0.000    2508.003    2990.059\n",
      "Feature_6[T.1]   3910.5561    271.662     14.395      0.000    3377.918    4443.195\n",
      "Feature_6[T.2]   2346.7194    173.528     13.524      0.000    2006.490    2686.949\n",
      "Feature_6[T.11]  1099.7178    156.731      7.017      0.000     792.420    1407.015\n",
      "Feature_6[T.13]  6734.3021   2011.227      3.348      0.001    2790.962    1.07e+04\n",
      "Feature_6[T.14]  4305.5142   1055.548      4.079      0.000    2235.939    6375.089\n",
      "Feature_6[T.17]  -2.42e-12   1.03e-12     -2.345      0.019   -4.44e-12   -3.96e-13\n",
      "Feature_6[T.20]  3740.3565    253.886     14.732      0.000    3242.571    4238.142\n",
      "Feature_6[T.22] -1228.0312    506.860     -2.423      0.015   -2221.814    -234.248\n",
      "==============================================================================\n",
      "Omnibus:                     2006.150   Durbin-Watson:                   1.931\n",
      "Prob(Omnibus):                  0.000   Jarque-Bera (JB):            34996.055\n",
      "Skew:                           2.462   Prob(JB):                         0.00\n",
      "Kurtosis:                      17.926   Cond. No.                     9.17e+18\n",
      "==============================================================================\n",
      "\n",
      "Warnings:\n",
      "[1] Standard Errors assume that the covariance matrix of the errors is correctly specified.\n",
      "[2] The smallest eigenvalue is 4.97e-35. This might indicate that there are\n",
      "strong multicollinearity problems or that the design matrix is singular.\n"
     ]
    }
   ],
   "source": [
    "import statsmodels.formula.api as smf\n",
    "import statsmodels.stats.multicomp as multi\n",
    "model = smf.ols(formula='Feature_10 ~ Feature_6', data=data)\n",
    "results = model.fit()\n",
    "print (results.summary())"
   ]
  },
  {
   "cell_type": "code",
   "execution_count": 0,
   "metadata": {
    "colab": {},
    "colab_type": "code",
    "collapsed": true,
    "id": "gQJbdvjrnFTZ"
   },
   "outputs": [],
   "source": [
    "# feature 7"
   ]
  },
  {
   "cell_type": "code",
   "execution_count": 0,
   "metadata": {
    "colab": {},
    "colab_type": "code",
    "collapsed": true,
    "id": "3YWWiDcZsive"
   },
   "outputs": [],
   "source": [
    "cluster = data.groupby('Feature_7').mean().Feature_10"
   ]
  },
  {
   "cell_type": "code",
   "execution_count": 11,
   "metadata": {
    "colab": {
     "base_uri": "https://localhost:8080/",
     "height": 34
    },
    "colab_type": "code",
    "id": "cRCIudWq1v0r",
    "outputId": "aac33d1f-a97b-4a40-a6c1-14d25265aee0"
   },
   "outputs": [
    {
     "data": {
      "text/plain": [
       "dtype('float64')"
      ]
     },
     "execution_count": 11,
     "metadata": {
      "tags": []
     },
     "output_type": "execute_result"
    }
   ],
   "source": [
    "cluster.dtypes"
   ]
  },
  {
   "cell_type": "code",
   "execution_count": 12,
   "metadata": {
    "colab": {
     "base_uri": "https://localhost:8080/",
     "height": 70
    },
    "colab_type": "code",
    "id": "FLmw8fHDLIYs",
    "outputId": "e060ab7e-1dce-4c29-ce7b-dd46e6569525"
   },
   "outputs": [
    {
     "name": "stderr",
     "output_type": "stream",
     "text": [
      "/usr/local/lib/python3.6/dist-packages/pandas/core/series.py:2551: FutureWarning: get_value is deprecated and will be removed in a future release. Please use .at[] or .iat[] accessors instead\n",
      "  mapped = lib.map_infer(values, f, convert=convert_dtype)\n"
     ]
    }
   ],
   "source": [
    "data['cluster'] = data.Feature_7.apply(cluster.get_value)"
   ]
  },
  {
   "cell_type": "code",
   "execution_count": 19,
   "metadata": {
    "colab": {
     "base_uri": "https://localhost:8080/",
     "height": 34
    },
    "colab_type": "code",
    "id": "5Lxo0w-w12zK",
    "outputId": "dbefed84-830e-4c6d-8d34-e656ac431094"
   },
   "outputs": [
    {
     "data": {
      "text/plain": [
       "(3782, 12)"
      ]
     },
     "execution_count": 19,
     "metadata": {
      "tags": []
     },
     "output_type": "execute_result"
    }
   ],
   "source": [
    "data.shape"
   ]
  },
  {
   "cell_type": "code",
   "execution_count": 0,
   "metadata": {
    "colab": {},
    "colab_type": "code",
    "collapsed": true,
    "id": "F_duleNqMhlw"
   },
   "outputs": [],
   "source": [
    "data = data.sort_values(by=['cluster'],ascending=True)"
   ]
  },
  {
   "cell_type": "code",
   "execution_count": 0,
   "metadata": {
    "colab": {},
    "colab_type": "code",
    "collapsed": true,
    "id": "SptyXPy6Nrz1"
   },
   "outputs": [],
   "source": [
    "data.insert(0, 'new_ID', range(1, 1 + len(data)))"
   ]
  },
  {
   "cell_type": "code",
   "execution_count": 0,
   "metadata": {
    "colab": {},
    "colab_type": "code",
    "collapsed": true,
    "id": "Y5Z8t7vENykN"
   },
   "outputs": [],
   "source": [
    "data['Feature_7_new'] = divmod(data['new_ID'],600)[0]"
   ]
  },
  {
   "cell_type": "code",
   "execution_count": 23,
   "metadata": {
    "colab": {
     "base_uri": "https://localhost:8080/",
     "height": 34
    },
    "colab_type": "code",
    "id": "1lcOuAkEOqgw",
    "outputId": "527b4013-cdf1-4258-aa8c-14881fb8762a"
   },
   "outputs": [
    {
     "data": {
      "text/plain": [
       "(3782, 14)"
      ]
     },
     "execution_count": 23,
     "metadata": {
      "tags": []
     },
     "output_type": "execute_result"
    }
   ],
   "source": [
    "data.shape"
   ]
  },
  {
   "cell_type": "code",
   "execution_count": 0,
   "metadata": {
    "colab": {},
    "colab_type": "code",
    "collapsed": true,
    "id": "XCXyz7gVPvjJ"
   },
   "outputs": [],
   "source": [
    "data = data.drop(['cluster', 'new_ID','Feature_7'], axis=1)"
   ]
  },
  {
   "cell_type": "code",
   "execution_count": 0,
   "metadata": {
    "colab": {},
    "colab_type": "code",
    "collapsed": true,
    "id": "pX7XPDWFQA_5"
   },
   "outputs": [],
   "source": [
    "data = data.rename(index=str, columns={\"Feature_7_new\": \"Feature_7\"})"
   ]
  },
  {
   "cell_type": "code",
   "execution_count": 0,
   "metadata": {
    "colab": {},
    "colab_type": "code",
    "collapsed": true,
    "id": "wbJsidQo1Acf"
   },
   "outputs": [],
   "source": [
    "data['Feature_7'] = data['Feature_7'].astype(object)"
   ]
  },
  {
   "cell_type": "code",
   "execution_count": 27,
   "metadata": {
    "colab": {
     "base_uri": "https://localhost:8080/",
     "height": 34
    },
    "colab_type": "code",
    "id": "J9GOKCtx1SsL",
    "outputId": "a2001544-0232-41cd-a827-6d81dc0d6648"
   },
   "outputs": [
    {
     "data": {
      "text/plain": [
       "(3782, 11)"
      ]
     },
     "execution_count": 27,
     "metadata": {
      "tags": []
     },
     "output_type": "execute_result"
    }
   ],
   "source": [
    "data.shape"
   ]
  },
  {
   "cell_type": "code",
   "execution_count": 0,
   "metadata": {
    "colab": {},
    "colab_type": "code",
    "collapsed": true,
    "id": "2Uv1CDUO30FU"
   },
   "outputs": [],
   "source": [
    "# data.groupby('Feature_7')['Feature_10'].count(),data.groupby('Feature_7')['Feature_10'].mean()"
   ]
  },
  {
   "cell_type": "code",
   "execution_count": 29,
   "metadata": {
    "colab": {
     "base_uri": "https://localhost:8080/",
     "height": 521
    },
    "colab_type": "code",
    "id": "TDYz7Gcpri25",
    "outputId": "c8f9ed5d-1067-4246-9234-1eb3e9fb72ab"
   },
   "outputs": [
    {
     "name": "stdout",
     "output_type": "stream",
     "text": [
      "                            OLS Regression Results                            \n",
      "==============================================================================\n",
      "Dep. Variable:             Feature_10   R-squared:                       0.424\n",
      "Model:                            OLS   Adj. R-squared:                  0.423\n",
      "Method:                 Least Squares   F-statistic:                     416.6\n",
      "Date:                Tue, 13 Nov 2018   Prob (F-statistic):               0.00\n",
      "Time:                        06:43:56   Log-Likelihood:                -31821.\n",
      "No. Observations:                3400   AIC:                         6.366e+04\n",
      "Df Residuals:                    3393   BIC:                         6.370e+04\n",
      "Df Model:                           6                                         \n",
      "Covariance Type:            nonrobust                                         \n",
      "==================================================================================\n",
      "                     coef    std err          t      P>|t|      [0.025      0.975]\n",
      "----------------------------------------------------------------------------------\n",
      "Intercept       1615.7372    122.210     13.221      0.000    1376.125    1855.350\n",
      "Feature_7[T.1]   848.1255    172.587      4.914      0.000     509.740    1186.511\n",
      "Feature_7[T.2]  1462.6760    171.792      8.514      0.000    1125.851    1799.501\n",
      "Feature_7[T.3]  2176.2937    171.250     12.708      0.000    1840.531    2512.057\n",
      "Feature_7[T.4]  3458.5834    171.021     20.223      0.000    3123.268    3793.898\n",
      "Feature_7[T.5]  5497.5809    171.173     32.117      0.000    5161.968    5833.194\n",
      "Feature_7[T.6]  1.033e+04    262.774     39.300      0.000    9811.860    1.08e+04\n",
      "==============================================================================\n",
      "Omnibus:                     1927.749   Durbin-Watson:                   1.874\n",
      "Prob(Omnibus):                  0.000   Jarque-Bera (JB):            56406.794\n",
      "Skew:                           2.150   Prob(JB):                         0.00\n",
      "Kurtosis:                      22.485   Cond. No.                         7.83\n",
      "==============================================================================\n",
      "\n",
      "Warnings:\n",
      "[1] Standard Errors assume that the covariance matrix of the errors is correctly specified.\n"
     ]
    }
   ],
   "source": [
    "#ANOVA F Test\n",
    "import statsmodels.formula.api as smf\n",
    "import statsmodels.stats.multicomp as multi\n",
    "model = smf.ols(formula='Feature_10 ~ Feature_7', data=data)\n",
    "results = model.fit()\n",
    "print (results.summary())"
   ]
  },
  {
   "cell_type": "code",
   "execution_count": 0,
   "metadata": {
    "colab": {},
    "colab_type": "code",
    "collapsed": true,
    "id": "6Xc1ov6ari8H"
   },
   "outputs": [],
   "source": [
    "### Feature 8"
   ]
  },
  {
   "cell_type": "code",
   "execution_count": 31,
   "metadata": {
    "colab": {
     "base_uri": "https://localhost:8080/",
     "height": 336
    },
    "colab_type": "code",
    "id": "wt_098hzJbyW",
    "outputId": "ae225fe7-0055-4904-8495-966577c843da"
   },
   "outputs": [
    {
     "data": {
      "text/plain": [
       "(Feature_8\n",
       " 0       9\n",
       " 1       2\n",
       " 2       3\n",
       " 3    1091\n",
       " 4       2\n",
       " 5       6\n",
       " 6    2284\n",
       " 7       3\n",
       " Name: Feature_10, dtype: int64, Feature_8\n",
       " 0    1994.444444\n",
       " 1    2425.000000\n",
       " 2    2916.666667\n",
       " 3    5594.408799\n",
       " 4    1350.000000\n",
       " 5    8008.333333\n",
       " 6    3582.070928\n",
       " 7    1858.333333\n",
       " Name: Feature_10, dtype: float64)"
      ]
     },
     "execution_count": 31,
     "metadata": {
      "tags": []
     },
     "output_type": "execute_result"
    }
   ],
   "source": [
    "# checking the class count for the dataset \n",
    "data.groupby('Feature_8')['Feature_10'].count(),data.groupby('Feature_8')['Feature_10'].mean()"
   ]
  },
  {
   "cell_type": "code",
   "execution_count": 0,
   "metadata": {
    "colab": {},
    "colab_type": "code",
    "collapsed": true,
    "id": "SOTxzqIZJb33"
   },
   "outputs": [],
   "source": [
    "data[['Feature_8']] = data[['Feature_8']].replace([0,1,2,4,5,7], [1,1,1,1,5,1])\n",
    "# data.groupby('Feature_8')['Feature_10'].count()"
   ]
  },
  {
   "cell_type": "code",
   "execution_count": 33,
   "metadata": {
    "colab": {
     "base_uri": "https://localhost:8080/",
     "height": 202
    },
    "colab_type": "code",
    "id": "BTQLW1zFJb1F",
    "outputId": "79c2a71f-c6be-46c5-899f-9421a20ba7b1"
   },
   "outputs": [
    {
     "data": {
      "text/plain": [
       "(Feature_8\n",
       " 1      19\n",
       " 3    1091\n",
       " 5       6\n",
       " 6    2284\n",
       " Name: Feature_10, dtype: int64, Feature_8\n",
       " 1    2096.052632\n",
       " 3    5594.408799\n",
       " 5    8008.333333\n",
       " 6    3582.070928\n",
       " Name: Feature_10, dtype: float64)"
      ]
     },
     "execution_count": 33,
     "metadata": {
      "tags": []
     },
     "output_type": "execute_result"
    }
   ],
   "source": [
    "data.groupby('Feature_8')['Feature_10'].count(),data.groupby('Feature_8')['Feature_10'].mean()"
   ]
  },
  {
   "cell_type": "code",
   "execution_count": 0,
   "metadata": {
    "colab": {},
    "colab_type": "code",
    "collapsed": true,
    "id": "gTJe7rebJxu7"
   },
   "outputs": [],
   "source": [
    "data['Feature_8'] = data['Feature_8'].astype(object)"
   ]
  },
  {
   "cell_type": "code",
   "execution_count": 35,
   "metadata": {
    "colab": {
     "base_uri": "https://localhost:8080/",
     "height": 470
    },
    "colab_type": "code",
    "id": "RsgnAUQWJ6-u",
    "outputId": "29abf375-81d1-49f3-f5b2-ff2bc40482ae"
   },
   "outputs": [
    {
     "name": "stdout",
     "output_type": "stream",
     "text": [
      "                            OLS Regression Results                            \n",
      "==============================================================================\n",
      "Dep. Variable:             Feature_10   R-squared:                       0.068\n",
      "Model:                            OLS   Adj. R-squared:                  0.067\n",
      "Method:                 Least Squares   F-statistic:                     82.48\n",
      "Date:                Tue, 13 Nov 2018   Prob (F-statistic):           1.66e-51\n",
      "Time:                        06:44:11   Log-Likelihood:                -32640.\n",
      "No. Observations:                3400   AIC:                         6.529e+04\n",
      "Df Residuals:                    3396   BIC:                         6.531e+04\n",
      "Df Model:                           3                                         \n",
      "Covariance Type:            nonrobust                                         \n",
      "==================================================================================\n",
      "                     coef    std err          t      P>|t|      [0.025      0.975]\n",
      "----------------------------------------------------------------------------------\n",
      "Intercept       2096.0526    820.088      2.556      0.011     488.137    3703.969\n",
      "Feature_8[T.3]  3498.3562    827.198      4.229      0.000    1876.499    5120.213\n",
      "Feature_8[T.5]  5912.2807   1673.998      3.532      0.000    2630.136    9194.426\n",
      "Feature_8[T.6]  1486.0183    823.492      1.805      0.071    -128.572    3100.608\n",
      "==============================================================================\n",
      "Omnibus:                     2088.968   Durbin-Watson:                   1.224\n",
      "Prob(Omnibus):                  0.000   Jarque-Bera (JB):            35763.899\n",
      "Skew:                           2.615   Prob(JB):                         0.00\n",
      "Kurtosis:                      18.004   Cond. No.                         39.1\n",
      "==============================================================================\n",
      "\n",
      "Warnings:\n",
      "[1] Standard Errors assume that the covariance matrix of the errors is correctly specified.\n"
     ]
    }
   ],
   "source": [
    "#ANOVA F Test\n",
    "import statsmodels.formula.api as smf\n",
    "import statsmodels.stats.multicomp as multi\n",
    "model = smf.ols(formula='Feature_10 ~ Feature_8', data=data)\n",
    "results = model.fit()\n",
    "print (results.summary())"
   ]
  },
  {
   "cell_type": "code",
   "execution_count": 0,
   "metadata": {
    "colab": {},
    "colab_type": "code",
    "collapsed": true,
    "id": "Zq_b4BWinhJs"
   },
   "outputs": [],
   "source": [
    "# Splitting the data set\n",
    "train = data[data.Feature_10.notnull()]\n",
    "test = data[data.Feature_10.isnull()]"
   ]
  },
  {
   "cell_type": "code",
   "execution_count": 37,
   "metadata": {
    "colab": {
     "base_uri": "https://localhost:8080/",
     "height": 738
    },
    "colab_type": "code",
    "id": "wl-qgj4-ogru",
    "outputId": "39967b2c-083c-4008-cf63-5c432c1bcb9d"
   },
   "outputs": [
    {
     "data": {
      "image/png": "[encoded data removed]",
      "text/plain": [
       "<matplotlib.figure.Figure at 0x7fcaec235860>"
      ]
     },
     "metadata": {
      "tags": []
     },
     "output_type": "display_data"
    },
    {
     "name": "stderr",
     "output_type": "stream",
     "text": [
      "/usr/local/lib/python3.6/dist-packages/seaborn/categorical.py:454: FutureWarning: remove_na is deprecated and is a private function. Do not use.\n",
      "  box_data = remove_na(group_data)\n"
     ]
    },
    {
     "data": {
      "image/png": "[encoded data removed]",
      "text/plain": [
       "<matplotlib.figure.Figure at 0x7fcaec200860>"
      ]
     },
     "metadata": {
      "tags": []
     },
     "output_type": "display_data"
    }
   ],
   "source": [
    "#checking the the distribution of type of feature_5\n",
    "from scipy.stats import norm\n",
    "sns.distplot(train['Feature_10'], fit=norm);\n",
    "plt.show()\n",
    "sns.boxplot(train['Feature_5'],train['Feature_10'])\n",
    "plt.show()"
   ]
  },
  {
   "cell_type": "code",
   "execution_count": 38,
   "metadata": {
    "colab": {
     "base_uri": "https://localhost:8080/",
     "height": 738
    },
    "colab_type": "code",
    "id": "PGLrMsk9ogm8",
    "outputId": "85c01343-1171-40fc-d578-13f7c7e22681"
   },
   "outputs": [
    {
     "data": {
      "image/png": "[encoded data removed]",
      "text/plain": [
       "<matplotlib.figure.Figure at 0x7fcaec235c88>"
      ]
     },
     "metadata": {
      "tags": []
     },
     "output_type": "display_data"
    },
    {
     "name": "stderr",
     "output_type": "stream",
     "text": [
      "/usr/local/lib/python3.6/dist-packages/seaborn/categorical.py:454: FutureWarning: remove_na is deprecated and is a private function. Do not use.\n",
      "  box_data = remove_na(group_data)\n"
     ]
    },
    {
     "data": {
      "image/png": "[encoded data removed]",
      "text/plain": [
       "<matplotlib.figure.Figure at 0x7fcaec0f0908>"
      ]
     },
     "metadata": {
      "tags": []
     },
     "output_type": "display_data"
    }
   ],
   "source": [
    "#checking the the distribution of type of feature_6\n",
    "from scipy.stats import norm\n",
    "sns.distplot(train['Feature_10'], fit=norm);\n",
    "plt.show()\n",
    "sns.boxplot(train['Feature_6'],train['Feature_10'])\n",
    "plt.show()"
   ]
  },
  {
   "cell_type": "code",
   "execution_count": 39,
   "metadata": {
    "colab": {
     "base_uri": "https://localhost:8080/",
     "height": 738
    },
    "colab_type": "code",
    "id": "noX34pQeogf4",
    "outputId": "aabff19d-cf40-489a-f103-64fbda222357"
   },
   "outputs": [
    {
     "data": {
      "image/png": "[encoded data removed]",
      "text/plain": [
       "<matplotlib.figure.Figure at 0x7fcaebebc6a0>"
      ]
     },
     "metadata": {
      "tags": []
     },
     "output_type": "display_data"
    },
    {
     "name": "stderr",
     "output_type": "stream",
     "text": [
      "/usr/local/lib/python3.6/dist-packages/seaborn/categorical.py:454: FutureWarning: remove_na is deprecated and is a private function. Do not use.\n",
      "  box_data = remove_na(group_data)\n"
     ]
    },
    {
     "data": {
      "image/png": "[encoded data removed]",
      "text/plain": [
       "<matplotlib.figure.Figure at 0x7fcaebf0ac18>"
      ]
     },
     "metadata": {
      "tags": []
     },
     "output_type": "display_data"
    }
   ],
   "source": [
    "#checking the the distribution of type of feature_7\n",
    "from scipy.stats import norm\n",
    "sns.distplot(train['Feature_10'], fit=norm);\n",
    "plt.show()\n",
    "sns.boxplot(train['Feature_7'],train['Feature_10'])\n",
    "plt.show()"
   ]
  },
  {
   "cell_type": "code",
   "execution_count": 40,
   "metadata": {
    "colab": {
     "base_uri": "https://localhost:8080/",
     "height": 738
    },
    "colab_type": "code",
    "id": "GzaVq4a0osLh",
    "outputId": "79d159e7-dd61-4a57-bfc1-eccd18d85a44"
   },
   "outputs": [
    {
     "data": {
      "image/png": "[encoded data removed]",
      "text/plain": [
       "<matplotlib.figure.Figure at 0x7fcaec0ba0f0>"
      ]
     },
     "metadata": {
      "tags": []
     },
     "output_type": "display_data"
    },
    {
     "name": "stderr",
     "output_type": "stream",
     "text": [
      "/usr/local/lib/python3.6/dist-packages/seaborn/categorical.py:454: FutureWarning: remove_na is deprecated and is a private function. Do not use.\n",
      "  box_data = remove_na(group_data)\n"
     ]
    },
    {
     "data": {
      "image/png": "[encoded data removed]",
      "text/plain": [
       "<matplotlib.figure.Figure at 0x7fcaebef54e0>"
      ]
     },
     "metadata": {
      "tags": []
     },
     "output_type": "display_data"
    }
   ],
   "source": [
    "#checking the the distribution of type of feature_8\n",
    "from scipy.stats import norm\n",
    "sns.distplot(train['Feature_10'], fit=norm);\n",
    "plt.show()\n",
    "sns.boxplot(train['Feature_8'],train['Feature_10'])\n",
    "plt.show()"
   ]
  },
  {
   "cell_type": "code",
   "execution_count": 41,
   "metadata": {
    "colab": {
     "base_uri": "https://localhost:8080/",
     "height": 393
    },
    "colab_type": "code",
    "id": "RgRBZEbiXcqT",
    "outputId": "3360eeb5-bbcc-4e19-b970-96d73ec5c56d"
   },
   "outputs": [
    {
     "data": {
      "text/plain": [
       "(0.0, 420.0)"
      ]
     },
     "execution_count": 41,
     "metadata": {
      "tags": []
     },
     "output_type": "execute_result"
    },
    {
     "data": {
      "image/png": "[encoded data removed]",
      "text/plain": [
       "<matplotlib.figure.Figure at 0x7fcaebea6fd0>"
      ]
     },
     "metadata": {
      "tags": []
     },
     "output_type": "display_data"
    }
   ],
   "source": [
    "import matplotlib.pyplot as plt\n",
    "\n",
    "# An \"interface\" to matplotlib.axes.Axes.hist() method\n",
    "n, bins, patches = plt.hist(x=train['Feature_10'], bins='auto', color='#0504aa',\n",
    "                            alpha=0.7, rwidth=0.85)\n",
    "plt.grid(axis='y', alpha=0.75)\n",
    "plt.xlabel('Feature_10')\n",
    "plt.ylabel('Frequency')\n",
    "plt.title('Histogram Distribution of Feature_10')\n",
    "#plt.text(23, 45, r'$\\mu=15, b=3$')\n",
    "maxfreq = n.max()\n",
    "# Set a clean upper y-axis limit.\n",
    "plt.ylim(ymax=np.ceil(maxfreq / 10) * 10 if maxfreq % 10 else maxfreq + 10)"
   ]
  },
  {
   "cell_type": "code",
   "execution_count": 42,
   "metadata": {
    "colab": {
     "base_uri": "https://localhost:8080/",
     "height": 393
    },
    "colab_type": "code",
    "id": "dv_cce20dttb",
    "outputId": "3dc2b069-c753-4441-c9f5-53ef4b26463d"
   },
   "outputs": [
    {
     "data": {
      "text/plain": [
       "(0.0, 370.0)"
      ]
     },
     "execution_count": 42,
     "metadata": {
      "tags": []
     },
     "output_type": "execute_result"
    },
    {
     "data": {
      "image/png": "[encoded data removed]",
      "text/plain": [
       "<matplotlib.figure.Figure at 0x7fcaebcf6908>"
      ]
     },
     "metadata": {
      "tags": []
     },
     "output_type": "display_data"
    }
   ],
   "source": [
    "import matplotlib.pyplot as plt\n",
    "\n",
    "# An \"interface\" to matplotlib.axes.Axes.hist() method\n",
    "n, bins, patches = plt.hist(x=train['Feature_1'], bins='auto', color='#0504aa',\n",
    "                            alpha=0.7, rwidth=0.85)\n",
    "plt.grid(axis='y', alpha=0.75)\n",
    "plt.xlabel('Feature_1')\n",
    "plt.ylabel('Frequency')\n",
    "plt.title('Histogram Distribution of Feature_1')\n",
    "#plt.text(23, 45, r'$\\mu=15, b=3$')\n",
    "maxfreq = n.max()\n",
    "# Set a clean upper y-axis limit.\n",
    "plt.ylim(ymax=np.ceil(maxfreq / 10) * 10 if maxfreq % 10 else maxfreq + 10)"
   ]
  },
  {
   "cell_type": "code",
   "execution_count": 43,
   "metadata": {
    "colab": {
     "base_uri": "https://localhost:8080/",
     "height": 393
    },
    "colab_type": "code",
    "id": "3NqdNtA0dtwR",
    "outputId": "180b5ff8-6233-4bfe-d25b-406bcc7e4d59"
   },
   "outputs": [
    {
     "data": {
      "text/plain": [
       "(0.0, 290.0)"
      ]
     },
     "execution_count": 43,
     "metadata": {
      "tags": []
     },
     "output_type": "execute_result"
    },
    {
     "data": {
      "image/png": "[encoded data removed]",
      "text/plain": [
       "<matplotlib.figure.Figure at 0x7fcaebcc9e10>"
      ]
     },
     "metadata": {
      "tags": []
     },
     "output_type": "display_data"
    }
   ],
   "source": [
    "import matplotlib.pyplot as plt\n",
    "\n",
    "# An \"interface\" to matplotlib.axes.Axes.hist() method\n",
    "n, bins, patches = plt.hist(x=train['Feature_2'], bins='auto', color='#0504aa',\n",
    "                            alpha=0.7, rwidth=0.85)\n",
    "plt.grid(axis='y', alpha=0.75)\n",
    "plt.xlabel('Feature_2')\n",
    "plt.ylabel('Frequency')\n",
    "plt.title('Histogram Distribution of Feature_2')\n",
    "#plt.text(23, 45, r'$\\mu=15, b=3$')\n",
    "maxfreq = n.max()\n",
    "# Set a clean upper y-axis limit.\n",
    "plt.ylim(ymax=np.ceil(maxfreq / 10) * 10 if maxfreq % 10 else maxfreq + 10)"
   ]
  },
  {
   "cell_type": "code",
   "execution_count": 44,
   "metadata": {
    "colab": {
     "base_uri": "https://localhost:8080/",
     "height": 393
    },
    "colab_type": "code",
    "id": "7ry-aftqdt1t",
    "outputId": "ab7a199b-2d80-4351-c81c-2de2d56d5449"
   },
   "outputs": [
    {
     "data": {
      "text/plain": [
       "(0.0, 540.0)"
      ]
     },
     "execution_count": 44,
     "metadata": {
      "tags": []
     },
     "output_type": "execute_result"
    },
    {
     "data": {
      "image/png": "[encoded data removed]",
      "text/plain": [
       "<matplotlib.figure.Figure at 0x7fcaebb61c50>"
      ]
     },
     "metadata": {
      "tags": []
     },
     "output_type": "display_data"
    }
   ],
   "source": [
    "import matplotlib.pyplot as plt\n",
    "\n",
    "# An \"interface\" to matplotlib.axes.Axes.hist() method\n",
    "n, bins, patches = plt.hist(x=train['Feature_3'], bins='auto', color='#0504aa',\n",
    "                            alpha=0.7, rwidth=0.85)\n",
    "plt.grid(axis='y', alpha=0.75)\n",
    "plt.xlabel('Feature_3')\n",
    "plt.ylabel('Frequency')\n",
    "plt.title('Histogram Distribution of Feature_3')\n",
    "#plt.text(23, 45, r'$\\mu=15, b=3$')\n",
    "maxfreq = n.max()\n",
    "# Set a clean upper y-axis limit.\n",
    "plt.ylim(ymax=np.ceil(maxfreq / 10) * 10 if maxfreq % 10 else maxfreq + 10)"
   ]
  },
  {
   "cell_type": "code",
   "execution_count": 45,
   "metadata": {
    "colab": {
     "base_uri": "https://localhost:8080/",
     "height": 393
    },
    "colab_type": "code",
    "id": "iXeBRlFhXc78",
    "outputId": "89d17b53-9ae8-41c0-8874-0985354d3857"
   },
   "outputs": [
    {
     "data": {
      "text/plain": [
       "(0.0, 540.0)"
      ]
     },
     "execution_count": 45,
     "metadata": {
      "tags": []
     },
     "output_type": "execute_result"
    },
    {
     "data": {
      "image/png": "[encoded data removed]",
      "text/plain": [
       "<matplotlib.figure.Figure at 0x7fcaeb8f6978>"
      ]
     },
     "metadata": {
      "tags": []
     },
     "output_type": "display_data"
    }
   ],
   "source": [
    "import matplotlib.pyplot as plt\n",
    "\n",
    "# An \"interface\" to matplotlib.axes.Axes.hist() method\n",
    "n, bins, patches = plt.hist(x=train['Feature_4'], bins='auto', color='#0504aa',\n",
    "                            alpha=0.7, rwidth=0.85)\n",
    "plt.grid(axis='y', alpha=0.75)\n",
    "plt.xlabel('Feature_4')\n",
    "plt.ylabel('Frequency')\n",
    "plt.title('Histogram Distribution of Feature_4')\n",
    "#plt.text(23, 45, r'$\\mu=15, b=3$')\n",
    "maxfreq = n.max()\n",
    "# Set a clean upper y-axis limit.\n",
    "plt.ylim(ymax=np.ceil(maxfreq / 10) * 10 if maxfreq % 10 else maxfreq + 10)"
   ]
  },
  {
   "cell_type": "code",
   "execution_count": 46,
   "metadata": {
    "colab": {
     "base_uri": "https://localhost:8080/",
     "height": 393
    },
    "colab_type": "code",
    "id": "Uf6vkIg9Xc6v",
    "outputId": "b157abf9-c02f-4f6d-a4c5-f1beb54fbf3e"
   },
   "outputs": [
    {
     "data": {
      "text/plain": [
       "(0.0, 840.0)"
      ]
     },
     "execution_count": 46,
     "metadata": {
      "tags": []
     },
     "output_type": "execute_result"
    },
    {
     "data": {
      "image/png": "[encoded data removed]",
      "text/plain": [
       "<matplotlib.figure.Figure at 0x7fcaebab30b8>"
      ]
     },
     "metadata": {
      "tags": []
     },
     "output_type": "display_data"
    }
   ],
   "source": [
    "import matplotlib.pyplot as plt\n",
    "\n",
    "# An \"interface\" to matplotlib.axes.Axes.hist() method\n",
    "n, bins, patches = plt.hist(x=train['Feature_9'], bins='auto', color='#0504aa',\n",
    "                            alpha=0.7, rwidth=0.85)\n",
    "plt.grid(axis='y', alpha=0.75)\n",
    "plt.xlabel('Feature_9')\n",
    "plt.ylabel('Frequency')\n",
    "plt.title('Histogram Distribution of Feature_9')\n",
    "#plt.text(23, 45, r'$\\mu=15, b=3$')\n",
    "maxfreq = n.max()\n",
    "# Set a clean upper y-axis limit.\n",
    "plt.ylim(ymax=np.ceil(maxfreq / 10) * 10 if maxfreq % 10 else maxfreq + 10)"
   ]
  },
  {
   "cell_type": "code",
   "execution_count": 23,
   "metadata": {
    "colab": {
     "base_uri": "https://localhost:8080/",
     "height": 118
    },
    "colab_type": "code",
    "id": "kEmXo8dQXco3",
    "outputId": "d5a91083-7228-49ba-b865-83c6c0097dad"
   },
   "outputs": [
    {
     "name": "stderr",
     "output_type": "stream",
     "text": [
      "/usr/local/lib/python3.6/dist-packages/ipykernel_launcher.py:1: SettingWithCopyWarning: \n",
      "A value is trying to be set on a copy of a slice from a DataFrame.\n",
      "Try using .loc[row_indexer,col_indexer] = value instead\n",
      "\n",
      "See the caveats in the documentation: http://pandas.pydata.org/pandas-docs/stable/indexing.html#indexing-view-versus-copy\n",
      "  \"\"\"Entry point for launching an IPython kernel.\n"
     ]
    }
   ],
   "source": [
    "train[\"Feature_10\"] = np.log(train.Feature_10)"
   ]
  },
  {
   "cell_type": "code",
   "execution_count": 48,
   "metadata": {
    "colab": {
     "base_uri": "https://localhost:8080/",
     "height": 195
    },
    "colab_type": "code",
    "id": "9tkKTe9iMZqX",
    "outputId": "30f05d0c-6d39-4c60-ad53-dde57f1b0919"
   },
   "outputs": [
    {
     "data": {
      "text/html": [
       "<div>\n",
       "<style scoped>\n",
       "    .dataframe tbody tr th:only-of-type {\n",
       "        vertical-align: middle;\n",
       "    }\n",
       "\n",
       "    .dataframe tbody tr th {\n",
       "        vertical-align: top;\n",
       "    }\n",
       "\n",
       "    .dataframe thead th {\n",
       "        text-align: right;\n",
       "    }\n",
       "</style>\n",
       "<table border=\"1\" class=\"dataframe\">\n",
       "  <thead>\n",
       "    <tr style=\"text-align: right;\">\n",
       "      <th></th>\n",
       "      <th>ID</th>\n",
       "      <th>Feature_1</th>\n",
       "      <th>Feature_2</th>\n",
       "      <th>Feature_3</th>\n",
       "      <th>Feature_4</th>\n",
       "      <th>Feature_5</th>\n",
       "      <th>Feature_6</th>\n",
       "      <th>Feature_8</th>\n",
       "      <th>Feature_9</th>\n",
       "      <th>Feature_10</th>\n",
       "      <th>Feature_7</th>\n",
       "    </tr>\n",
       "  </thead>\n",
       "  <tbody>\n",
       "    <tr>\n",
       "      <th>2955</th>\n",
       "      <td>3527</td>\n",
       "      <td>5355.000</td>\n",
       "      <td>7142.9</td>\n",
       "      <td>156059</td>\n",
       "      <td>1834</td>\n",
       "      <td>14</td>\n",
       "      <td>22</td>\n",
       "      <td>6</td>\n",
       "      <td>14</td>\n",
       "      <td>5.783825</td>\n",
       "      <td>0</td>\n",
       "    </tr>\n",
       "    <tr>\n",
       "      <th>2841</th>\n",
       "      <td>3398</td>\n",
       "      <td>2700.000</td>\n",
       "      <td>5000.0</td>\n",
       "      <td>179873</td>\n",
       "      <td>1796</td>\n",
       "      <td>0</td>\n",
       "      <td>22</td>\n",
       "      <td>6</td>\n",
       "      <td>20</td>\n",
       "      <td>5.783825</td>\n",
       "      <td>0</td>\n",
       "    </tr>\n",
       "    <tr>\n",
       "      <th>1540</th>\n",
       "      <td>1850</td>\n",
       "      <td>3299.989</td>\n",
       "      <td>2637.3</td>\n",
       "      <td>177979</td>\n",
       "      <td>1870</td>\n",
       "      <td>7</td>\n",
       "      <td>0</td>\n",
       "      <td>3</td>\n",
       "      <td>14</td>\n",
       "      <td>6.109248</td>\n",
       "      <td>0</td>\n",
       "    </tr>\n",
       "    <tr>\n",
       "      <th>3019</th>\n",
       "      <td>3599</td>\n",
       "      <td>3927.000</td>\n",
       "      <td>8403.4</td>\n",
       "      <td>111132</td>\n",
       "      <td>1124</td>\n",
       "      <td>7</td>\n",
       "      <td>0</td>\n",
       "      <td>6</td>\n",
       "      <td>10</td>\n",
       "      <td>6.263398</td>\n",
       "      <td>0</td>\n",
       "    </tr>\n",
       "    <tr>\n",
       "      <th>3211</th>\n",
       "      <td>3815</td>\n",
       "      <td>2199.953</td>\n",
       "      <td>11000.0</td>\n",
       "      <td>87580</td>\n",
       "      <td>1124</td>\n",
       "      <td>17</td>\n",
       "      <td>0</td>\n",
       "      <td>6</td>\n",
       "      <td>11</td>\n",
       "      <td>6.620073</td>\n",
       "      <td>0</td>\n",
       "    </tr>\n",
       "  </tbody>\n",
       "</table>\n",
       "</div>"
      ],
      "text/plain": [
       "        ID  Feature_1  Feature_2  Feature_3  Feature_4 Feature_5 Feature_6  \\\n",
       "2955  3527   5355.000     7142.9     156059       1834        14        22   \n",
       "2841  3398   2700.000     5000.0     179873       1796         0        22   \n",
       "1540  1850   3299.989     2637.3     177979       1870         7         0   \n",
       "3019  3599   3927.000     8403.4     111132       1124         7         0   \n",
       "3211  3815   2199.953    11000.0      87580       1124        17         0   \n",
       "\n",
       "     Feature_8  Feature_9  Feature_10 Feature_7  \n",
       "2955         6         14    5.783825         0  \n",
       "2841         6         20    5.783825         0  \n",
       "1540         3         14    6.109248         0  \n",
       "3019         6         10    6.263398         0  \n",
       "3211         6         11    6.620073         0  "
      ]
     },
     "execution_count": 48,
     "metadata": {
      "tags": []
     },
     "output_type": "execute_result"
    }
   ],
   "source": [
    "train.head()"
   ]
  },
  {
   "cell_type": "code",
   "execution_count": 24,
   "metadata": {
    "colab": {
     "base_uri": "https://localhost:8080/",
     "height": 34
    },
    "colab_type": "code",
    "id": "8iJvLEmBLvZ3",
    "outputId": "a4a503a3-9ffc-4a83-d84d-43908ef789c2"
   },
   "outputs": [
    {
     "data": {
      "text/plain": [
       "((3400, 11), (382, 11))"
      ]
     },
     "execution_count": 24,
     "metadata": {
      "tags": []
     },
     "output_type": "execute_result"
    }
   ],
   "source": [
    "train.shape, test.shape"
   ]
  },
  {
   "cell_type": "code",
   "execution_count": 0,
   "metadata": {
    "colab": {},
    "colab_type": "code",
    "collapsed": true,
    "id": "SpOd3o_zlC2Z"
   },
   "outputs": [],
   "source": [
    "from sklearn.preprocessing import MinMaxScaler\n",
    "scaler= MinMaxScaler()"
   ]
  },
  {
   "cell_type": "code",
   "execution_count": 0,
   "metadata": {
    "colab": {},
    "colab_type": "code",
    "collapsed": true,
    "id": "AQ4lTDAtlDq8"
   },
   "outputs": [],
   "source": [
    "X1_train_org = train.drop(['ID','Feature_5','Feature_6','Feature_7','Feature_8','Feature_10'],axis = 1)\n",
    "X1_test_org = test.drop(['ID','Feature_5','Feature_6','Feature_7','Feature_8','Feature_10'],axis = 1)"
   ]
  },
  {
   "cell_type": "code",
   "execution_count": 27,
   "metadata": {
    "colab": {
     "base_uri": "https://localhost:8080/",
     "height": 34
    },
    "colab_type": "code",
    "id": "VclINZEemZ0K",
    "outputId": "0dab9b49-bf26-4176-af87-a322666b2d48"
   },
   "outputs": [
    {
     "data": {
      "text/plain": [
       "((3400, 5), (382, 5))"
      ]
     },
     "execution_count": 27,
     "metadata": {
      "tags": []
     },
     "output_type": "execute_result"
    }
   ],
   "source": [
    "X1_train_org.shape, X1_test_org.shape"
   ]
  },
  {
   "cell_type": "code",
   "execution_count": 0,
   "metadata": {
    "colab": {},
    "colab_type": "code",
    "collapsed": true,
    "id": "hb0u2bStldXD"
   },
   "outputs": [],
   "source": [
    "X11 = scaler.fit_transform(X1_train_org)\n",
    "X22 = scaler.transform(X1_test_org)"
   ]
  },
  {
   "cell_type": "code",
   "execution_count": 0,
   "metadata": {
    "colab": {},
    "colab_type": "code",
    "collapsed": true,
    "id": "Ht5IRA4apm_P"
   },
   "outputs": [],
   "source": [
    "X11 = pd.DataFrame(X11)\n",
    "X22 = pd.DataFrame(X22)"
   ]
  },
  {
   "cell_type": "code",
   "execution_count": 0,
   "metadata": {
    "colab": {},
    "colab_type": "code",
    "collapsed": true,
    "id": "0RlbUYaendrL"
   },
   "outputs": [],
   "source": [
    "X12 = train[['Feature_5','Feature_6','Feature_7','Feature_8','Feature_10']]"
   ]
  },
  {
   "cell_type": "code",
   "execution_count": 0,
   "metadata": {
    "colab": {},
    "colab_type": "code",
    "collapsed": true,
    "id": "pYWdqa3Qndtm"
   },
   "outputs": [],
   "source": [
    "X21 = test[['Feature_5','Feature_6','Feature_7','Feature_8','Feature_10']]"
   ]
  },
  {
   "cell_type": "code",
   "execution_count": 33,
   "metadata": {
    "colab": {
     "base_uri": "https://localhost:8080/",
     "height": 34
    },
    "colab_type": "code",
    "id": "TPSns0NRndwT",
    "outputId": "2e760afe-4ca3-429a-b35e-b5a490f4c5b8"
   },
   "outputs": [
    {
     "data": {
      "text/plain": [
       "((3400, 5), (3400, 5), (382, 5), (382, 5))"
      ]
     },
     "execution_count": 33,
     "metadata": {
      "tags": []
     },
     "output_type": "execute_result"
    }
   ],
   "source": [
    "X11.shape, X12.shape, X21.shape, X22.shape"
   ]
  },
  {
   "cell_type": "code",
   "execution_count": 0,
   "metadata": {
    "colab": {},
    "colab_type": "code",
    "collapsed": true,
    "id": "nLcLzJl7pV5K"
   },
   "outputs": [],
   "source": [
    "# X11.dtypes, X12.dtypes, X21.dtypes, X22.dtypes"
   ]
  },
  {
   "cell_type": "code",
   "execution_count": 0,
   "metadata": {
    "colab": {},
    "colab_type": "code",
    "collapsed": true,
    "id": "G_yfSerInd2W"
   },
   "outputs": [],
   "source": [
    "df_test = pd.concat([X22.reset_index(drop=True), X21.reset_index(drop=True)], axis=1)"
   ]
  },
  {
   "cell_type": "code",
   "execution_count": 0,
   "metadata": {
    "colab": {},
    "colab_type": "code",
    "collapsed": true,
    "id": "wkKG6RZ7u_2l"
   },
   "outputs": [],
   "source": [
    "df_test = df_test.rename(index=str, columns={0: \"Feature_1\",1: \"Feature_2\",2: \"Feature_3\",3: \"Feature_4\",4: \"Feature_9\"})"
   ]
  },
  {
   "cell_type": "code",
   "execution_count": 0,
   "metadata": {
    "colab": {},
    "colab_type": "code",
    "collapsed": true,
    "id": "E_od18Pmnd48"
   },
   "outputs": [],
   "source": [
    "df_train = pd.concat([X11.reset_index(drop=True), X12.reset_index(drop=True)], axis=1)"
   ]
  },
  {
   "cell_type": "code",
   "execution_count": 0,
   "metadata": {
    "colab": {},
    "colab_type": "code",
    "collapsed": true,
    "id": "sf5K5-5yuhAI"
   },
   "outputs": [],
   "source": [
    "df_train = df_train.rename(index=str, columns={0: \"Feature_1\",1: \"Feature_2\",2: \"Feature_3\",3: \"Feature_4\",4: \"Feature_9\"})"
   ]
  },
  {
   "cell_type": "code",
   "execution_count": 39,
   "metadata": {
    "colab": {
     "base_uri": "https://localhost:8080/",
     "height": 34
    },
    "colab_type": "code",
    "id": "6s272RS0pLpX",
    "outputId": "2c516a9c-27bb-4ed4-cdf1-aac564d4c7ef"
   },
   "outputs": [
    {
     "data": {
      "text/plain": [
       "((3400, 10), (382, 10))"
      ]
     },
     "execution_count": 39,
     "metadata": {
      "tags": []
     },
     "output_type": "execute_result"
    }
   ],
   "source": [
    "df_train.shape, df_test.shape"
   ]
  },
  {
   "cell_type": "code",
   "execution_count": 0,
   "metadata": {
    "colab": {},
    "colab_type": "code",
    "collapsed": true,
    "id": "xoCQMXeGjUDb"
   },
   "outputs": [],
   "source": [
    "# creating X and y data set\n",
    "Y = df_train['Feature_10'].values\n",
    "X1 = df_train.drop(['Feature_10'],axis = 1)\n",
    "X2 = df_test.drop(['Feature_10'],axis = 1)"
   ]
  },
  {
   "cell_type": "code",
   "execution_count": 41,
   "metadata": {
    "colab": {
     "base_uri": "https://localhost:8080/",
     "height": 34
    },
    "colab_type": "code",
    "id": "gpfFtoSlMNUr",
    "outputId": "33f9b57d-d79d-4382-eb1a-9c24b32a809f"
   },
   "outputs": [
    {
     "data": {
      "text/plain": [
       "((3400,), (3400, 9), (382, 9))"
      ]
     },
     "execution_count": 41,
     "metadata": {
      "tags": []
     },
     "output_type": "execute_result"
    }
   ],
   "source": [
    "Y.shape, X1.shape, X2.shape"
   ]
  },
  {
   "cell_type": "code",
   "execution_count": 0,
   "metadata": {
    "colab": {},
    "colab_type": "code",
    "collapsed": true,
    "id": "zebbMBG6OJtM"
   },
   "outputs": [],
   "source": [
    "Xbef = pd.get_dummies(X1,columns=['Feature_5','Feature_6','Feature_7','Feature_8'])\n",
    "Xbef_test = pd.get_dummies(X2,columns=['Feature_5','Feature_6','Feature_7','Feature_8'])"
   ]
  },
  {
   "cell_type": "code",
   "execution_count": 45,
   "metadata": {
    "colab": {
     "base_uri": "https://localhost:8080/",
     "height": 319
    },
    "colab_type": "code",
    "id": "m-C4h5wuGy7n",
    "outputId": "5a8aa2e7-e2ec-49c7-9f74-43099c848641"
   },
   "outputs": [
    {
     "data": {
      "text/plain": [
       "(Index(['Feature_1', 'Feature_2', 'Feature_3', 'Feature_4', 'Feature_9',\n",
       "        'Feature_5_0', 'Feature_5_1', 'Feature_5_7', 'Feature_5_9',\n",
       "        'Feature_5_14', 'Feature_5_17', 'Feature_5_18', 'Feature_5_20',\n",
       "        'Feature_6_0', 'Feature_6_1', 'Feature_6_2', 'Feature_6_11',\n",
       "        'Feature_6_13', 'Feature_6_14', 'Feature_6_20', 'Feature_6_22',\n",
       "        'Feature_7_0', 'Feature_7_1', 'Feature_7_2', 'Feature_7_3',\n",
       "        'Feature_7_4', 'Feature_7_5', 'Feature_7_6', 'Feature_8_1',\n",
       "        'Feature_8_3', 'Feature_8_5', 'Feature_8_6'],\n",
       "       dtype='object'),\n",
       " Index(['Feature_1', 'Feature_2', 'Feature_3', 'Feature_4', 'Feature_9',\n",
       "        'Feature_5_0', 'Feature_5_1', 'Feature_5_7', 'Feature_5_14',\n",
       "        'Feature_5_17', 'Feature_5_18', 'Feature_5_20', 'Feature_6_0',\n",
       "        'Feature_6_1', 'Feature_6_2', 'Feature_6_11', 'Feature_6_14',\n",
       "        'Feature_6_17', 'Feature_6_20', 'Feature_6_22', 'Feature_7_0',\n",
       "        'Feature_7_1', 'Feature_7_2', 'Feature_7_3', 'Feature_7_4',\n",
       "        'Feature_7_5', 'Feature_7_6', 'Feature_8_1', 'Feature_8_3',\n",
       "        'Feature_8_5', 'Feature_8_6'],\n",
       "       dtype='object'))"
      ]
     },
     "execution_count": 45,
     "metadata": {
      "tags": []
     },
     "output_type": "execute_result"
    }
   ],
   "source": [
    "Xbef.columns,Xbef_test.columns"
   ]
  },
  {
   "cell_type": "code",
   "execution_count": 0,
   "metadata": {
    "colab": {},
    "colab_type": "code",
    "collapsed": true,
    "id": "5M_mdEqRNSFE"
   },
   "outputs": [],
   "source": [
    "Xbef = Xbef.drop(['Feature_5_9','Feature_6_13'],axis = 1)\n",
    "Xbef_test = Xbef_test.drop(['Feature_6_17'],axis = 1)"
   ]
  },
  {
   "cell_type": "code",
   "execution_count": 47,
   "metadata": {
    "colab": {
     "base_uri": "https://localhost:8080/",
     "height": 34
    },
    "colab_type": "code",
    "id": "EhKYhILUOrmd",
    "outputId": "11891fc0-0579-4bbf-c18a-24f93945eed1"
   },
   "outputs": [
    {
     "data": {
      "text/plain": [
       "((3400, 30), (382, 30))"
      ]
     },
     "execution_count": 47,
     "metadata": {
      "tags": []
     },
     "output_type": "execute_result"
    }
   ],
   "source": [
    "Xbef.shape, Xbef_test.shape"
   ]
  },
  {
   "cell_type": "code",
   "execution_count": 0,
   "metadata": {
    "colab": {},
    "colab_type": "code",
    "collapsed": true,
    "id": "PeG8idjQOXWC"
   },
   "outputs": [],
   "source": [
    "from sklearn import preprocessing"
   ]
  },
  {
   "cell_type": "code",
   "execution_count": 0,
   "metadata": {
    "colab": {},
    "colab_type": "code",
    "collapsed": true,
    "id": "FxcwEpI_OJ2N"
   },
   "outputs": [],
   "source": [
    "min_max_scalar = preprocessing.MinMaxScaler()\n",
    "X = min_max_scalar.fit_transform(Xbef)\n",
    "X_test = min_max_scalar.transform(Xbef_test)"
   ]
  },
  {
   "cell_type": "code",
   "execution_count": 51,
   "metadata": {
    "colab": {
     "base_uri": "https://localhost:8080/",
     "height": 84
    },
    "colab_type": "code",
    "id": "I5Kg6LE9iP4m",
    "outputId": "c8d30349-b45b-4427-b967-c5868d2add90"
   },
   "outputs": [
    {
     "name": "stdout",
     "output_type": "stream",
     "text": [
      "The shape of Target set is :(2720, 30)\n",
      "The shape of feature set is :(2720,)\n",
      "The shape of Target set is :(680, 30)\n",
      "The shape of feature set is :(680,)\n"
     ]
    }
   ],
   "source": [
    "# creating feature set and target set\n",
    "from sklearn.model_selection import train_test_split\n",
    "X_train, X_test, y_train, y_test = train_test_split(X,Y, test_size = 0.20, random_state = 10)\n",
    "\n",
    "print(\"The shape of Target set is :\"+str(X_train.shape))\n",
    "print(\"The shape of feature set is :\"+str(y_train.shape))\n",
    "print(\"The shape of Target set is :\"+str(X_test.shape))\n",
    "print(\"The shape of feature set is :\"+str(y_test.shape))"
   ]
  },
  {
   "cell_type": "code",
   "execution_count": 0,
   "metadata": {
    "colab": {},
    "colab_type": "code",
    "collapsed": true,
    "id": "groRq6ZQkeev"
   },
   "outputs": [],
   "source": [
    "from sklearn.linear_model import LinearRegression"
   ]
  },
  {
   "cell_type": "code",
   "execution_count": 0,
   "metadata": {
    "colab": {},
    "colab_type": "code",
    "collapsed": true,
    "id": "AFsAqdvJkehW"
   },
   "outputs": [],
   "source": [
    "lr = LinearRegression()"
   ]
  },
  {
   "cell_type": "code",
   "execution_count": 54,
   "metadata": {
    "colab": {
     "base_uri": "https://localhost:8080/",
     "height": 34
    },
    "colab_type": "code",
    "id": "YtTE32IXkejz",
    "outputId": "783eb0da-bfa9-41f2-b539-405b7098668b"
   },
   "outputs": [
    {
     "data": {
      "text/plain": [
       "LinearRegression(copy_X=True, fit_intercept=True, n_jobs=1, normalize=False)"
      ]
     },
     "execution_count": 54,
     "metadata": {
      "tags": []
     },
     "output_type": "execute_result"
    }
   ],
   "source": [
    "lr.fit(X_train,y_train)"
   ]
  },
  {
   "cell_type": "code",
   "execution_count": 0,
   "metadata": {
    "colab": {},
    "colab_type": "code",
    "collapsed": true,
    "id": "3OgRbVj9vcPF"
   },
   "outputs": [],
   "source": [
    "y_predict=lr.predict(X_test)"
   ]
  },
  {
   "cell_type": "code",
   "execution_count": 56,
   "metadata": {
    "colab": {
     "base_uri": "https://localhost:8080/",
     "height": 34
    },
    "colab_type": "code",
    "id": "hzLScvEwvcRv",
    "outputId": "bfef5c49-dfba-4531-eee6-ba16b038cac3"
   },
   "outputs": [
    {
     "data": {
      "text/plain": [
       "0.7909436980814615"
      ]
     },
     "execution_count": 56,
     "metadata": {
      "tags": []
     },
     "output_type": "execute_result"
    }
   ],
   "source": [
    "lr.score(X_test,y_test)"
   ]
  },
  {
   "cell_type": "code",
   "execution_count": 0,
   "metadata": {
    "colab": {},
    "colab_type": "code",
    "collapsed": true,
    "id": "AAzDy7M2vcWN"
   },
   "outputs": [],
   "source": [
    "predictions = lr.predict(X_test)"
   ]
  },
  {
   "cell_type": "code",
   "execution_count": 58,
   "metadata": {
    "colab": {
     "base_uri": "https://localhost:8080/",
     "height": 67
    },
    "colab_type": "code",
    "id": "1XJJS4lGvcYU",
    "outputId": "976ffe74-d4cf-4eed-e81f-4a04f95c89aa"
   },
   "outputs": [
    {
     "name": "stdout",
     "output_type": "stream",
     "text": [
      "MAE for test data set: 0.27909869190946734\n",
      "MSE for test data set : 0.12805715210499657\n",
      "RMSE for test data set: 0.3578507399810661\n"
     ]
    }
   ],
   "source": [
    "from sklearn import metrics\n",
    "import numpy as np\n",
    "print('MAE for test data set:', metrics.mean_absolute_error(y_test, predictions))\n",
    "print('MSE for test data set :', metrics.mean_squared_error(y_test, predictions))\n",
    "print('RMSE for test data set:', np.sqrt(metrics.mean_squared_error(y_test, predictions)))"
   ]
  },
  {
   "cell_type": "code",
   "execution_count": 59,
   "metadata": {
    "colab": {
     "base_uri": "https://localhost:8080/",
     "height": 67
    },
    "colab_type": "code",
    "id": "ip4UJIsGvcaj",
    "outputId": "fe57339a-ce75-4b3e-fbd0-016482d978b2"
   },
   "outputs": [
    {
     "name": "stdout",
     "output_type": "stream",
     "text": [
      "MAE for train data set: 0.26800204694959145\n",
      "MSE for train data set : 0.12476963516747726\n",
      "RMSE for train data set: 0.3532274552855104\n"
     ]
    }
   ],
   "source": [
    "from sklearn import metrics\n",
    "print('MAE for train data set:', metrics.mean_absolute_error(y_train, lr.predict( X_train)))\n",
    "print('MSE for train data set :', metrics.mean_squared_error(y_train, lr.predict( X_train)))\n",
    "print('RMSE for train data set:', np.sqrt(metrics.mean_squared_error(y_train, lr.predict( X_train))))"
   ]
  },
  {
   "cell_type": "code",
   "execution_count": 60,
   "metadata": {
    "colab": {
     "base_uri": "https://localhost:8080/",
     "height": 50
    },
    "colab_type": "code",
    "id": "CsrlD1I2dDc4",
    "outputId": "08631523-daf6-49ff-fdf7-013a2c92a510"
   },
   "outputs": [
    {
     "name": "stdout",
     "output_type": "stream",
     "text": [
      "R-squared score (training): 0.788\n",
      "R-squared score (test): 0.791\n"
     ]
    }
   ],
   "source": [
    "print('R-squared score (training): {:.3f}'\n",
    "     .format(lr.score(X_train, y_train)))\n",
    "print('R-squared score (test): {:.3f}'\n",
    "     .format(lr.score(X_test, y_test)))"
   ]
  },
  {
   "cell_type": "code",
   "execution_count": 0,
   "metadata": {
    "colab": {},
    "colab_type": "code",
    "collapsed": true,
    "id": "sdR8C3g4vzAq"
   },
   "outputs": [],
   "source": [
    "from sklearn.model_selection import GridSearchCV\n",
    "from sklearn.linear_model import Ridge"
   ]
  },
  {
   "cell_type": "code",
   "execution_count": 0,
   "metadata": {
    "colab": {},
    "colab_type": "code",
    "collapsed": true,
    "id": "byKNmxWWwjv3"
   },
   "outputs": [],
   "source": [
    "ridge= Ridge(alpha=5 , max_iter= 10000)\n",
    "param_grid = {'alpha':[0.001,0.05,0.1,1,10,100],\n",
    "             'max_iter':[1,10,100,1000,10000]}"
   ]
  },
  {
   "cell_type": "code",
   "execution_count": 63,
   "metadata": {
    "colab": {
     "base_uri": "https://localhost:8080/",
     "height": 202
    },
    "colab_type": "code",
    "id": "InjuPXJ9wnPz",
    "outputId": "6d904cb8-2e5d-4651-dccc-7cb06f0c3d7e"
   },
   "outputs": [
    {
     "name": "stdout",
     "output_type": "stream",
     "text": [
      "ridge regression linear model intercept: 8.784418615810127\n",
      "ridge regression linear model coeff:\n",
      "[ 1.66305698 -1.3495482  -1.0494998   1.51782451 -2.63090652 -0.35378536\n",
      "  0.02698624 -0.23525852 -0.17166912 -0.13691895 -0.21191992  0.02267116\n",
      " -0.10473112  0.1690231   0.08277882 -0.06494988  0.06570459  0.22043355\n",
      " -0.19788849 -0.38125166 -0.21471327 -0.12282553 -0.00855259  0.08554692\n",
      "  0.22300612  0.41879001 -0.06642145  0.01347198  0.07327749 -0.02032802]\n",
      "R-squared score (training): 0.791\n",
      "R-squared score (test): 0.795\n",
      "Number of non-zero features: 30\n",
      "MAE for train data set : 0.2656516579390247\n"
     ]
    }
   ],
   "source": [
    "linridge = Ridge().fit(X_train, y_train)\n",
    "\n",
    "print('ridge regression linear model intercept: {}'\n",
    "     .format(linridge.intercept_))\n",
    "print('ridge regression linear model coeff:\\n{}'\n",
    "     .format(linridge.coef_))\n",
    "print('R-squared score (training): {:.3f}'\n",
    "     .format(linridge.score(X_train, y_train)))\n",
    "print('R-squared score (test): {:.3f}'\n",
    "     .format(linridge.score(X_test, y_test)))\n",
    "print('Number of non-zero features: {}'\n",
    "     .format(np.sum(linridge.coef_ != 0)))\n",
    "print('MAE for train data set :', metrics.mean_absolute_error(y_train, linridge.predict( X_train)))"
   ]
  },
  {
   "cell_type": "code",
   "execution_count": 81,
   "metadata": {
    "colab": {
     "base_uri": "https://localhost:8080/",
     "height": 403
    },
    "colab_type": "code",
    "id": "d_bObIKUv5Rd",
    "outputId": "00ad53f9-0562-43b3-dd6f-4e780fd218a3"
   },
   "outputs": [
    {
     "name": "stdout",
     "output_type": "stream",
     "text": [
      "Ridge regression: effect of alpha regularization parameter\n",
      "\n",
      "Alpha = 0.00\n",
      "num abs(coeff) > 1.0: 53,     r-squared training: 0.79, r-squared test: -112854784765186151915978752.00\n",
      "\n",
      "Alpha = 1.00\n",
      "num abs(coeff) > 1.0: 4,     r-squared training: 0.80, r-squared test: 0.79\n",
      "\n",
      "Alpha = 10.00\n",
      "num abs(coeff) > 1.0: 0,     r-squared training: 0.77, r-squared test: 0.77\n",
      "\n",
      "Alpha = 20.00\n",
      "num abs(coeff) > 1.0: 0,     r-squared training: 0.76, r-squared test: 0.76\n",
      "\n",
      "Alpha = 50.00\n",
      "num abs(coeff) > 1.0: 0,     r-squared training: 0.72, r-squared test: 0.72\n",
      "\n",
      "Alpha = 100.00\n",
      "num abs(coeff) > 1.0: 0,     r-squared training: 0.68, r-squared test: 0.68\n",
      "\n",
      "Alpha = 1000.00\n",
      "num abs(coeff) > 1.0: 0,     r-squared training: 0.38, r-squared test: 0.37\n",
      "\n"
     ]
    }
   ],
   "source": [
    "print('Ridge regression: effect of alpha regularization parameter\\n')\n",
    "for this_alpha in [0, 1, 10, 20, 50, 100, 1000]:\n",
    "    linridge = Ridge(alpha = this_alpha).fit(X_train, y_train)\n",
    "    r2_train = linridge.score(X_train, y_train)\n",
    "    r2_test = linridge.score(X_test, y_test)\n",
    "    num_coeff_bigger = np.sum(abs(linridge.coef_) > 1.0)\n",
    "    print('Alpha = {:.2f}\\nnum abs(coeff) > 1.0: {}, \\\n",
    "    r-squared training: {:.2f}, r-squared test: {:.2f}\\n'\n",
    "    .format(this_alpha, num_coeff_bigger, r2_train, r2_test))"
   ]
  },
  {
   "cell_type": "code",
   "execution_count": 82,
   "metadata": {
    "colab": {
     "base_uri": "https://localhost:8080/",
     "height": 134
    },
    "colab_type": "code",
    "id": "8bzrGp59v5Tt",
    "outputId": "ab4fba41-7900-4490-f8c0-b4e8091a8790"
   },
   "outputs": [
    {
     "data": {
      "text/plain": [
       "GridSearchCV(cv=5, error_score='raise',\n",
       "       estimator=Ridge(alpha=1.0, copy_X=True, fit_intercept=True, max_iter=None,\n",
       "   normalize=False, random_state=None, solver='auto', tol=0.001),\n",
       "       fit_params=None, iid=True, n_jobs=1,\n",
       "       param_grid={'alpha': [0.001, 0.01, 0.1, 1, 100]},\n",
       "       pre_dispatch='2*n_jobs', refit=True, return_train_score='warn',\n",
       "       scoring=None, verbose=0)"
      ]
     },
     "execution_count": 82,
     "metadata": {
      "tags": []
     },
     "output_type": "execute_result"
    }
   ],
   "source": [
    "# finding best alpha by gridsearch\n",
    "from sklearn.model_selection import GridSearchCV\n",
    "param_grid = {'alpha': [0.001, 0.01, 0.1, 1, 100]}\n",
    "grid_search = GridSearchCV(Ridge(), param_grid, cv=5)\n",
    "grid_search.fit(X_train, y_train)"
   ]
  },
  {
   "cell_type": "code",
   "execution_count": 83,
   "metadata": {
    "colab": {
     "base_uri": "https://localhost:8080/",
     "height": 67
    },
    "colab_type": "code",
    "id": "E5v37B3kv5XZ",
    "outputId": "94aa6876-b9d4-45b0-8011-24f7fb627598"
   },
   "outputs": [
    {
     "name": "stdout",
     "output_type": "stream",
     "text": [
      "Best parameters: {'alpha': 1}\n",
      "Best cross-validation score: 0.79\n"
     ]
    },
    {
     "data": {
      "text/plain": [
       "{'alpha': 1}"
      ]
     },
     "execution_count": 83,
     "metadata": {
      "tags": []
     },
     "output_type": "execute_result"
    }
   ],
   "source": [
    "print(\"Best parameters: {}\".format(grid_search.best_params_))\n",
    "print(\"Best cross-validation score: {:.2f}\".format(grid_search.best_score_))\n",
    "\n",
    "grid_search= GridSearchCV(ridge,param_grid, cv=5)\n",
    "grid_search.fit(X_train, y_train)\n",
    "grid_search.best_params_"
   ]
  },
  {
   "cell_type": "code",
   "execution_count": 0,
   "metadata": {
    "colab": {},
    "colab_type": "code",
    "collapsed": true,
    "id": "6QKyiXiAxFT5"
   },
   "outputs": [],
   "source": [
    "from sklearn.model_selection import GridSearchCV\n",
    "from sklearn.linear_model import Lasso"
   ]
  },
  {
   "cell_type": "code",
   "execution_count": 86,
   "metadata": {
    "colab": {
     "base_uri": "https://localhost:8080/",
     "height": 524
    },
    "colab_type": "code",
    "id": "0UKp4Ru08sfg",
    "outputId": "4abd5964-146b-429a-872d-5b2a884d8ef8"
   },
   "outputs": [
    {
     "name": "stdout",
     "output_type": "stream",
     "text": [
      "Lasso regression: effect of alpha regularization parameter\n",
      "\n"
     ]
    },
    {
     "name": "stderr",
     "output_type": "stream",
     "text": [
      "/usr/local/lib/python3.6/dist-packages/ipykernel_launcher.py:3: UserWarning: With alpha=0, this algorithm does not converge well. You are advised to use the LinearRegression estimator\n",
      "  This is separate from the ipykernel package so we can avoid doing imports until\n",
      "/usr/local/lib/python3.6/dist-packages/sklearn/linear_model/coordinate_descent.py:477: UserWarning: Coordinate descent with no regularization may lead to unexpected results and is discouraged.\n",
      "  positive)\n"
     ]
    },
    {
     "name": "stdout",
     "output_type": "stream",
     "text": [
      "Alpha = 0.00\n",
      "num abs(coeff) > 1.0: 6,     r-squared training: 0.80, r-squared test: 0.79\n",
      "\n",
      "Alpha = 1.00\n",
      "num abs(coeff) > 1.0: 0,     r-squared training: 0.00, r-squared test: -0.00\n",
      "\n",
      "Alpha = 10.00\n",
      "num abs(coeff) > 1.0: 0,     r-squared training: 0.00, r-squared test: -0.00\n",
      "\n",
      "Alpha = 20.00\n",
      "num abs(coeff) > 1.0: 0,     r-squared training: 0.00, r-squared test: -0.00\n",
      "\n",
      "Alpha = 50.00\n",
      "num abs(coeff) > 1.0: 0,     r-squared training: 0.00, r-squared test: -0.00\n",
      "\n",
      "Alpha = 100.00\n",
      "num abs(coeff) > 1.0: 0,     r-squared training: 0.00, r-squared test: -0.00\n",
      "\n",
      "Alpha = 1000.00\n",
      "num abs(coeff) > 1.0: 0,     r-squared training: 0.00, r-squared test: -0.00\n",
      "\n"
     ]
    },
    {
     "name": "stderr",
     "output_type": "stream",
     "text": [
      "/usr/local/lib/python3.6/dist-packages/sklearn/linear_model/coordinate_descent.py:491: ConvergenceWarning: Objective did not converge. You might want to increase the number of iterations. Fitting data with very small alpha may cause precision problems.\n",
      "  ConvergenceWarning)\n"
     ]
    }
   ],
   "source": [
    "print('Lasso regression: effect of alpha regularization parameter\\n')\n",
    "for this_alpha in [0, 1, 10, 20, 50, 100, 1000]:\n",
    "    linlasso = Lasso(alpha = this_alpha).fit(X_train, y_train)\n",
    "    r2_train = linlasso.score(X_train, y_train)\n",
    "    r2_test = linlasso.score(X_test, y_test)\n",
    "    num_coeff_bigger = np.sum(abs(linlasso.coef_) > 1.0)\n",
    "    print('Alpha = {:.2f}\\nnum abs(coeff) > 1.0: {}, \\\n",
    "    r-squared training: {:.2f}, r-squared test: {:.2f}\\n'\n",
    "    .format(this_alpha, num_coeff_bigger, r2_train, r2_test))"
   ]
  },
  {
   "cell_type": "code",
   "execution_count": 87,
   "metadata": {
    "colab": {
     "base_uri": "https://localhost:8080/",
     "height": 151
    },
    "colab_type": "code",
    "id": "BGzpDAvZ8sl9",
    "outputId": "9a3fd75f-3551-4828-deff-c8dc4f927ce3"
   },
   "outputs": [
    {
     "data": {
      "text/plain": [
       "GridSearchCV(cv=5, error_score='raise',\n",
       "       estimator=Lasso(alpha=1.0, copy_X=True, fit_intercept=True, max_iter=1000,\n",
       "   normalize=False, positive=False, precompute=False, random_state=None,\n",
       "   selection='cyclic', tol=0.0001, warm_start=False),\n",
       "       fit_params=None, iid=True, n_jobs=1,\n",
       "       param_grid={'alpha': [0.0001, 0.001, 0.01, 0.1, 1]},\n",
       "       pre_dispatch='2*n_jobs', refit=True, return_train_score='warn',\n",
       "       scoring=None, verbose=0)"
      ]
     },
     "execution_count": 87,
     "metadata": {
      "tags": []
     },
     "output_type": "execute_result"
    }
   ],
   "source": [
    "# finding best alpha by gridsearch\n",
    "from sklearn.model_selection import GridSearchCV\n",
    "param_grid = {'alpha': [0.0001, 0.001, 0.01, 0.1, 1]}\n",
    "grid_search = GridSearchCV(Lasso(), param_grid, cv=5)\n",
    "grid_search.fit(X_train, y_train)"
   ]
  },
  {
   "cell_type": "code",
   "execution_count": 88,
   "metadata": {
    "colab": {
     "base_uri": "https://localhost:8080/",
     "height": 50
    },
    "colab_type": "code",
    "id": "T6bOU9fF9VaQ",
    "outputId": "6e1831f7-9fe0-422c-9d0e-a235c63810e4"
   },
   "outputs": [
    {
     "name": "stdout",
     "output_type": "stream",
     "text": [
      "Best parameters: {'alpha': 0.0001}\n",
      "Best cross-validation score: 0.79\n"
     ]
    }
   ],
   "source": [
    "print(\"Best parameters: {}\".format(grid_search.best_params_))\n",
    "print(\"Best cross-validation score: {:.2f}\".format(grid_search.best_score_))"
   ]
  },
  {
   "cell_type": "code",
   "execution_count": 89,
   "metadata": {
    "colab": {
     "base_uri": "https://localhost:8080/",
     "height": 218
    },
    "colab_type": "code",
    "id": "L_JjKJVexb6c",
    "outputId": "0c7768a4-c57c-4480-f33c-15b2001c59fa"
   },
   "outputs": [
    {
     "name": "stdout",
     "output_type": "stream",
     "text": [
      "Lasso regression: effect of alpha regularization\n",
      "parameter on number of features kept in final model\n",
      "\n",
      "Alpha = 0.00\n",
      "Features kept: 48, r-squared training: 0.80, r-squared test: 0.79\n",
      "\n",
      "Alpha = 0.00\n",
      "Features kept: 38, r-squared training: 0.79, r-squared test: 0.79\n",
      "\n",
      "Alpha = 0.01\n",
      "Features kept: 24, r-squared training: 0.66, r-squared test: 0.66\n",
      "\n"
     ]
    }
   ],
   "source": [
    "print('Lasso regression: effect of alpha regularization\\n\\\n",
    "parameter on number of features kept in final model\\n')\n",
    "\n",
    "for alpha in [0.0001, 0.001, 0.01]:\n",
    "    linlasso = Lasso(alpha, max_iter = 10000).fit(X_train, y_train)\n",
    "    r2_train = linlasso.score(X_train, y_train)\n",
    "    r2_test = linlasso.score(X_test, y_test)\n",
    "    \n",
    "    print('Alpha = {:.2f}\\nFeatures kept: {}, r-squared training: {:.2f}, \\\n",
    "r-squared test: {:.2f}\\n'\n",
    "         .format(alpha, np.sum(linlasso.coef_ != 0), r2_train, r2_test))"
   ]
  },
  {
   "cell_type": "code",
   "execution_count": 90,
   "metadata": {
    "colab": {
     "base_uri": "https://localhost:8080/",
     "height": 34
    },
    "colab_type": "code",
    "id": "_NppUkPVdtWm",
    "outputId": "d3dcdcca-9e5d-41bb-d1cd-001dc60e6e3d"
   },
   "outputs": [
    {
     "name": "stdout",
     "output_type": "stream",
     "text": [
      "MAE for train data set : 0.3408134546353459\n"
     ]
    }
   ],
   "source": [
    "print('MAE for train data set :', metrics.mean_absolute_error(y_train, linlasso.predict( X_train)))"
   ]
  },
  {
   "cell_type": "code",
   "execution_count": 91,
   "metadata": {
    "colab": {
     "base_uri": "https://localhost:8080/",
     "height": 70
    },
    "colab_type": "code",
    "id": "nL1KM_nQxjJP",
    "outputId": "ab4e2b70-05a5-4ce4-dd90-26ace0f1a31a"
   },
   "outputs": [
    {
     "name": "stderr",
     "output_type": "stream",
     "text": [
      "/usr/local/lib/python3.6/dist-packages/sklearn/cross_validation.py:41: DeprecationWarning: This module was deprecated in version 0.18 in favor of the model_selection module into which all the refactored classes and functions are moved. Also note that the interface of the new CV iterators are different from that of this module. This module will be removed in 0.20.\n",
      "  \"This module will be removed in 0.20.\", DeprecationWarning)\n"
     ]
    }
   ],
   "source": [
    "from sklearn.cross_validation import cross_val_score"
   ]
  },
  {
   "cell_type": "code",
   "execution_count": 92,
   "metadata": {
    "colab": {
     "base_uri": "https://localhost:8080/",
     "height": 67
    },
    "colab_type": "code",
    "id": "0XjTGN6YxjMP",
    "outputId": "4f84bddc-1a69-4a05-b19d-9e000a5f027b"
   },
   "outputs": [
    {
     "name": "stdout",
     "output_type": "stream",
     "text": [
      "Cross validation scores: [-0.57698782  0.52841251  0.60123475  0.68176363  0.58891603]\n",
      "Best parameters: {'alpha': 0.0001}\n",
      "Best cross-validation score: 0.79\n"
     ]
    }
   ],
   "source": [
    "scores = cross_val_score(Lasso(alpha=0.0001, max_iter = 10000), X, Y,cv=5)\n",
    "print(\"Cross validation scores: {}\".format(scores))\n",
    "print(\"Best parameters: {}\".format(grid_search.best_params_))\n",
    "print(\"Best cross-validation score: {:.2f}\".format(grid_search.best_score_))"
   ]
  },
  {
   "cell_type": "code",
   "execution_count": 0,
   "metadata": {
    "colab": {},
    "colab_type": "code",
    "collapsed": true,
    "id": "WZXdxiQExp2m"
   },
   "outputs": [],
   "source": [
    "from sklearn.neighbors import KNeighborsRegressor"
   ]
  },
  {
   "cell_type": "code",
   "execution_count": 94,
   "metadata": {
    "colab": {
     "base_uri": "https://localhost:8080/",
     "height": 50
    },
    "colab_type": "code",
    "id": "BRLFLo2nxp5D",
    "outputId": "5e9f670f-4de8-4b56-a27b-fa5660519f69"
   },
   "outputs": [
    {
     "name": "stdout",
     "output_type": "stream",
     "text": [
      "R-squared test score: 0.738\n",
      "MAE for train data set : 0.263265404171606\n"
     ]
    }
   ],
   "source": [
    "knnreg = KNeighborsRegressor(n_neighbors = 3).fit(X_train, y_train)\n",
    "print('R-squared test score: {:.3f}'.format(knnreg.score(X_test, y_test)))\n",
    "print('MAE for train data set :', metrics.mean_absolute_error(y_train, linridge.predict(X_train)))"
   ]
  },
  {
   "cell_type": "code",
   "execution_count": 95,
   "metadata": {
    "colab": {
     "base_uri": "https://localhost:8080/",
     "height": 319
    },
    "colab_type": "code",
    "id": "nxks_r-yxp7w",
    "outputId": "a10b4320-77f3-43fb-9114-76b6028e6bfa"
   },
   "outputs": [
    {
     "name": "stdout",
     "output_type": "stream",
     "text": [
      " The Different accuracy values are printed below : \n",
      "1 0.6279115618582918\n",
      " The Different accuracy values are printed below : \n",
      "2 0.7101333912701941\n",
      " The Different accuracy values are printed below : \n",
      "3 0.7375467006677026\n",
      " The Different accuracy values are printed below : \n",
      "4 0.7373908849951423\n",
      " The Different accuracy values are printed below : \n",
      "5 0.7374643121373223\n",
      " The Different accuracy values are printed below : \n",
      "6 0.7392188030356255\n",
      " The Different accuracy values are printed below : \n",
      "7 0.7413291523257114\n",
      " The Different accuracy values are printed below : \n",
      "8 0.742050390926609\n",
      " The Different accuracy values are printed below : \n",
      "9 0.7421123896237947\n"
     ]
    }
   ],
   "source": [
    "for i in range (1,10):\n",
    "    knnreg = KNeighborsRegressor(n_neighbors = i).fit(X_train, y_train)\n",
    "    \n",
    "    w=knnreg.score(X_test,y_test)\n",
    "    print(\" The Different accuracy values are printed below : \")\n",
    "    print(i,w)"
   ]
  },
  {
   "cell_type": "code",
   "execution_count": 0,
   "metadata": {
    "colab": {},
    "colab_type": "code",
    "collapsed": true,
    "id": "9b2AT-zXyVN-"
   },
   "outputs": [],
   "source": [
    "from sklearn.preprocessing import PolynomialFeatures\n",
    "poly= PolynomialFeatures(degree=2)"
   ]
  },
  {
   "cell_type": "code",
   "execution_count": 66,
   "metadata": {
    "colab": {
     "base_uri": "https://localhost:8080/",
     "height": 2201
    },
    "colab_type": "code",
    "id": "pnuGLcyHyi4j",
    "outputId": "f038a783-0c6a-43f6-e59f-70e2d7ad79a7"
   },
   "outputs": [
    {
     "name": "stdout",
     "output_type": "stream",
     "text": [
      "(poly deg 2) linear model coeff (w):\n",
      "[-3.96805830e+08 -5.03981456e+11 -2.14040771e+11  1.36252484e+11\n",
      "  9.08554546e+10  1.52510289e+11 -2.19494104e+11 -1.30699951e+11\n",
      " -3.91542526e+11 -9.51900780e+10  2.39247440e+11  5.47642664e+10\n",
      " -1.05852871e+11 -1.52348139e+11  1.01272610e+11  1.43265671e+11\n",
      "  2.85025038e+11 -2.42700370e+11  3.85028520e+10 -1.26753148e+10\n",
      " -9.46630897e+10  2.63158252e+11 -6.29184921e+10  6.97404939e+10\n",
      " -2.14272433e+11 -3.52763014e+10  1.77174405e+11 -1.24488650e+11\n",
      " -4.86683004e+10 -1.00320956e+11 -3.02542533e+11  1.83563107e+00\n",
      "  5.19361678e+00  1.81249540e+01 -8.48304009e+00  1.42957497e+01\n",
      "  1.54244614e+00 -1.01140584e+09  3.16127014e+00  4.07629776e+00\n",
      "  3.26878548e+00  6.86400163e+00  8.38980246e+00  9.02846544e+10\n",
      "  9.02846544e+10  9.02846544e+10  9.02846544e+10  2.80932262e+10\n",
      "  9.02846544e+10  9.02846544e+10  7.17984043e+10  7.17984043e+10\n",
      "  7.17984043e+10  7.17984043e+10  7.17984043e+10  7.17984043e+10\n",
      "  7.17984043e+10  5.84450026e+10  3.41898397e+11 -1.18473458e+10\n",
      "  3.41898397e+11  2.96786118e+00  2.36010170e+00  1.53514099e+00\n",
      " -1.21288109e+00 -3.14215374e+00  3.88020321e+09 -2.64152145e+00\n",
      " -2.37915516e+00 -2.40128803e+00 -2.64474487e+00 -6.04272556e+00\n",
      "  6.32532327e+10  6.32532327e+10  6.32532327e+10  6.32532327e+10\n",
      "  1.09491030e+10  6.32532327e+10  6.32532327e+10  7.02973899e+10\n",
      "  7.02973899e+10  7.02973899e+10  7.02973899e+10  7.02973899e+10\n",
      "  7.02973899e+10  7.02973899e+10  5.30958670e+10  8.04901487e+10\n",
      "  1.18957146e+11  8.04901487e+10  1.02172775e+01 -4.09248114e+00\n",
      " -1.77799153e+00  2.73087502e+00  2.25031549e+09  3.96004486e+00\n",
      "  4.78230286e+00  3.50510788e+00 -2.73971868e+00 -3.88102093e+01\n",
      " -3.12107607e+10 -3.12107607e+10 -3.12107607e+10 -3.12107607e+10\n",
      "  6.57128680e+09 -3.12107607e+10 -3.12107607e+10 -2.42257955e+10\n",
      " -2.42257955e+10 -2.42257955e+10 -2.42257955e+10 -2.42257955e+10\n",
      " -2.42257955e+10 -2.42257955e+10 -1.21232902e+10 -8.08159275e+10\n",
      " -3.53937983e+10 -8.08159275e+10  6.96535110e-01 -2.58355522e+00\n",
      " -2.32668161e-01  1.41623879e+10  6.29432678e-01  1.69336319e-01\n",
      "  4.98430252e-01  1.37900543e+00  9.37906134e+00  2.97599201e+10\n",
      "  2.97599201e+10  2.97599201e+10  2.97599201e+10  4.79006948e+09\n",
      "  2.97599201e+10  2.97599201e+10  2.33511460e+10  2.33511460e+10\n",
      "  2.33511460e+10  2.33511460e+10  2.33511460e+10  2.33511460e+10\n",
      "  2.33511460e+10  1.72409662e+10 -1.43966521e+11 -6.45916702e+10\n",
      " -1.43966521e+11  9.62020874e-01 -2.61346817e-01  1.79290818e+10\n",
      " -1.16429138e+00 -1.22969055e+00 -1.11749268e+00  8.63800049e-01\n",
      " -1.50604672e+01 -5.72898999e+09 -5.72898999e+09 -5.72898999e+09\n",
      " -5.72898999e+09  2.42857911e+10 -5.72898999e+09 -5.72899000e+09\n",
      " -7.18708283e+10 -7.18708283e+10 -7.18708283e+10 -7.18708283e+10\n",
      " -7.18708283e+10 -7.18708283e+10 -7.18708283e+10 -8.83660665e+10\n",
      " -7.49104706e+10 -5.05154840e+10 -7.49104706e+10  1.73533293e+11\n",
      " -1.23976855e+08  7.72608122e+07  4.32416098e+07  8.92692127e+07\n",
      "  2.59737060e+08  4.22317963e+07  1.82367707e+10  1.82367707e+10\n",
      "  1.82367707e+10  1.82367707e+10  7.11458711e+07  6.03850709e+10\n",
      " -2.82118966e+07  3.09440371e+10  1.39204758e+10  3.09440371e+10\n",
      "  3.09440371e+10  3.09440371e+10  3.09440371e+10  3.09440371e+10\n",
      "  1.45114984e+07 -3.21999653e+09 -7.00151022e+07 -3.21999653e+09\n",
      "  4.35338695e+10  5.06921795e+07  1.66135200e+08  1.47801897e+07\n",
      "  1.06639987e+08 -6.80928834e+07  1.80131692e+10 -4.81194692e+07\n",
      "  2.47890333e+10 -6.32619095e+07  4.41352722e+07 -2.40291958e+07\n",
      "  1.02408769e+07  1.80878462e+10 -3.49028667e+07  1.06257197e+10\n",
      "  3.23680685e+07  6.73039003e+09  5.85824585e+07 -1.20844063e+07\n",
      " -2.12444587e+07  5.52458823e+07 -3.58370724e+07  4.35112337e+10\n",
      "  2.70883951e+11 -2.20055554e+07 -1.55448180e+07 -1.77893178e+07\n",
      " -3.54156861e+07  2.71263602e+10  2.71263602e+10  2.71263602e+10\n",
      "  2.71263602e+10  8.56127175e+10  6.92746603e+10  4.03811156e+10\n",
      "  3.00105161e+10  1.29869548e+10  3.00105161e+10  3.00105161e+10\n",
      "  3.00105161e+10  3.00105161e+10  3.00105161e+10  7.56893351e+10\n",
      "  6.35216980e+10  8.30504234e+10  6.35216980e+10  7.28176611e+10\n",
      "  2.92203952e+06  1.81807403e+06 -3.77607326e+06 -5.84590791e+10\n",
      " -5.84590791e+10 -5.84590791e+10 -5.84590791e+10  5.22521842e+09\n",
      " -1.63107790e+10 -4.52043238e+10  1.32910466e+10 -3.73251474e+09\n",
      "  1.32910466e+10  1.32910466e+10  1.32910466e+10  1.32910466e+10\n",
      "  1.32910466e+10  7.12446361e+10  6.75404494e+10  8.79859514e+10\n",
      "  6.75404494e+10 -3.18770574e+10  0.00000000e+00  0.00000000e+00\n",
      "  4.92729328e+10  4.92729328e+10  4.92729328e+10  4.92729328e+10\n",
      "  0.00000000e+00  9.14212329e+10  6.25276882e+10 -3.28257175e+10\n",
      " -4.98492789e+10 -3.28257175e+10 -3.28257175e+10 -3.28257175e+10\n",
      " -3.28257175e+10 -3.28257175e+10 -2.00411610e+11 -2.23817598e+11\n",
      " -2.44570170e+11 -2.23817598e+11 -1.43880525e+10  0.00000000e+00\n",
      "  6.94970539e+09  6.94970539e+09  6.94970539e+09  6.94970539e+09\n",
      "  0.00000000e+00  4.90980055e+10  2.02044608e+10 -5.29042587e+08\n",
      " -1.75526039e+10 -5.29042587e+08 -5.29042588e+08 -5.29042588e+08\n",
      " -5.29042588e+08 -5.29042587e+08  0.00000000e+00 -4.67968768e+10\n",
      "  0.00000000e+00 -4.67968768e+10  3.76077378e+10  0.00000000e+00\n",
      "  1.82727395e+10  1.82727395e+10  1.82727395e+10  0.00000000e+00\n",
      "  0.00000000e+00  0.00000000e+00  0.00000000e+00  0.00000000e+00\n",
      "  8.82406217e+09  0.00000000e+00  8.82406217e+09  8.82406217e+09\n",
      "  8.82406217e+09  0.00000000e+00  4.11483313e+10  0.00000000e+00\n",
      "  4.11483313e+10 -5.00796260e+10  0.00000000e+00  0.00000000e+00\n",
      "  0.00000000e+00  0.00000000e+00  0.00000000e+00  0.00000000e+00\n",
      "  4.07906030e+10 -4.05887034e+10  4.14552532e+10 -1.14227238e+11\n",
      "  3.86817210e+10  8.96773143e+09 -1.15687288e+10  1.46468395e+11\n",
      "  1.18560067e+11  0.00000000e+00  2.03178436e+11 -1.44657545e+11\n",
      "  0.00000000e+00  0.00000000e+00  0.00000000e+00  0.00000000e+00\n",
      "  0.00000000e+00 -1.16812660e+10  0.00000000e+00 -1.10166158e+10\n",
      "  0.00000000e+00 -1.37901480e+10 -4.35041376e+10 -6.40405979e+10\n",
      "  0.00000000e+00  1.19891058e+10  0.00000000e+00  9.66074752e+10\n",
      " -1.28184125e+11  0.00000000e+00  0.00000000e+00  0.00000000e+00\n",
      "  0.00000000e+00 -1.00288950e+11 -1.81668256e+11 -9.96242997e+10\n",
      " -2.55306791e+11 -1.02397832e+11 -1.32111822e+11 -1.52648282e+11\n",
      "  3.01471308e+10  4.21303084e+10  0.00000000e+00  1.26748678e+11\n",
      " -1.84255054e+11  0.00000000e+00  0.00000000e+00  0.00000000e+00\n",
      "  2.86025089e+10 -5.27767975e+10  2.92671591e+10 -1.26415332e+11\n",
      "  2.64936269e+10 -3.22036265e+09 -2.37568229e+10 -1.79550347e+11\n",
      " -1.72449588e+11 -8.32840674e+10 -8.78312187e+10  8.70875420e+10\n",
      "  0.00000000e+00  0.00000000e+00  0.00000000e+00  0.00000000e+00\n",
      "  0.00000000e+00  0.00000000e+00  2.30801109e+10  5.62478211e+10\n",
      "  0.00000000e+00  0.00000000e+00  3.73922889e+10  0.00000000e+00\n",
      "  5.95501965e+10 -2.38663016e+11  0.00000000e+00  1.25915187e+11\n",
      "  4.45358801e+10  1.26579837e+11  0.00000000e+00  1.23806305e+11\n",
      "  9.40923150e+10  7.35558547e+10  7.66965872e+09 -1.09804179e+10\n",
      "  0.00000000e+00  7.36379515e+10  6.67294453e+09  1.49441431e+10\n",
      " -6.64351633e+10  1.56087933e+10  0.00000000e+00  0.00000000e+00\n",
      "  0.00000000e+00  0.00000000e+00 -4.51111626e+10 -6.52736233e+10\n",
      "  0.00000000e+00  1.93447461e+10  1.70882431e+11  0.00000000e+00\n",
      "  0.00000000e+00  0.00000000e+00  0.00000000e+00  0.00000000e+00\n",
      "  0.00000000e+00 -6.22914561e+10 -9.95073376e+09  0.00000000e+00\n",
      " -9.69423689e+10 -1.83922589e+11  0.00000000e+00  0.00000000e+00\n",
      "  0.00000000e+00  0.00000000e+00  0.00000000e+00  2.54360887e+10\n",
      "  8.54358119e+10  0.00000000e+00 -1.55582318e+09  4.52511719e+10\n",
      "  0.00000000e+00  0.00000000e+00  0.00000000e+00  0.00000000e+00\n",
      "  4.38222631e+10  8.32712774e+10 -3.99270348e+09 -3.72035772e+09\n",
      "  4.17937357e+10  0.00000000e+00  0.00000000e+00  0.00000000e+00\n",
      "  6.25026862e+10  1.09752219e+11  0.00000000e+00  2.27605836e+10\n",
      "  2.65092042e+11  0.00000000e+00  0.00000000e+00 -1.34541407e+11\n",
      "  1.75578799e+10  0.00000000e+00 -6.94337552e+10  3.30347702e+09\n",
      "  0.00000000e+00  1.06711495e+10  1.30064303e+11  0.00000000e+00\n",
      "  4.30726683e+10 -1.28055639e+10  0.00000000e+00 -4.57409014e+10\n",
      " -9.47208636e+10 -1.32732537e+11 -5.63238862e+10  0.00000000e+00\n",
      "  0.00000000e+00  0.00000000e+00 -1.61207881e+11  0.00000000e+00\n",
      "  0.00000000e+00 -9.51018097e+10  0.00000000e+00  9.50396174e+10]\n",
      "(poly deg 2) linear model intercept (b): 187081475183.997\n",
      "(poly deg 2) R-squared score (training): 0.843\n",
      "(poly deg 2) R-squared score (test): -54547548777668452352.000\n",
      "\n",
      "MAE for train data set : 0.22934245177565513\n"
     ]
    }
   ],
   "source": [
    "poly = PolynomialFeatures(degree=2)\n",
    "X_poly = poly.fit_transform(X)\n",
    "\n",
    "X_train_poly, X_test_poly, y_train_poly, y_test_poly = train_test_split(X_poly, Y, test_size=0.2, random_state=10)\n",
    "\n",
    "linreg = LinearRegression().fit(X_train_poly, y_train_poly)\n",
    "\n",
    "print('(poly deg 2) linear model coeff (w):\\n{}'\n",
    "     .format(linreg.coef_))\n",
    "print('(poly deg 2) linear model intercept (b): {:.3f}'\n",
    "     .format(linreg.intercept_))\n",
    "print('(poly deg 2) R-squared score (training): {:.3f}'\n",
    "     .format(linreg.score(X_train_poly, y_train_poly)))\n",
    "print('(poly deg 2) R-squared score (test): {:.3f}\\n'\n",
    "     .format(linreg.score(X_test_poly, y_test_poly)))\n",
    "print('MAE for train data set :', metrics.mean_absolute_error(y_train_poly, linreg.predict( X_train_poly)))"
   ]
  },
  {
   "cell_type": "code",
   "execution_count": 67,
   "metadata": {
    "colab": {
     "base_uri": "https://localhost:8080/",
     "height": 34
    },
    "colab_type": "code",
    "id": "MrgZrUAiJqzs",
    "outputId": "c8336847-1dad-410b-cf0a-0e9946bad6d6"
   },
   "outputs": [
    {
     "data": {
      "text/plain": [
       "((3400, 30), (3400, 496), (2720, 496))"
      ]
     },
     "execution_count": 67,
     "metadata": {
      "tags": []
     },
     "output_type": "execute_result"
    }
   ],
   "source": [
    "X.shape, X_poly.shape, X_train_poly.shape"
   ]
  },
  {
   "cell_type": "code",
   "execution_count": 68,
   "metadata": {
    "colab": {
     "base_uri": "https://localhost:8080/",
     "height": 67
    },
    "colab_type": "code",
    "id": "NLTd0wpHyi7U",
    "outputId": "8ed05c17-7ee2-406e-d0e4-77274c00b17a"
   },
   "outputs": [
    {
     "name": "stdout",
     "output_type": "stream",
     "text": [
      "Cross validation scores: [-5.03521252e+19 -2.61711265e+21 -2.12143584e+15 -1.80849608e+21\n",
      " -3.49493654e+20]\n",
      "Average cross-validation score: -965091326668250152960.00\n"
     ]
    }
   ],
   "source": [
    "# cross validation\n",
    "from sklearn.model_selection import cross_val_score\n",
    "scores = cross_val_score(LinearRegression(), X_train_poly, y_train_poly,cv=5)\n",
    "print(\"Cross validation scores: {}\".format(scores))\n",
    "print(\"Average cross-validation score: {:.2f}\".format(scores.mean()))"
   ]
  },
  {
   "cell_type": "code",
   "execution_count": 69,
   "metadata": {
    "colab": {
     "base_uri": "https://localhost:8080/",
     "height": 84
    },
    "colab_type": "code",
    "id": "YmZZlHxJyi97",
    "outputId": "e1c578c4-b134-439e-d180-fe2b416f7f07"
   },
   "outputs": [
    {
     "name": "stdout",
     "output_type": "stream",
     "text": [
      "(poly deg 2) R-squared score (training): 0.824\n",
      "(poly deg 2) R-squared score (test): 0.804\n",
      "\n",
      "MAE for train data set : 0.24347230911221512\n"
     ]
    }
   ],
   "source": [
    "from sklearn.linear_model import Ridge\n",
    "\n",
    "ridge=Ridge()\n",
    "\n",
    "param_grid = {'alpha': [0.001, 0.01, 0.1, 1, 10, 100]}\n",
    "grid_search=GridSearchCV(ridge,param_grid,cv=5)\n",
    "\n",
    "param_grid = {'alpha': [0.001, 0.01, 0.1, 1, 10, 100]}\n",
    "\n",
    "grid_search.fit(X_train_poly,y_train_poly)\n",
    "print('(poly deg 2) R-squared score (training): {:.3f}'\n",
    "     .format(grid_search.score(X_train_poly, y_train_poly)))\n",
    "print('(poly deg 2) R-squared score (test): {:.3f}\\n'\n",
    "     .format(grid_search.score(X_test_poly, y_test_poly)))\n",
    "print('MAE for train data set :', metrics.mean_absolute_error(y_train_poly, grid_search.predict( X_train_poly)))"
   ]
  },
  {
   "cell_type": "code",
   "execution_count": 107,
   "metadata": {
    "colab": {
     "base_uri": "https://localhost:8080/",
     "height": 84
    },
    "colab_type": "code",
    "id": "rFqbd-Ug2nwG",
    "outputId": "4bf78120-2d53-4a71-f39b-1456f69ff66f"
   },
   "outputs": [
    {
     "name": "stdout",
     "output_type": "stream",
     "text": [
      "(poly deg 2) R-squared score (training): 0.804\n",
      "(poly deg 2) R-squared score (test): 0.792\n",
      "\n",
      "MAE for train data set : 0.2584914136167431\n"
     ]
    }
   ],
   "source": [
    "from sklearn.linear_model import Lasso\n",
    "\n",
    "ridge=Lasso()\n",
    "\n",
    "param_grid = {'alpha': [0.001, 0.01, 0.1, 1, 10, 100]}\n",
    "grid_search=GridSearchCV(ridge,param_grid,cv=5)\n",
    "\n",
    "param_grid = {'alpha': [0.001, 0.01, 0.1, 1, 10, 100]}\n",
    "\n",
    "grid_search.fit(X_train_poly,y_train_poly)\n",
    "print('(poly deg 2) R-squared score (training): {:.3f}'\n",
    "     .format(grid_search.score(X_train_poly, y_train_poly)))\n",
    "print('(poly deg 2) R-squared score (test): {:.3f}\\n'\n",
    "     .format(grid_search.score(X_test_poly, y_test_poly)))\n",
    "print('MAE for train data set :', metrics.mean_absolute_error(y_train_poly, grid_search.predict( X_train_poly)))"
   ]
  },
  {
   "cell_type": "code",
   "execution_count": 108,
   "metadata": {
    "colab": {
     "base_uri": "https://localhost:8080/",
     "height": 34
    },
    "colab_type": "code",
    "id": "6Ach3LkWyjCa",
    "outputId": "8ad1645a-eb49-41b9-dce8-b381e5844369"
   },
   "outputs": [
    {
     "data": {
      "text/plain": [
       "0.7812277970148005"
      ]
     },
     "execution_count": 108,
     "metadata": {
      "tags": []
     },
     "output_type": "execute_result"
    }
   ],
   "source": [
    "grid_search.best_score_"
   ]
  },
  {
   "cell_type": "code",
   "execution_count": 0,
   "metadata": {
    "colab": {},
    "colab_type": "code",
    "collapsed": true,
    "id": "n5gDJY_cyjFH"
   },
   "outputs": [],
   "source": [
    "from sklearn.svm import SVR"
   ]
  },
  {
   "cell_type": "code",
   "execution_count": 85,
   "metadata": {
    "colab": {
     "base_uri": "https://localhost:8080/",
     "height": 51
    },
    "colab_type": "code",
    "id": "f87p-kbmrqxM",
    "outputId": "2b92715d-18a2-4d4e-dd7c-39b549752c56"
   },
   "outputs": [
    {
     "name": "stdout",
     "output_type": "stream",
     "text": [
      "best param:{'C': 1, 'gamma': 100}\n",
      "R-squared  score(train) : 0.783\n"
     ]
    }
   ],
   "source": [
    "svr = SVR(kernel = 'linear', epsilon = 0.01)\n",
    "param_grid = {'C': [0.1, 1,10], 'gamma': [100, 10, 1]} \n",
    "grid = GridSearchCV(svr,param_grid,cv=5)\n",
    "grid.fit(X_train, y_train)\n",
    "\n",
    "print('best param:{}'\n",
    "     .format(grid.best_params_))\n",
    "print('R-squared  score(train) : {:.3f}'\n",
    "     .format(grid.best_score_))"
   ]
  },
  {
   "cell_type": "code",
   "execution_count": 86,
   "metadata": {
    "colab": {
     "base_uri": "https://localhost:8080/",
     "height": 51
    },
    "colab_type": "code",
    "id": "zvz2FTKotHg-",
    "outputId": "3d012411-7726-4da0-dcec-1e78a78fa03b"
   },
   "outputs": [
    {
     "name": "stdout",
     "output_type": "stream",
     "text": [
      "best param:{'C': 1000, 'gamma': 0.001}\n",
      "R-squared  score(train) : 0.785\n"
     ]
    }
   ],
   "source": [
    "svr = SVR(kernel = 'rbf', epsilon = 0.01)\n",
    "param_grid = {'C': [10,100,1000], 'gamma': [0.1, 0.01,0.001]} \n",
    "grid = GridSearchCV(svr,param_grid,cv=5)\n",
    "grid.fit(X_train, y_train)\n",
    "\n",
    "print('best param:{}'\n",
    "     .format(grid.best_params_))\n",
    "print('R-squared  score(train) : {:.3f}'\n",
    "     .format(grid.best_score_))"
   ]
  },
  {
   "cell_type": "code",
   "execution_count": 0,
   "metadata": {
    "colab": {},
    "colab_type": "code",
    "collapsed": true,
    "id": "xchCVsX4yjAd"
   },
   "outputs": [],
   "source": [
    "# creating SVR model with C=1000 and gamma=1\n",
    "svr = SVR( epsilon = 0.01,kernel='linear', C=1, gamma=100)\n",
    "svr_rbf = SVR( epsilon = 0.01,kernel='rbf', C=1000, gamma=0.001)"
   ]
  },
  {
   "cell_type": "code",
   "execution_count": 127,
   "metadata": {
    "colab": {
     "base_uri": "https://localhost:8080/",
     "height": 609
    },
    "colab_type": "code",
    "id": "iYhyMjMw0ee6",
    "outputId": "ce44568f-0b4b-4193-cf95-cf74071417c4"
   },
   "outputs": [
    {
     "ename": "ValueError",
     "evalue": "ignored",
     "output_type": "error",
     "traceback": [
      "\u001b[0;31m---------------------------------------------------------------------------\u001b[0m",
      "\u001b[0;31mValueError\u001b[0m                                Traceback (most recent call last)",
      "\u001b[0;32m<ipython-input-127-55fbee6079fd>\u001b[0m in \u001b[0;36m<module>\u001b[0;34m()\u001b[0m\n\u001b[0;32m----> 1\u001b[0;31m \u001b[0msvr\u001b[0m\u001b[0;34m.\u001b[0m\u001b[0mfit\u001b[0m\u001b[0;34m(\u001b[0m\u001b[0mX_train\u001b[0m\u001b[0;34m,\u001b[0m \u001b[0my_train\u001b[0m\u001b[0;34m)\u001b[0m\u001b[0;34m\u001b[0m\u001b[0m\n\u001b[0m\u001b[1;32m      2\u001b[0m \u001b[0;34m\u001b[0m\u001b[0m\n\u001b[1;32m      3\u001b[0m print('R-squared  score(train) : {:.3f}'\n\u001b[1;32m      4\u001b[0m      .format(svr.score(X_train,y_train)))\n\u001b[1;32m      5\u001b[0m print('R-squared  score(test) : {:.3f}'\n",
      "\u001b[0;32m/usr/local/lib/python3.6/dist-packages/sklearn/svm/base.py\u001b[0m in \u001b[0;36mfit\u001b[0;34m(self, X, y, sample_weight)\u001b[0m\n\u001b[1;32m    147\u001b[0m         \u001b[0mself\u001b[0m\u001b[0;34m.\u001b[0m\u001b[0m_sparse\u001b[0m \u001b[0;34m=\u001b[0m \u001b[0msparse\u001b[0m \u001b[0;32mand\u001b[0m \u001b[0;32mnot\u001b[0m \u001b[0mcallable\u001b[0m\u001b[0;34m(\u001b[0m\u001b[0mself\u001b[0m\u001b[0;34m.\u001b[0m\u001b[0mkernel\u001b[0m\u001b[0;34m)\u001b[0m\u001b[0;34m\u001b[0m\u001b[0m\n\u001b[1;32m    148\u001b[0m \u001b[0;34m\u001b[0m\u001b[0m\n\u001b[0;32m--> 149\u001b[0;31m         \u001b[0mX\u001b[0m\u001b[0;34m,\u001b[0m \u001b[0my\u001b[0m \u001b[0;34m=\u001b[0m \u001b[0mcheck_X_y\u001b[0m\u001b[0;34m(\u001b[0m\u001b[0mX\u001b[0m\u001b[0;34m,\u001b[0m \u001b[0my\u001b[0m\u001b[0;34m,\u001b[0m \u001b[0mdtype\u001b[0m\u001b[0;34m=\u001b[0m\u001b[0mnp\u001b[0m\u001b[0;34m.\u001b[0m\u001b[0mfloat64\u001b[0m\u001b[0;34m,\u001b[0m \u001b[0morder\u001b[0m\u001b[0;34m=\u001b[0m\u001b[0;34m'C'\u001b[0m\u001b[0;34m,\u001b[0m \u001b[0maccept_sparse\u001b[0m\u001b[0;34m=\u001b[0m\u001b[0;34m'csr'\u001b[0m\u001b[0;34m)\u001b[0m\u001b[0;34m\u001b[0m\u001b[0m\n\u001b[0m\u001b[1;32m    150\u001b[0m         \u001b[0my\u001b[0m \u001b[0;34m=\u001b[0m \u001b[0mself\u001b[0m\u001b[0;34m.\u001b[0m\u001b[0m_validate_targets\u001b[0m\u001b[0;34m(\u001b[0m\u001b[0my\u001b[0m\u001b[0;34m)\u001b[0m\u001b[0;34m\u001b[0m\u001b[0m\n\u001b[1;32m    151\u001b[0m \u001b[0;34m\u001b[0m\u001b[0m\n",
      "\u001b[0;32m/usr/local/lib/python3.6/dist-packages/sklearn/utils/validation.py\u001b[0m in \u001b[0;36mcheck_X_y\u001b[0;34m(X, y, accept_sparse, dtype, order, copy, force_all_finite, ensure_2d, allow_nd, multi_output, ensure_min_samples, ensure_min_features, y_numeric, warn_on_dtype, estimator)\u001b[0m\n\u001b[1;32m    581\u001b[0m         \u001b[0my\u001b[0m \u001b[0;34m=\u001b[0m \u001b[0my\u001b[0m\u001b[0;34m.\u001b[0m\u001b[0mastype\u001b[0m\u001b[0;34m(\u001b[0m\u001b[0mnp\u001b[0m\u001b[0;34m.\u001b[0m\u001b[0mfloat64\u001b[0m\u001b[0;34m)\u001b[0m\u001b[0;34m\u001b[0m\u001b[0m\n\u001b[1;32m    582\u001b[0m \u001b[0;34m\u001b[0m\u001b[0m\n\u001b[0;32m--> 583\u001b[0;31m     \u001b[0mcheck_consistent_length\u001b[0m\u001b[0;34m(\u001b[0m\u001b[0mX\u001b[0m\u001b[0;34m,\u001b[0m \u001b[0my\u001b[0m\u001b[0;34m)\u001b[0m\u001b[0;34m\u001b[0m\u001b[0m\n\u001b[0m\u001b[1;32m    584\u001b[0m \u001b[0;34m\u001b[0m\u001b[0m\n\u001b[1;32m    585\u001b[0m     \u001b[0;32mreturn\u001b[0m \u001b[0mX\u001b[0m\u001b[0;34m,\u001b[0m \u001b[0my\u001b[0m\u001b[0;34m\u001b[0m\u001b[0m\n",
      "\u001b[0;32m/usr/local/lib/python3.6/dist-packages/sklearn/utils/validation.py\u001b[0m in \u001b[0;36mcheck_consistent_length\u001b[0;34m(*arrays)\u001b[0m\n\u001b[1;32m    202\u001b[0m     \u001b[0;32mif\u001b[0m \u001b[0mlen\u001b[0m\u001b[0;34m(\u001b[0m\u001b[0muniques\u001b[0m\u001b[0;34m)\u001b[0m \u001b[0;34m>\u001b[0m \u001b[0;36m1\u001b[0m\u001b[0;34m:\u001b[0m\u001b[0;34m\u001b[0m\u001b[0m\n\u001b[1;32m    203\u001b[0m         raise ValueError(\"Found input variables with inconsistent numbers of\"\n\u001b[0;32m--> 204\u001b[0;31m                          \" samples: %r\" % [int(l) for l in lengths])\n\u001b[0m\u001b[1;32m    205\u001b[0m \u001b[0;34m\u001b[0m\u001b[0m\n\u001b[1;32m    206\u001b[0m \u001b[0;34m\u001b[0m\u001b[0m\n",
      "\u001b[0;31mValueError\u001b[0m: Found input variables with inconsistent numbers of samples: [3060, 2720]"
     ]
    }
   ],
   "source": [
    "#calculating score and RME\n",
    "svr.fit(X_train, y_train)\n",
    "\n",
    "print('R-squared  score(train) : {:.3f}'\n",
    "     .format(svr.score(X_train,y_train)))\n",
    "print('R-squared  score(test) : {:.3f}'\n",
    "     .format(svr.score(X_test,y_test)))\n",
    "print('MAE for train data set :', metrics.mean_absolute_error(y_train, svr.predict(X_train)))"
   ]
  },
  {
   "cell_type": "code",
   "execution_count": 89,
   "metadata": {
    "colab": {
     "base_uri": "https://localhost:8080/",
     "height": 68
    },
    "colab_type": "code",
    "id": "1W6MkrlE0ei5",
    "outputId": "7b4b8662-9559-4ec1-f053-932031ad45e4"
   },
   "outputs": [
    {
     "name": "stdout",
     "output_type": "stream",
     "text": [
      "R-squared  score(train) : 0.791\n",
      "R-squared  score(train) : 0.785\n",
      "MAE for train data set : 0.24646462533639873\n"
     ]
    }
   ],
   "source": [
    "svr_rbf.fit(X_train_scaled, y_train)\n",
    "\n",
    "print('R-squared  score(train) : {:.3f}'\n",
    "     .format(svr_rbf.score(X_train_scaled,y_train)))\n",
    "print('R-squared  score(test) : {:.3f}'\n",
    "     .format(svr_rbf.score(X_test,y_test)))\n",
    "print('MAE for train data set :', metrics.mean_absolute_error(y_train, svr_rbf.predict(X_train_scaled)))"
   ]
  },
  {
   "cell_type": "code",
   "execution_count": 0,
   "metadata": {
    "colab": {},
    "colab_type": "code",
    "collapsed": true,
    "id": "2SsageLRpov7"
   },
   "outputs": [],
   "source": [
    "# Genetic Algorithm Implementation"
   ]
  },
  {
   "cell_type": "code",
   "execution_count": 91,
   "metadata": {
    "colab": {
     "base_uri": "https://localhost:8080/",
     "height": 51
    },
    "colab_type": "code",
    "id": "VFRF4YdWILp2",
    "outputId": "9b3c93b9-20cc-491f-d94e-851806232ff7"
   },
   "outputs": [
    {
     "name": "stdout",
     "output_type": "stream",
     "text": [
      "\n",
      "# of Obsrvations: 3400\n"
     ]
    }
   ],
   "source": [
    "Cnt1 = len(X)\n",
    "print()\n",
    "print(\"# of Obsrvations:\",Cnt1)"
   ]
  },
  {
   "cell_type": "code",
   "execution_count": 0,
   "metadata": {
    "colab": {},
    "colab_type": "code",
    "collapsed": true,
    "id": "3fHEiisHRF0h"
   },
   "outputs": [],
   "source": [
    "p_c = 1 # prob. of crossover\n",
    "p_m = 0.2 # prob. of mutation\n",
    "pop = 100\n",
    "gen = 5\n",
    "kfold = 3"
   ]
  },
  {
   "cell_type": "code",
   "execution_count": 0,
   "metadata": {
    "colab": {},
    "colab_type": "code",
    "collapsed": true,
    "id": "42uTaAMoRLSn"
   },
   "outputs": [],
   "source": [
    "XY0 = np.array([1,1,1,1,0,0,1,0,1,0,0,1,0,1,1,1,1,1,0,0,1,1,1,1,0,0,1,0,1,0])"
   ]
  },
  {
   "cell_type": "code",
   "execution_count": 0,
   "metadata": {
    "colab": {},
    "colab_type": "code",
    "collapsed": true,
    "id": "VcphsdQ1ROCW"
   },
   "outputs": [],
   "source": [
    "n_list = np.empty((0,len(XY0)))"
   ]
  },
  {
   "cell_type": "code",
   "execution_count": 0,
   "metadata": {
    "colab": {},
    "colab_type": "code",
    "collapsed": true,
    "id": "JOa0CmN7UXZu"
   },
   "outputs": [],
   "source": [
    "import random as rd\n",
    "from sklearn import cross_validation\n",
    "from sklearn import svm"
   ]
  },
  {
   "cell_type": "code",
   "execution_count": 0,
   "metadata": {
    "colab": {},
    "colab_type": "code",
    "collapsed": true,
    "id": "dLxYxggUROMl"
   },
   "outputs": [],
   "source": [
    "for i in range(pop):\n",
    "    rd.shuffle(XY0)\n",
    "    n_list = np.vstack((n_list,XY0))"
   ]
  },
  {
   "cell_type": "code",
   "execution_count": 0,
   "metadata": {
    "colab": {},
    "colab_type": "code",
    "collapsed": true,
    "id": "UpPGAWYPROJt"
   },
   "outputs": [],
   "source": [
    "# Calculate the FV\n",
    "    \n",
    "# X = C\n",
    "\n",
    "a_X = 10\n",
    "b_X = 1000\n",
    "l_X = (len(XY0)/2)"
   ]
  },
  {
   "cell_type": "code",
   "execution_count": 0,
   "metadata": {
    "colab": {},
    "colab_type": "code",
    "collapsed": true,
    "id": "6b10EQx-ROHb"
   },
   "outputs": [],
   "source": [
    "# Y = gamma\n",
    "\n",
    "a_Y = 0.001\n",
    "b_Y = 0.1\n",
    "l_Y = (len(XY0)/2)"
   ]
  },
  {
   "cell_type": "code",
   "execution_count": 0,
   "metadata": {
    "colab": {},
    "colab_type": "code",
    "collapsed": true,
    "id": "FVZ9si8bRa7I"
   },
   "outputs": [],
   "source": [
    "Precision_X = (b_X - a_X)/((2**l_X)-1)\n",
    "Precision_Y = (b_Y - a_Y)/((2**l_Y)-1)"
   ]
  },
  {
   "cell_type": "code",
   "execution_count": 0,
   "metadata": {
    "colab": {},
    "colab_type": "code",
    "collapsed": true,
    "id": "JvDlaximRbVJ"
   },
   "outputs": [],
   "source": [
    "z = 0\n",
    "t = 1\n",
    "X0_num_Sum = 0"
   ]
  },
  {
   "cell_type": "code",
   "execution_count": 0,
   "metadata": {
    "colab": {},
    "colab_type": "code",
    "collapsed": true,
    "id": "MDLW8lBaRbR3"
   },
   "outputs": [],
   "source": [
    "for i in range(len(XY0)//2):\n",
    "    X0_num = XY0[-t]*2**z\n",
    "    X0_num_Sum += X0_num\n",
    "    t = t+1\n",
    "    z = z+1"
   ]
  },
  {
   "cell_type": "code",
   "execution_count": 0,
   "metadata": {
    "colab": {},
    "colab_type": "code",
    "collapsed": true,
    "id": "qpYHuHT9RbPB"
   },
   "outputs": [],
   "source": [
    "p = 0\n",
    "u = 1+(len(XY0)//2)\n",
    "Y0_num_Sum = 0"
   ]
  },
  {
   "cell_type": "code",
   "execution_count": 0,
   "metadata": {
    "colab": {},
    "colab_type": "code",
    "collapsed": true,
    "id": "ZTq3GklVRbMu"
   },
   "outputs": [],
   "source": [
    "for i in range(len(XY0)//2):\n",
    "    Y0_num = XY0[-u]*2**p\n",
    "    Y0_num_Sum += Y0_num\n",
    "    u = u+1\n",
    "    p = p+1"
   ]
  },
  {
   "cell_type": "code",
   "execution_count": 0,
   "metadata": {
    "colab": {},
    "colab_type": "code",
    "collapsed": true,
    "id": "c436TsPiRbKd"
   },
   "outputs": [],
   "source": [
    "Decoded_X = (X0_num_Sum*Precision_X)+a_X\n",
    "Decoded_Y = (Y0_num_Sum*Precision_Y)+a_Y"
   ]
  },
  {
   "cell_type": "code",
   "execution_count": 105,
   "metadata": {
    "colab": {
     "base_uri": "https://localhost:8080/",
     "height": 68
    },
    "colab_type": "code",
    "id": "9KFxCcZWRbHl",
    "outputId": "9eda1002-12e8-41c9-a486-78af0f6827a0"
   },
   "outputs": [
    {
     "name": "stdout",
     "output_type": "stream",
     "text": [
      "\n",
      "Decoded_X: 225.4210028382214\n",
      "Decoded_Y: 0.07161156041138951\n"
     ]
    }
   ],
   "source": [
    "print()\n",
    "print(\"Decoded_X:\",Decoded_X)\n",
    "print(\"Decoded_Y:\",Decoded_Y)"
   ]
  },
  {
   "cell_type": "code",
   "execution_count": 0,
   "metadata": {
    "colab": {},
    "colab_type": "code",
    "collapsed": true,
    "id": "7fzbnlEERbFV"
   },
   "outputs": [],
   "source": [
    "Final_Best_in_Generation_X = []\n",
    "Worst_Best_in_Generation_X = []"
   ]
  },
  {
   "cell_type": "code",
   "execution_count": 0,
   "metadata": {
    "colab": {},
    "colab_type": "code",
    "collapsed": true,
    "id": "kHpBEMb7RbCR"
   },
   "outputs": [],
   "source": [
    "One_Final_Guy = np.empty((0,len(XY0)+2))\n",
    "One_Final_Guy_Final = []"
   ]
  },
  {
   "cell_type": "code",
   "execution_count": 0,
   "metadata": {
    "colab": {},
    "colab_type": "code",
    "collapsed": true,
    "id": "sCJhekpkRbAD"
   },
   "outputs": [],
   "source": [
    "Min_for_all_Generations_for_Mut_1 = np.empty((0,len(XY0)+1))\n",
    "Min_for_all_Generations_for_Mut_2 = np.empty((0,len(XY0)+1))\n",
    "\n",
    "Min_for_all_Generations_for_Mut_1_1 = np.empty((0,len(XY0)+2))\n",
    "Min_for_all_Generations_for_Mut_2_2 = np.empty((0,len(XY0)+2))\n",
    "\n",
    "Min_for_all_Generations_for_Mut_1_1_1 = np.empty((0,len(XY0)+2))\n",
    "Min_for_all_Generations_for_Mut_2_2_2 = np.empty((0,len(XY0)+2))"
   ]
  },
  {
   "cell_type": "code",
   "execution_count": 0,
   "metadata": {
    "colab": {},
    "colab_type": "code",
    "collapsed": true,
    "id": "YqaSUUOrRa3v"
   },
   "outputs": [],
   "source": [
    "Generation = 1"
   ]
  },
  {
   "cell_type": "code",
   "execution_count": 110,
   "metadata": {
    "colab": {
     "base_uri": "https://localhost:8080/",
     "height": 21712
    },
    "colab_type": "code",
    "id": "aK5r1_pbqEyH",
    "outputId": "0c0b2f14-7b99-4e38-cb35-5da03d4d2519"
   },
   "outputs": [
    {
     "name": "stdout",
     "output_type": "stream",
     "text": [
      "\n",
      "GENERATION: #: 1\n",
      "\n",
      "Family: #: 1\n",
      "\n",
      "FV for Mutated Child #1 at Gen 1 : 0.8056594590596688\n",
      "FV for Mutated Child #2 at Gen 1 : 0.8732017538242696\n",
      "\n",
      "Family: #: 2\n",
      "\n",
      "FV for Mutated Child #1 at Gen 1 : 1.2866933030884522\n",
      "FV for Mutated Child #2 at Gen 1 : 0.7514379505003944\n",
      "\n",
      "Family: #: 3\n",
      "\n",
      "FV for Mutated Child #1 at Gen 1 : 0.89340501703784\n",
      "FV for Mutated Child #2 at Gen 1 : 0.8086284575123369\n",
      "\n",
      "Family: #: 4\n",
      "\n",
      "FV for Mutated Child #1 at Gen 1 : 1.2962480171799335\n",
      "FV for Mutated Child #2 at Gen 1 : 1.2815931620952206\n",
      "\n",
      "Family: #: 5\n",
      "\n",
      "FV for Mutated Child #1 at Gen 1 : 0.7463004925823404\n",
      "FV for Mutated Child #2 at Gen 1 : 0.8315488505961287\n",
      "\n",
      "Family: #: 6\n",
      "\n",
      "FV for Mutated Child #1 at Gen 1 : 1.1849345602862666\n",
      "FV for Mutated Child #2 at Gen 1 : 1.2955659005150169\n",
      "\n",
      "Family: #: 7\n",
      "\n",
      "FV for Mutated Child #1 at Gen 1 : 1.1821097751410279\n",
      "FV for Mutated Child #2 at Gen 1 : 1.2902873688850323\n",
      "\n",
      "Family: #: 8\n",
      "\n",
      "FV for Mutated Child #1 at Gen 1 : 1.3033652275723508\n",
      "FV for Mutated Child #2 at Gen 1 : 0.8043524170685936\n",
      "\n",
      "Family: #: 9\n",
      "\n",
      "FV for Mutated Child #1 at Gen 1 : 1.1095316196165872\n",
      "FV for Mutated Child #2 at Gen 1 : 0.834730842104532\n",
      "\n",
      "Family: #: 10\n",
      "\n",
      "FV for Mutated Child #1 at Gen 1 : 1.2620886072255084\n",
      "FV for Mutated Child #2 at Gen 1 : 1.1223838696501771\n",
      "\n",
      "Family: #: 11\n",
      "\n",
      "FV for Mutated Child #1 at Gen 1 : 0.7529940832663756\n",
      "FV for Mutated Child #2 at Gen 1 : 1.2060190515069922\n",
      "\n",
      "Family: #: 12\n",
      "\n",
      "FV for Mutated Child #1 at Gen 1 : 0.8049837824697824\n",
      "FV for Mutated Child #2 at Gen 1 : 1.2869543552391531\n",
      "\n",
      "Family: #: 13\n",
      "\n",
      "FV for Mutated Child #1 at Gen 1 : 1.247724356994569\n",
      "FV for Mutated Child #2 at Gen 1 : 1.2273002239668438\n",
      "\n",
      "Family: #: 14\n",
      "\n",
      "FV for Mutated Child #1 at Gen 1 : 1.1480418284954659\n",
      "FV for Mutated Child #2 at Gen 1 : 1.1383181322585765\n",
      "\n",
      "Family: #: 15\n",
      "\n",
      "FV for Mutated Child #1 at Gen 1 : 1.1496287006938228\n",
      "FV for Mutated Child #2 at Gen 1 : 1.1833874930968709\n",
      "\n",
      "Family: #: 16\n",
      "\n",
      "FV for Mutated Child #1 at Gen 1 : 1.2298074965551784\n",
      "FV for Mutated Child #2 at Gen 1 : 0.8485890041641863\n",
      "\n",
      "Family: #: 17\n",
      "\n",
      "FV for Mutated Child #1 at Gen 1 : 0.9845789999734036\n",
      "FV for Mutated Child #2 at Gen 1 : 0.826125065517242\n",
      "\n",
      "Family: #: 18\n",
      "\n",
      "FV for Mutated Child #1 at Gen 1 : 0.8390291228044822\n",
      "FV for Mutated Child #2 at Gen 1 : 1.2687870123534986\n",
      "\n",
      "Family: #: 19\n",
      "\n",
      "FV for Mutated Child #1 at Gen 1 : 1.1130902902387423\n",
      "FV for Mutated Child #2 at Gen 1 : 0.955264978832346\n",
      "\n",
      "Family: #: 20\n",
      "\n",
      "FV for Mutated Child #1 at Gen 1 : 0.7540012695983531\n",
      "FV for Mutated Child #2 at Gen 1 : 1.2164664623800607\n",
      "\n",
      "Family: #: 21\n",
      "\n",
      "FV for Mutated Child #1 at Gen 1 : 0.7822836298070407\n",
      "FV for Mutated Child #2 at Gen 1 : 0.8071094794883926\n",
      "\n",
      "Family: #: 22\n",
      "\n",
      "FV for Mutated Child #1 at Gen 1 : 0.7461963910767938\n",
      "FV for Mutated Child #2 at Gen 1 : 0.7889206725654997\n",
      "\n",
      "Family: #: 23\n",
      "\n",
      "FV for Mutated Child #1 at Gen 1 : 1.102898372624262\n",
      "FV for Mutated Child #2 at Gen 1 : 0.751071346806587\n",
      "\n",
      "Family: #: 24\n",
      "\n",
      "FV for Mutated Child #1 at Gen 1 : 1.1453499871506179\n",
      "FV for Mutated Child #2 at Gen 1 : 1.2476700900564597\n",
      "\n",
      "Family: #: 25\n",
      "\n",
      "FV for Mutated Child #1 at Gen 1 : 1.244506734717315\n",
      "FV for Mutated Child #2 at Gen 1 : 0.9146940920406292\n",
      "\n",
      "Family: #: 26\n",
      "\n",
      "FV for Mutated Child #1 at Gen 1 : 1.2792144595697257\n",
      "FV for Mutated Child #2 at Gen 1 : 1.209904207110795\n",
      "\n",
      "Family: #: 27\n",
      "\n",
      "FV for Mutated Child #1 at Gen 1 : 0.7536333273389421\n",
      "FV for Mutated Child #2 at Gen 1 : 1.1349626027713544\n",
      "\n",
      "Family: #: 28\n",
      "\n",
      "FV for Mutated Child #1 at Gen 1 : 1.109363838283196\n",
      "FV for Mutated Child #2 at Gen 1 : 1.1874896513834698\n",
      "\n",
      "Family: #: 29\n",
      "\n",
      "FV for Mutated Child #1 at Gen 1 : 1.0932640085805654\n",
      "FV for Mutated Child #2 at Gen 1 : 1.148377497598189\n",
      "\n",
      "Family: #: 30\n",
      "\n",
      "FV for Mutated Child #1 at Gen 1 : 0.804187075575931\n",
      "FV for Mutated Child #2 at Gen 1 : 1.2147294408206304\n",
      "\n",
      "Family: #: 31\n",
      "\n",
      "FV for Mutated Child #1 at Gen 1 : 1.1006264800275425\n",
      "FV for Mutated Child #2 at Gen 1 : 1.2025465026529536\n",
      "\n",
      "Family: #: 32\n",
      "\n",
      "FV for Mutated Child #1 at Gen 1 : 0.7462236707320092\n",
      "FV for Mutated Child #2 at Gen 1 : 1.12492508001154\n",
      "\n",
      "Family: #: 33\n",
      "\n",
      "FV for Mutated Child #1 at Gen 1 : 1.2962754947113653\n",
      "FV for Mutated Child #2 at Gen 1 : 1.0299455852526422\n",
      "\n",
      "Family: #: 34\n",
      "\n",
      "FV for Mutated Child #1 at Gen 1 : 0.9770966152246917\n",
      "FV for Mutated Child #2 at Gen 1 : 1.2955917342943486\n",
      "\n",
      "Family: #: 35\n",
      "\n",
      "FV for Mutated Child #1 at Gen 1 : 0.9272641735729238\n",
      "FV for Mutated Child #2 at Gen 1 : 0.8421173882822915\n",
      "\n",
      "Family: #: 36\n",
      "\n",
      "FV for Mutated Child #1 at Gen 1 : 0.7967508208151018\n",
      "FV for Mutated Child #2 at Gen 1 : 0.7608530088779238\n",
      "\n",
      "Family: #: 37\n",
      "\n",
      "FV for Mutated Child #1 at Gen 1 : 0.8108665963683853\n",
      "FV for Mutated Child #2 at Gen 1 : 1.2467315027272978\n",
      "\n",
      "Family: #: 38\n",
      "\n",
      "FV for Mutated Child #1 at Gen 1 : 1.2799498652516936\n",
      "FV for Mutated Child #2 at Gen 1 : 0.7277696534703546\n",
      "\n",
      "Family: #: 39\n",
      "\n",
      "FV for Mutated Child #1 at Gen 1 : 0.756193010219471\n",
      "FV for Mutated Child #2 at Gen 1 : 0.931037228878448\n",
      "\n",
      "Family: #: 40\n",
      "\n",
      "FV for Mutated Child #1 at Gen 1 : 1.0870734942620353\n",
      "FV for Mutated Child #2 at Gen 1 : 0.982713183751384\n",
      "\n",
      "Family: #: 41\n",
      "\n",
      "FV for Mutated Child #1 at Gen 1 : 0.7474807034487286\n",
      "FV for Mutated Child #2 at Gen 1 : 1.0075514990649792\n",
      "\n",
      "Family: #: 42\n",
      "\n",
      "FV for Mutated Child #1 at Gen 1 : 0.9156574635545308\n",
      "FV for Mutated Child #2 at Gen 1 : 1.106809801157482\n",
      "\n",
      "Family: #: 43\n",
      "\n",
      "FV for Mutated Child #1 at Gen 1 : 0.8200892435167741\n",
      "FV for Mutated Child #2 at Gen 1 : 1.261946428889634\n",
      "\n",
      "Family: #: 44\n",
      "\n",
      "FV for Mutated Child #1 at Gen 1 : 1.1553845905769409\n",
      "FV for Mutated Child #2 at Gen 1 : 0.7456904371133123\n",
      "\n",
      "Family: #: 45\n",
      "\n",
      "FV for Mutated Child #1 at Gen 1 : 1.1909048756515157\n",
      "FV for Mutated Child #2 at Gen 1 : 1.1737605849310444\n",
      "\n",
      "Family: #: 46\n",
      "\n",
      "FV for Mutated Child #1 at Gen 1 : 1.153461319774698\n",
      "FV for Mutated Child #2 at Gen 1 : 1.1153570138484856\n",
      "\n",
      "Family: #: 47\n",
      "\n",
      "FV for Mutated Child #1 at Gen 1 : 1.1562701500237937\n",
      "FV for Mutated Child #2 at Gen 1 : 0.926414989537465\n",
      "\n",
      "Family: #: 48\n",
      "\n",
      "FV for Mutated Child #1 at Gen 1 : 0.7577560033477647\n",
      "FV for Mutated Child #2 at Gen 1 : 0.8367283879102155\n",
      "\n",
      "Family: #: 49\n",
      "\n",
      "FV for Mutated Child #1 at Gen 1 : 0.7487628075856465\n",
      "FV for Mutated Child #2 at Gen 1 : 1.2440020122509265\n",
      "\n",
      "Family: #: 50\n",
      "\n",
      "FV for Mutated Child #1 at Gen 1 : 1.2554586424813505\n",
      "FV for Mutated Child #2 at Gen 1 : 1.148322980719436\n",
      "\n",
      "GENERATION: #: 2\n",
      "\n",
      "Family: #: 1\n"
     ]
    },
    {
     "name": "stderr",
     "output_type": "stream",
     "text": [
      "/usr/local/lib/python3.6/dist-packages/ipykernel_launcher.py:529: DeprecationWarning: elementwise == comparison failed; this will raise an error in the future.\n"
     ]
    },
    {
     "name": "stdout",
     "output_type": "stream",
     "text": [
      "\n",
      "FV for Mutated Child #1 at Gen 2 : 1.153283681161992\n",
      "FV for Mutated Child #2 at Gen 2 : 0.9120368722979322\n",
      "\n",
      "Family: #: 2\n",
      "\n",
      "FV for Mutated Child #1 at Gen 2 : 1.1229481257477854\n",
      "FV for Mutated Child #2 at Gen 2 : 1.1061502936777245\n",
      "\n",
      "Family: #: 3\n",
      "\n",
      "FV for Mutated Child #1 at Gen 2 : 1.124103796836061\n",
      "FV for Mutated Child #2 at Gen 2 : 1.0206982695746256\n",
      "\n",
      "Family: #: 4\n",
      "\n",
      "FV for Mutated Child #1 at Gen 2 : 1.1069504349782362\n",
      "FV for Mutated Child #2 at Gen 2 : 1.1589632374033978\n",
      "\n",
      "Family: #: 5\n",
      "\n",
      "FV for Mutated Child #1 at Gen 2 : 1.1118405768705077\n",
      "FV for Mutated Child #2 at Gen 2 : 1.1949209656443145\n",
      "\n",
      "Family: #: 6\n",
      "\n",
      "FV for Mutated Child #1 at Gen 2 : 1.1460905562455388\n",
      "FV for Mutated Child #2 at Gen 2 : 0.7555590245170287\n",
      "\n",
      "Family: #: 7\n",
      "\n",
      "FV for Mutated Child #1 at Gen 2 : 1.2243554488708694\n",
      "FV for Mutated Child #2 at Gen 2 : 1.1538739303596304\n",
      "\n",
      "Family: #: 8\n",
      "\n",
      "FV for Mutated Child #1 at Gen 2 : 0.8897548837697499\n",
      "FV for Mutated Child #2 at Gen 2 : 1.148194734921568\n",
      "\n",
      "Family: #: 9\n",
      "\n",
      "FV for Mutated Child #1 at Gen 2 : 1.1133621174331922\n",
      "FV for Mutated Child #2 at Gen 2 : 1.2893014559600602\n",
      "\n",
      "Family: #: 10\n",
      "\n",
      "FV for Mutated Child #1 at Gen 2 : 1.1436402798952885\n",
      "FV for Mutated Child #2 at Gen 2 : 0.894912659735939\n",
      "\n",
      "Family: #: 11\n",
      "\n",
      "FV for Mutated Child #1 at Gen 2 : 1.0164658938880011\n",
      "FV for Mutated Child #2 at Gen 2 : 1.1473122857221976\n",
      "\n",
      "Family: #: 12\n",
      "\n",
      "FV for Mutated Child #1 at Gen 2 : 0.8179624735281403\n",
      "FV for Mutated Child #2 at Gen 2 : 0.9912325352764396\n",
      "\n",
      "Family: #: 13\n",
      "\n",
      "FV for Mutated Child #1 at Gen 2 : 1.266283463226973\n",
      "FV for Mutated Child #2 at Gen 2 : 1.279098751616955\n",
      "\n",
      "Family: #: 14\n",
      "\n",
      "FV for Mutated Child #1 at Gen 2 : 1.1038033330471542\n",
      "FV for Mutated Child #2 at Gen 2 : 1.1571593571389072\n",
      "\n",
      "Family: #: 15\n",
      "\n",
      "FV for Mutated Child #1 at Gen 2 : 0.9530455072804234\n",
      "FV for Mutated Child #2 at Gen 2 : 1.0877057178247533\n",
      "\n",
      "Family: #: 16\n",
      "\n",
      "FV for Mutated Child #1 at Gen 2 : 0.8840192499795227\n",
      "FV for Mutated Child #2 at Gen 2 : 1.2989677677940092\n",
      "\n",
      "Family: #: 17\n",
      "\n",
      "FV for Mutated Child #1 at Gen 2 : 1.1650665086798047\n",
      "FV for Mutated Child #2 at Gen 2 : 1.1743211518090921\n",
      "\n",
      "Family: #: 18\n",
      "\n",
      "FV for Mutated Child #1 at Gen 2 : 0.8461012463785199\n",
      "FV for Mutated Child #2 at Gen 2 : 1.1079042482097485\n",
      "\n",
      "Family: #: 19\n",
      "\n",
      "FV for Mutated Child #1 at Gen 2 : 0.9490076213314018\n",
      "FV for Mutated Child #2 at Gen 2 : 1.1236113010770394\n",
      "\n",
      "Family: #: 20\n",
      "\n",
      "FV for Mutated Child #1 at Gen 2 : 0.7874018354466671\n",
      "FV for Mutated Child #2 at Gen 2 : 1.1390757165665522\n",
      "\n",
      "Family: #: 21\n",
      "\n",
      "FV for Mutated Child #1 at Gen 2 : 1.0571409578035211\n",
      "FV for Mutated Child #2 at Gen 2 : 1.2500271029208363\n",
      "\n",
      "Family: #: 22\n",
      "\n",
      "FV for Mutated Child #1 at Gen 2 : 1.1480579820239865\n",
      "FV for Mutated Child #2 at Gen 2 : 1.0216982637290866\n",
      "\n",
      "Family: #: 23\n",
      "\n",
      "FV for Mutated Child #1 at Gen 2 : 1.1381259333669953\n",
      "FV for Mutated Child #2 at Gen 2 : 0.9652347495638872\n",
      "\n",
      "Family: #: 24\n",
      "\n",
      "FV for Mutated Child #1 at Gen 2 : 0.9977820332087917\n",
      "FV for Mutated Child #2 at Gen 2 : 1.2289412378552773\n",
      "\n",
      "Family: #: 25\n",
      "\n",
      "FV for Mutated Child #1 at Gen 2 : 1.158464901116612\n",
      "FV for Mutated Child #2 at Gen 2 : 1.0074159948379269\n",
      "\n",
      "Family: #: 26\n",
      "\n",
      "FV for Mutated Child #1 at Gen 2 : 0.9467899016929088\n",
      "FV for Mutated Child #2 at Gen 2 : 0.7400222277088639\n",
      "\n",
      "Family: #: 27\n",
      "\n",
      "FV for Mutated Child #1 at Gen 2 : 1.157066202598758\n",
      "FV for Mutated Child #2 at Gen 2 : 1.13884566111423\n",
      "\n",
      "Family: #: 28\n",
      "\n",
      "FV for Mutated Child #1 at Gen 2 : 1.1295492217884526\n",
      "FV for Mutated Child #2 at Gen 2 : 1.2329602058312874\n",
      "\n",
      "Family: #: 29\n",
      "\n",
      "FV for Mutated Child #1 at Gen 2 : 0.8381266935378465\n",
      "FV for Mutated Child #2 at Gen 2 : 1.1094034977994987\n",
      "\n",
      "Family: #: 30\n",
      "\n",
      "FV for Mutated Child #1 at Gen 2 : 1.2256925293262766\n",
      "FV for Mutated Child #2 at Gen 2 : 1.1068316700962761\n",
      "\n",
      "Family: #: 31\n",
      "\n",
      "FV for Mutated Child #1 at Gen 2 : 1.1242971158188577\n",
      "FV for Mutated Child #2 at Gen 2 : 0.7571602749119416\n",
      "\n",
      "Family: #: 32\n",
      "\n",
      "FV for Mutated Child #1 at Gen 2 : 0.756916580152518\n",
      "FV for Mutated Child #2 at Gen 2 : 0.7540246243553659\n",
      "\n",
      "Family: #: 33\n",
      "\n",
      "FV for Mutated Child #1 at Gen 2 : 1.1812910412988213\n",
      "FV for Mutated Child #2 at Gen 2 : 1.0962222688591707\n",
      "\n",
      "Family: #: 34\n",
      "\n",
      "FV for Mutated Child #1 at Gen 2 : 0.8743029850361711\n",
      "FV for Mutated Child #2 at Gen 2 : 1.1077043536417894\n",
      "\n",
      "Family: #: 35\n",
      "\n",
      "FV for Mutated Child #1 at Gen 2 : 1.0005857159992069\n",
      "FV for Mutated Child #2 at Gen 2 : 0.8879392440344992\n",
      "\n",
      "Family: #: 36\n",
      "\n",
      "FV for Mutated Child #1 at Gen 2 : 1.1471190400045792\n",
      "FV for Mutated Child #2 at Gen 2 : 1.175323764190878\n",
      "\n",
      "Family: #: 37\n",
      "\n",
      "FV for Mutated Child #1 at Gen 2 : 1.0477255830567083\n",
      "FV for Mutated Child #2 at Gen 2 : 0.7468583297210906\n",
      "\n",
      "Family: #: 38\n",
      "\n",
      "FV for Mutated Child #1 at Gen 2 : 0.7871288405560434\n",
      "FV for Mutated Child #2 at Gen 2 : 1.1986972166803453\n",
      "\n",
      "Family: #: 39\n",
      "\n",
      "FV for Mutated Child #1 at Gen 2 : 1.1030491754356981\n",
      "FV for Mutated Child #2 at Gen 2 : 1.108055879886632\n",
      "\n",
      "Family: #: 40\n",
      "\n",
      "FV for Mutated Child #1 at Gen 2 : 1.1550369567823255\n",
      "FV for Mutated Child #2 at Gen 2 : 1.1400575963365982\n",
      "\n",
      "Family: #: 41\n",
      "\n",
      "FV for Mutated Child #1 at Gen 2 : 0.9019071326342857\n",
      "FV for Mutated Child #2 at Gen 2 : 1.1185947970240884\n",
      "\n",
      "Family: #: 42\n",
      "\n",
      "FV for Mutated Child #1 at Gen 2 : 1.1447481722249242\n",
      "FV for Mutated Child #2 at Gen 2 : 0.9470750307076922\n",
      "\n",
      "Family: #: 43\n",
      "\n",
      "FV for Mutated Child #1 at Gen 2 : 1.151714434227851\n",
      "FV for Mutated Child #2 at Gen 2 : 1.1465728893170375\n",
      "\n",
      "Family: #: 44\n",
      "\n",
      "FV for Mutated Child #1 at Gen 2 : 1.1468735183774166\n",
      "FV for Mutated Child #2 at Gen 2 : 1.1262324448942178\n",
      "\n",
      "Family: #: 45\n",
      "\n",
      "FV for Mutated Child #1 at Gen 2 : 1.1362269478184974\n",
      "FV for Mutated Child #2 at Gen 2 : 0.9686988090074001\n",
      "\n",
      "Family: #: 46\n",
      "\n",
      "FV for Mutated Child #1 at Gen 2 : 1.040924871995789\n",
      "FV for Mutated Child #2 at Gen 2 : 1.0551840172762201\n",
      "\n",
      "Family: #: 47\n",
      "\n",
      "FV for Mutated Child #1 at Gen 2 : 0.9619131988978803\n",
      "FV for Mutated Child #2 at Gen 2 : 1.0790208424739527\n",
      "\n",
      "Family: #: 48\n",
      "\n",
      "FV for Mutated Child #1 at Gen 2 : 0.7637307680837605\n",
      "FV for Mutated Child #2 at Gen 2 : 0.9867932936801743\n",
      "\n",
      "Family: #: 49\n",
      "\n",
      "FV for Mutated Child #1 at Gen 2 : 1.213440539808868\n",
      "FV for Mutated Child #2 at Gen 2 : 1.239344604217957\n",
      "\n",
      "Family: #: 50\n",
      "\n",
      "FV for Mutated Child #1 at Gen 2 : 0.964562165587462\n",
      "FV for Mutated Child #2 at Gen 2 : 1.1145496324875293\n",
      "\n",
      "GENERATION: #: 3\n",
      "\n",
      "Family: #: 1\n",
      "\n",
      "FV for Mutated Child #1 at Gen 3 : 0.8062152812420736\n",
      "FV for Mutated Child #2 at Gen 3 : 1.1865285590451748\n",
      "\n",
      "Family: #: 2\n",
      "\n",
      "FV for Mutated Child #1 at Gen 3 : 0.7467125610819142\n",
      "FV for Mutated Child #2 at Gen 3 : 0.890134480979132\n",
      "\n",
      "Family: #: 3\n",
      "\n",
      "FV for Mutated Child #1 at Gen 3 : 1.2525112544085637\n",
      "FV for Mutated Child #2 at Gen 3 : 1.1179782672558876\n",
      "\n",
      "Family: #: 4\n",
      "\n",
      "FV for Mutated Child #1 at Gen 3 : 0.7565818866159119\n",
      "FV for Mutated Child #2 at Gen 3 : 1.0456460068609819\n",
      "\n",
      "Family: #: 5\n",
      "\n",
      "FV for Mutated Child #1 at Gen 3 : 1.0581495554040352\n",
      "FV for Mutated Child #2 at Gen 3 : 1.0358013162159923\n",
      "\n",
      "Family: #: 6\n",
      "\n",
      "FV for Mutated Child #1 at Gen 3 : 0.8611756023045615\n",
      "FV for Mutated Child #2 at Gen 3 : 0.804530226709988\n",
      "\n",
      "Family: #: 7\n",
      "\n",
      "FV for Mutated Child #1 at Gen 3 : 1.1669252899353013\n",
      "FV for Mutated Child #2 at Gen 3 : 0.9230289040002563\n",
      "\n",
      "Family: #: 8\n",
      "\n",
      "FV for Mutated Child #1 at Gen 3 : 0.8430346970298679\n",
      "FV for Mutated Child #2 at Gen 3 : 0.8302698272716027\n",
      "\n",
      "Family: #: 9\n",
      "\n",
      "FV for Mutated Child #1 at Gen 3 : 0.7320915935031543\n",
      "FV for Mutated Child #2 at Gen 3 : 0.9860056515213129\n",
      "\n",
      "Family: #: 10\n",
      "\n",
      "FV for Mutated Child #1 at Gen 3 : 1.1152048566138744\n",
      "FV for Mutated Child #2 at Gen 3 : 1.1009328256600812\n",
      "\n",
      "Family: #: 11\n",
      "\n",
      "FV for Mutated Child #1 at Gen 3 : 1.0086192169119084\n",
      "FV for Mutated Child #2 at Gen 3 : 0.7716198578295693\n",
      "\n",
      "Family: #: 12\n",
      "\n",
      "FV for Mutated Child #1 at Gen 3 : 0.9973058909144122\n",
      "FV for Mutated Child #2 at Gen 3 : 0.9517160663901466\n",
      "\n",
      "Family: #: 13\n",
      "\n",
      "FV for Mutated Child #1 at Gen 3 : 0.7382259203429394\n",
      "FV for Mutated Child #2 at Gen 3 : 0.7566856559470319\n",
      "\n",
      "Family: #: 14\n",
      "\n",
      "FV for Mutated Child #1 at Gen 3 : 1.166448730239406\n",
      "FV for Mutated Child #2 at Gen 3 : 0.755145443645329\n",
      "\n",
      "Family: #: 15\n",
      "\n",
      "FV for Mutated Child #1 at Gen 3 : 0.7282364422865134\n",
      "FV for Mutated Child #2 at Gen 3 : 0.7902613103583542\n",
      "\n",
      "Family: #: 16\n",
      "\n",
      "FV for Mutated Child #1 at Gen 3 : 0.8380076560057524\n",
      "FV for Mutated Child #2 at Gen 3 : 1.19087564144343\n",
      "\n",
      "Family: #: 17\n",
      "\n",
      "FV for Mutated Child #1 at Gen 3 : 1.2978726024626532\n",
      "FV for Mutated Child #2 at Gen 3 : 1.2400871603076695\n",
      "\n",
      "Family: #: 18\n",
      "\n",
      "FV for Mutated Child #1 at Gen 3 : 0.7712513367080817\n",
      "FV for Mutated Child #2 at Gen 3 : 1.207281666331916\n",
      "\n",
      "Family: #: 19\n",
      "\n",
      "FV for Mutated Child #1 at Gen 3 : 1.059983317742932\n",
      "FV for Mutated Child #2 at Gen 3 : 0.7466925947223698\n",
      "\n",
      "Family: #: 20\n",
      "\n",
      "FV for Mutated Child #1 at Gen 3 : 1.2857211897240317\n",
      "FV for Mutated Child #2 at Gen 3 : 0.7575866659054696\n",
      "\n",
      "Family: #: 21\n",
      "\n",
      "FV for Mutated Child #1 at Gen 3 : 0.7909739227523233\n",
      "FV for Mutated Child #2 at Gen 3 : 1.129418043239674\n",
      "\n",
      "Family: #: 22\n",
      "\n",
      "FV for Mutated Child #1 at Gen 3 : 1.1176023575691933\n",
      "FV for Mutated Child #2 at Gen 3 : 1.0387308894687395\n",
      "\n",
      "Family: #: 23\n",
      "\n",
      "FV for Mutated Child #1 at Gen 3 : 0.8550773495854816\n",
      "FV for Mutated Child #2 at Gen 3 : 1.1236327067067258\n",
      "\n",
      "Family: #: 24\n",
      "\n",
      "FV for Mutated Child #1 at Gen 3 : 0.7843923567257521\n",
      "FV for Mutated Child #2 at Gen 3 : 1.1484366073328451\n",
      "\n",
      "Family: #: 25\n",
      "\n",
      "FV for Mutated Child #1 at Gen 3 : 0.9584364277307098\n",
      "FV for Mutated Child #2 at Gen 3 : 0.7454630121670996\n",
      "\n",
      "Family: #: 26\n",
      "\n",
      "FV for Mutated Child #1 at Gen 3 : 0.8350803544327173\n",
      "FV for Mutated Child #2 at Gen 3 : 1.3062589920794514\n",
      "\n",
      "Family: #: 27\n",
      "\n",
      "FV for Mutated Child #1 at Gen 3 : 1.0387793372872158\n",
      "FV for Mutated Child #2 at Gen 3 : 1.2962978321156144\n",
      "\n",
      "Family: #: 28\n",
      "\n",
      "FV for Mutated Child #1 at Gen 3 : 1.2537808269974133\n",
      "FV for Mutated Child #2 at Gen 3 : 1.1114178393839629\n",
      "\n",
      "Family: #: 29\n",
      "\n",
      "FV for Mutated Child #1 at Gen 3 : 0.7460218189578605\n",
      "FV for Mutated Child #2 at Gen 3 : 0.7580062006063241\n",
      "\n",
      "Family: #: 30\n",
      "\n",
      "FV for Mutated Child #1 at Gen 3 : 1.2756473680107452\n",
      "FV for Mutated Child #2 at Gen 3 : 1.1494535721659442\n",
      "\n",
      "Family: #: 31\n",
      "\n",
      "FV for Mutated Child #1 at Gen 3 : 1.0561753657300075\n",
      "FV for Mutated Child #2 at Gen 3 : 0.7991058245129906\n",
      "\n",
      "Family: #: 32\n",
      "\n",
      "FV for Mutated Child #1 at Gen 3 : 1.0245851362265168\n",
      "FV for Mutated Child #2 at Gen 3 : 1.0257546236368995\n",
      "\n",
      "Family: #: 33\n",
      "\n",
      "FV for Mutated Child #1 at Gen 3 : 0.9833186000945312\n",
      "FV for Mutated Child #2 at Gen 3 : 0.8366640571079736\n",
      "\n",
      "Family: #: 34\n",
      "\n",
      "FV for Mutated Child #1 at Gen 3 : 1.0900084307066316\n",
      "FV for Mutated Child #2 at Gen 3 : 1.1499926046062083\n",
      "\n",
      "Family: #: 35\n",
      "\n",
      "FV for Mutated Child #1 at Gen 3 : 0.7659321057771756\n",
      "FV for Mutated Child #2 at Gen 3 : 1.119345728551475\n",
      "\n",
      "Family: #: 36\n",
      "\n",
      "FV for Mutated Child #1 at Gen 3 : 0.9874638614338688\n",
      "FV for Mutated Child #2 at Gen 3 : 0.8316097521633662\n",
      "\n",
      "Family: #: 37\n",
      "\n",
      "FV for Mutated Child #1 at Gen 3 : 0.7513587154310409\n",
      "FV for Mutated Child #2 at Gen 3 : 1.2316662295043086\n",
      "\n",
      "Family: #: 38\n",
      "\n",
      "FV for Mutated Child #1 at Gen 3 : 1.2920509881250224\n",
      "FV for Mutated Child #2 at Gen 3 : 1.145034933529111\n",
      "\n",
      "Family: #: 39\n",
      "\n",
      "FV for Mutated Child #1 at Gen 3 : 1.1442701803441204\n",
      "FV for Mutated Child #2 at Gen 3 : 0.8048722992364655\n",
      "\n",
      "Family: #: 40\n",
      "\n",
      "FV for Mutated Child #1 at Gen 3 : 0.7488477883816285\n",
      "FV for Mutated Child #2 at Gen 3 : 1.2621348678950806\n",
      "\n",
      "Family: #: 41\n",
      "\n",
      "FV for Mutated Child #1 at Gen 3 : 1.1855289256434327\n",
      "FV for Mutated Child #2 at Gen 3 : 0.7514190935650027\n",
      "\n",
      "Family: #: 42\n",
      "\n",
      "FV for Mutated Child #1 at Gen 3 : 0.7465002803313955\n",
      "FV for Mutated Child #2 at Gen 3 : 0.7782306851944428\n",
      "\n",
      "Family: #: 43\n",
      "\n",
      "FV for Mutated Child #1 at Gen 3 : 0.7318514925303942\n",
      "FV for Mutated Child #2 at Gen 3 : 1.1138348078146814\n",
      "\n",
      "Family: #: 44\n",
      "\n",
      "FV for Mutated Child #1 at Gen 3 : 1.128038540234482\n",
      "FV for Mutated Child #2 at Gen 3 : 0.8415623916775171\n",
      "\n",
      "Family: #: 45\n",
      "\n",
      "FV for Mutated Child #1 at Gen 3 : 0.8064409759187479\n",
      "FV for Mutated Child #2 at Gen 3 : 0.7436650138898185\n",
      "\n",
      "Family: #: 46\n",
      "\n",
      "FV for Mutated Child #1 at Gen 3 : 0.8561583887155694\n",
      "FV for Mutated Child #2 at Gen 3 : 0.8011970083148957\n",
      "\n",
      "Family: #: 47\n",
      "\n",
      "FV for Mutated Child #1 at Gen 3 : 1.155067799059263\n",
      "FV for Mutated Child #2 at Gen 3 : 1.0168136905727143\n",
      "\n",
      "Family: #: 48\n",
      "\n",
      "FV for Mutated Child #1 at Gen 3 : 1.0282093636541645\n",
      "FV for Mutated Child #2 at Gen 3 : 1.1766058370094494\n",
      "\n",
      "Family: #: 49\n",
      "\n",
      "FV for Mutated Child #1 at Gen 3 : 1.1485131924953766\n",
      "FV for Mutated Child #2 at Gen 3 : 0.7650409187810686\n",
      "\n",
      "Family: #: 50\n",
      "\n",
      "FV for Mutated Child #1 at Gen 3 : 1.097774301939978\n",
      "FV for Mutated Child #2 at Gen 3 : 0.8237156759480965\n",
      "\n",
      "GENERATION: #: 4\n",
      "\n",
      "Family: #: 1\n",
      "\n",
      "FV for Mutated Child #1 at Gen 4 : 1.1059700528722556\n",
      "FV for Mutated Child #2 at Gen 4 : 1.196901303548305\n",
      "\n",
      "Family: #: 2\n",
      "\n",
      "FV for Mutated Child #1 at Gen 4 : 1.2117475588324929\n",
      "FV for Mutated Child #2 at Gen 4 : 1.2033911743254635\n",
      "\n",
      "Family: #: 3\n",
      "\n",
      "FV for Mutated Child #1 at Gen 4 : 1.0507529789427026\n",
      "FV for Mutated Child #2 at Gen 4 : 1.0740867423991347\n",
      "\n",
      "Family: #: 4\n",
      "\n",
      "FV for Mutated Child #1 at Gen 4 : 1.132461162118325\n",
      "FV for Mutated Child #2 at Gen 4 : 1.1395715129230792\n",
      "\n",
      "Family: #: 5\n",
      "\n",
      "FV for Mutated Child #1 at Gen 4 : 1.1508788241145382\n",
      "FV for Mutated Child #2 at Gen 4 : 0.8863850863839823\n",
      "\n",
      "Family: #: 6\n",
      "\n",
      "FV for Mutated Child #1 at Gen 4 : 1.127256952081454\n",
      "FV for Mutated Child #2 at Gen 4 : 1.1687609350699961\n",
      "\n",
      "Family: #: 7\n",
      "\n",
      "FV for Mutated Child #1 at Gen 4 : 1.127467296181581\n",
      "FV for Mutated Child #2 at Gen 4 : 1.0092689851681242\n",
      "\n",
      "Family: #: 8\n",
      "\n",
      "FV for Mutated Child #1 at Gen 4 : 0.8874264528694029\n",
      "FV for Mutated Child #2 at Gen 4 : 1.1288499157762992\n",
      "\n",
      "Family: #: 9\n",
      "\n",
      "FV for Mutated Child #1 at Gen 4 : 1.155124461241691\n",
      "FV for Mutated Child #2 at Gen 4 : 1.1498956301725083\n",
      "\n",
      "Family: #: 10\n",
      "\n",
      "FV for Mutated Child #1 at Gen 4 : 1.145246714221947\n",
      "FV for Mutated Child #2 at Gen 4 : 1.1245599260630479\n",
      "\n",
      "Family: #: 11\n",
      "\n",
      "FV for Mutated Child #1 at Gen 4 : 1.1036279130914466\n",
      "FV for Mutated Child #2 at Gen 4 : 1.1223441761119968\n",
      "\n",
      "Family: #: 12\n",
      "\n",
      "FV for Mutated Child #1 at Gen 4 : 1.1215792645732903\n",
      "FV for Mutated Child #2 at Gen 4 : 0.7595057977055054\n",
      "\n",
      "Family: #: 13\n",
      "\n",
      "FV for Mutated Child #1 at Gen 4 : 0.8641420847314025\n",
      "FV for Mutated Child #2 at Gen 4 : 1.1608426939310998\n",
      "\n",
      "Family: #: 14\n",
      "\n",
      "FV for Mutated Child #1 at Gen 4 : 1.0739930282915549\n",
      "FV for Mutated Child #2 at Gen 4 : 1.2965426590947213\n",
      "\n",
      "Family: #: 15\n",
      "\n",
      "FV for Mutated Child #1 at Gen 4 : 1.128124526457453\n",
      "FV for Mutated Child #2 at Gen 4 : 1.154036941226457\n",
      "\n",
      "Family: #: 16\n",
      "\n",
      "FV for Mutated Child #1 at Gen 4 : 0.9963407865033643\n",
      "FV for Mutated Child #2 at Gen 4 : 1.0035260249894395\n",
      "\n",
      "Family: #: 17\n",
      "\n",
      "FV for Mutated Child #1 at Gen 4 : 1.1484013280912286\n",
      "FV for Mutated Child #2 at Gen 4 : 1.0665714981326793\n",
      "\n",
      "Family: #: 18\n",
      "\n",
      "FV for Mutated Child #1 at Gen 4 : 1.16308191198061\n",
      "FV for Mutated Child #2 at Gen 4 : 1.0764283929129956\n",
      "\n",
      "Family: #: 19\n",
      "\n",
      "FV for Mutated Child #1 at Gen 4 : 0.9423816554447318\n",
      "FV for Mutated Child #2 at Gen 4 : 0.7453325203178768\n",
      "\n",
      "Family: #: 20\n",
      "\n",
      "FV for Mutated Child #1 at Gen 4 : 1.0833761602400995\n",
      "FV for Mutated Child #2 at Gen 4 : 1.1706176015041543\n",
      "\n",
      "Family: #: 21\n",
      "\n",
      "FV for Mutated Child #1 at Gen 4 : 1.034467279123455\n",
      "FV for Mutated Child #2 at Gen 4 : 0.9331078369702953\n",
      "\n",
      "Family: #: 22\n",
      "\n",
      "FV for Mutated Child #1 at Gen 4 : 1.1716031932225306\n",
      "FV for Mutated Child #2 at Gen 4 : 1.2957525392448597\n",
      "\n",
      "Family: #: 23\n",
      "\n",
      "FV for Mutated Child #1 at Gen 4 : 1.054195769123319\n",
      "FV for Mutated Child #2 at Gen 4 : 1.1525704841669322\n",
      "\n",
      "Family: #: 24\n",
      "\n",
      "FV for Mutated Child #1 at Gen 4 : 1.176366196082044\n",
      "FV for Mutated Child #2 at Gen 4 : 1.1439950321181482\n",
      "\n",
      "Family: #: 25\n",
      "\n",
      "FV for Mutated Child #1 at Gen 4 : 0.9672098904723881\n",
      "FV for Mutated Child #2 at Gen 4 : 1.2482929175014081\n",
      "\n",
      "Family: #: 26\n",
      "\n",
      "FV for Mutated Child #1 at Gen 4 : 1.147606663564843\n",
      "FV for Mutated Child #2 at Gen 4 : 1.122794037930108\n",
      "\n",
      "Family: #: 27\n",
      "\n",
      "FV for Mutated Child #1 at Gen 4 : 1.1082761105527617\n",
      "FV for Mutated Child #2 at Gen 4 : 1.2531514581959957\n",
      "\n",
      "Family: #: 28\n",
      "\n",
      "FV for Mutated Child #1 at Gen 4 : 1.183205752382439\n",
      "FV for Mutated Child #2 at Gen 4 : 1.087843901723286\n",
      "\n",
      "Family: #: 29\n",
      "\n",
      "FV for Mutated Child #1 at Gen 4 : 1.0424390429105719\n",
      "FV for Mutated Child #2 at Gen 4 : 1.1556824413222033\n",
      "\n",
      "Family: #: 30\n",
      "\n",
      "FV for Mutated Child #1 at Gen 4 : 1.126884561110873\n",
      "FV for Mutated Child #2 at Gen 4 : 0.9278729605157467\n",
      "\n",
      "Family: #: 31\n",
      "\n",
      "FV for Mutated Child #1 at Gen 4 : 1.1274605559878776\n",
      "FV for Mutated Child #2 at Gen 4 : 1.1470384942046619\n",
      "\n",
      "Family: #: 32\n",
      "\n",
      "FV for Mutated Child #1 at Gen 4 : 1.073704983593631\n",
      "FV for Mutated Child #2 at Gen 4 : 0.7257016230762817\n",
      "\n",
      "Family: #: 33\n",
      "\n",
      "FV for Mutated Child #1 at Gen 4 : 1.279858436849813\n",
      "FV for Mutated Child #2 at Gen 4 : 1.1378162883315557\n",
      "\n",
      "Family: #: 34\n",
      "\n",
      "FV for Mutated Child #1 at Gen 4 : 1.048997483696508\n",
      "FV for Mutated Child #2 at Gen 4 : 1.1389458823671037\n",
      "\n",
      "Family: #: 35\n",
      "\n",
      "FV for Mutated Child #1 at Gen 4 : 1.1792678976509767\n",
      "FV for Mutated Child #2 at Gen 4 : 1.0727595761485165\n",
      "\n",
      "Family: #: 36\n",
      "\n",
      "FV for Mutated Child #1 at Gen 4 : 1.0503407958331266\n",
      "FV for Mutated Child #2 at Gen 4 : 0.7520389525700447\n",
      "\n",
      "Family: #: 37\n",
      "\n",
      "FV for Mutated Child #1 at Gen 4 : 1.1156954575638411\n",
      "FV for Mutated Child #2 at Gen 4 : 1.1155173014330078\n",
      "\n",
      "Family: #: 38\n",
      "\n",
      "FV for Mutated Child #1 at Gen 4 : 0.8902319192090236\n",
      "FV for Mutated Child #2 at Gen 4 : 0.9850945670657912\n",
      "\n",
      "Family: #: 39\n",
      "\n",
      "FV for Mutated Child #1 at Gen 4 : 1.0973458838890053\n",
      "FV for Mutated Child #2 at Gen 4 : 0.8065378359956589\n",
      "\n",
      "Family: #: 40\n",
      "\n",
      "FV for Mutated Child #1 at Gen 4 : 1.1542020324400368\n",
      "FV for Mutated Child #2 at Gen 4 : 1.2051183286797726\n",
      "\n",
      "Family: #: 41\n",
      "\n",
      "FV for Mutated Child #1 at Gen 4 : 1.1125738428999317\n",
      "FV for Mutated Child #2 at Gen 4 : 1.1528132581779498\n",
      "\n",
      "Family: #: 42\n",
      "\n",
      "FV for Mutated Child #1 at Gen 4 : 1.0523188958252045\n",
      "FV for Mutated Child #2 at Gen 4 : 0.8937151960753882\n",
      "\n",
      "Family: #: 43\n",
      "\n",
      "FV for Mutated Child #1 at Gen 4 : 1.077799696591679\n",
      "FV for Mutated Child #2 at Gen 4 : 0.9161932545384706\n",
      "\n",
      "Family: #: 44\n",
      "\n",
      "FV for Mutated Child #1 at Gen 4 : 1.136524824418646\n",
      "FV for Mutated Child #2 at Gen 4 : 1.146440612833394\n",
      "\n",
      "Family: #: 45\n",
      "\n",
      "FV for Mutated Child #1 at Gen 4 : 1.1483759571512973\n",
      "FV for Mutated Child #2 at Gen 4 : 1.0462097919967857\n",
      "\n",
      "Family: #: 46\n",
      "\n",
      "FV for Mutated Child #1 at Gen 4 : 1.1465756732512464\n",
      "FV for Mutated Child #2 at Gen 4 : 1.0637719324041404\n",
      "\n",
      "Family: #: 47\n",
      "\n",
      "FV for Mutated Child #1 at Gen 4 : 1.2014447756100708\n",
      "FV for Mutated Child #2 at Gen 4 : 1.0327924023463297\n",
      "\n",
      "Family: #: 48\n",
      "\n",
      "FV for Mutated Child #1 at Gen 4 : 1.142522123040565\n",
      "FV for Mutated Child #2 at Gen 4 : 1.1132552700009144\n",
      "\n",
      "Family: #: 49\n",
      "\n",
      "FV for Mutated Child #1 at Gen 4 : 1.105560018535138\n",
      "FV for Mutated Child #2 at Gen 4 : 0.8557778913653102\n",
      "\n",
      "Family: #: 50\n",
      "\n",
      "FV for Mutated Child #1 at Gen 4 : 1.1408073732221842\n",
      "FV for Mutated Child #2 at Gen 4 : 1.1356848367418546\n",
      "\n",
      "GENERATION: #: 5\n",
      "\n",
      "Family: #: 1\n",
      "\n",
      "FV for Mutated Child #1 at Gen 5 : 0.7601681241853075\n",
      "FV for Mutated Child #2 at Gen 5 : 0.7469962877354123\n",
      "\n",
      "Family: #: 2\n",
      "\n",
      "FV for Mutated Child #1 at Gen 5 : 0.7579879253156516\n",
      "FV for Mutated Child #2 at Gen 5 : 0.7565759552906514\n",
      "\n",
      "Family: #: 3\n",
      "\n",
      "FV for Mutated Child #1 at Gen 5 : 0.752021531740438\n",
      "FV for Mutated Child #2 at Gen 5 : 0.9672712218863562\n",
      "\n",
      "Family: #: 4\n",
      "\n",
      "FV for Mutated Child #1 at Gen 5 : 0.8152374887259223\n",
      "FV for Mutated Child #2 at Gen 5 : 1.230657120190808\n",
      "\n",
      "Family: #: 5\n",
      "\n",
      "FV for Mutated Child #1 at Gen 5 : 0.7981848005377414\n",
      "FV for Mutated Child #2 at Gen 5 : 0.7263903201321759\n",
      "\n",
      "Family: #: 6\n",
      "\n",
      "FV for Mutated Child #1 at Gen 5 : 1.1346971013666023\n",
      "FV for Mutated Child #2 at Gen 5 : 0.8366482805223449\n",
      "\n",
      "Family: #: 7\n",
      "\n",
      "FV for Mutated Child #1 at Gen 5 : 0.7475403371350414\n",
      "FV for Mutated Child #2 at Gen 5 : 0.7299613354162181\n",
      "\n",
      "Family: #: 8\n",
      "\n",
      "FV for Mutated Child #1 at Gen 5 : 0.7490147304475032\n",
      "FV for Mutated Child #2 at Gen 5 : 0.7570008406380507\n",
      "\n",
      "Family: #: 9\n",
      "\n",
      "FV for Mutated Child #1 at Gen 5 : 0.7546905888820593\n",
      "FV for Mutated Child #2 at Gen 5 : 1.2893999375377003\n",
      "\n",
      "Family: #: 10\n",
      "\n",
      "FV for Mutated Child #1 at Gen 5 : 0.7819165471922344\n",
      "FV for Mutated Child #2 at Gen 5 : 1.0275683064989316\n",
      "\n",
      "Family: #: 11\n",
      "\n",
      "FV for Mutated Child #1 at Gen 5 : 1.0180639464112746\n",
      "FV for Mutated Child #2 at Gen 5 : 0.7601812586046814\n",
      "\n",
      "Family: #: 12\n",
      "\n",
      "FV for Mutated Child #1 at Gen 5 : 1.2196309375457448\n",
      "FV for Mutated Child #2 at Gen 5 : 0.9109728356967581\n",
      "\n",
      "Family: #: 13\n",
      "\n",
      "FV for Mutated Child #1 at Gen 5 : 0.749169467225946\n",
      "FV for Mutated Child #2 at Gen 5 : 0.757533875214004\n",
      "\n",
      "Family: #: 14\n",
      "\n",
      "FV for Mutated Child #1 at Gen 5 : 0.756590166297545\n",
      "FV for Mutated Child #2 at Gen 5 : 1.0332472189047925\n",
      "\n",
      "Family: #: 15\n",
      "\n",
      "FV for Mutated Child #1 at Gen 5 : 0.8463697945985147\n",
      "FV for Mutated Child #2 at Gen 5 : 1.1173834207961961\n",
      "\n",
      "Family: #: 16\n",
      "\n",
      "FV for Mutated Child #1 at Gen 5 : 0.736453324485737\n",
      "FV for Mutated Child #2 at Gen 5 : 0.8409363822342435\n",
      "\n",
      "Family: #: 17\n",
      "\n",
      "FV for Mutated Child #1 at Gen 5 : 0.7626637891342508\n",
      "FV for Mutated Child #2 at Gen 5 : 0.9027796276237522\n",
      "\n",
      "Family: #: 18\n",
      "\n",
      "FV for Mutated Child #1 at Gen 5 : 1.1276408034174843\n",
      "FV for Mutated Child #2 at Gen 5 : 0.999433302672434\n",
      "\n",
      "Family: #: 19\n",
      "\n",
      "FV for Mutated Child #1 at Gen 5 : 0.746620817646035\n",
      "FV for Mutated Child #2 at Gen 5 : 0.7571374655368035\n",
      "\n",
      "Family: #: 20\n",
      "\n",
      "FV for Mutated Child #1 at Gen 5 : 0.75471169978879\n",
      "FV for Mutated Child #2 at Gen 5 : 0.7460625315396658\n",
      "\n",
      "Family: #: 21\n",
      "\n",
      "FV for Mutated Child #1 at Gen 5 : 0.7976744266377818\n",
      "FV for Mutated Child #2 at Gen 5 : 0.7722465236141044\n",
      "\n",
      "Family: #: 22\n",
      "\n",
      "FV for Mutated Child #1 at Gen 5 : 1.2611493976765351\n",
      "FV for Mutated Child #2 at Gen 5 : 1.2341977571392366\n",
      "\n",
      "Family: #: 23\n",
      "\n",
      "FV for Mutated Child #1 at Gen 5 : 0.7544485801061324\n",
      "FV for Mutated Child #2 at Gen 5 : 1.2282297277523335\n",
      "\n",
      "Family: #: 24\n",
      "\n",
      "FV for Mutated Child #1 at Gen 5 : 1.0349148603741105\n",
      "FV for Mutated Child #2 at Gen 5 : 0.9380745374515826\n",
      "\n",
      "Family: #: 25\n",
      "\n",
      "FV for Mutated Child #1 at Gen 5 : 0.7541189754705417\n",
      "FV for Mutated Child #2 at Gen 5 : 0.79724143440645\n",
      "\n",
      "Family: #: 26\n",
      "\n",
      "FV for Mutated Child #1 at Gen 5 : 0.776167897251065\n",
      "FV for Mutated Child #2 at Gen 5 : 0.7518168531078798\n",
      "\n",
      "Family: #: 27\n",
      "\n",
      "FV for Mutated Child #1 at Gen 5 : 0.7489932745388318\n",
      "FV for Mutated Child #2 at Gen 5 : 0.7582578991248905\n",
      "\n",
      "Family: #: 28\n",
      "\n",
      "FV for Mutated Child #1 at Gen 5 : 0.7930329191766262\n",
      "FV for Mutated Child #2 at Gen 5 : 1.1964712234870836\n",
      "\n",
      "Family: #: 29\n",
      "\n",
      "FV for Mutated Child #1 at Gen 5 : 0.8220556793435415\n",
      "FV for Mutated Child #2 at Gen 5 : 0.8192036639679486\n",
      "\n",
      "Family: #: 30\n",
      "\n",
      "FV for Mutated Child #1 at Gen 5 : 0.937738105399224\n",
      "FV for Mutated Child #2 at Gen 5 : 1.0767906986654028\n",
      "\n",
      "Family: #: 31\n",
      "\n",
      "FV for Mutated Child #1 at Gen 5 : 0.756590166297545\n",
      "FV for Mutated Child #2 at Gen 5 : 0.7571689338560031\n",
      "\n",
      "Family: #: 32\n",
      "\n",
      "FV for Mutated Child #1 at Gen 5 : 0.9675944459880806\n",
      "FV for Mutated Child #2 at Gen 5 : 0.8869830004097453\n",
      "\n",
      "Family: #: 33\n",
      "\n",
      "FV for Mutated Child #1 at Gen 5 : 0.7464232431052293\n",
      "FV for Mutated Child #2 at Gen 5 : 0.8150848867043273\n",
      "\n",
      "Family: #: 34\n",
      "\n",
      "FV for Mutated Child #1 at Gen 5 : 1.1588724650850277\n",
      "FV for Mutated Child #2 at Gen 5 : 1.1567777576700793\n",
      "\n",
      "Family: #: 35\n",
      "\n",
      "FV for Mutated Child #1 at Gen 5 : 0.7523304419061162\n",
      "FV for Mutated Child #2 at Gen 5 : 0.7494427247363425\n",
      "\n",
      "Family: #: 36\n",
      "\n",
      "FV for Mutated Child #1 at Gen 5 : 0.9853732507016347\n",
      "FV for Mutated Child #2 at Gen 5 : 1.0583495325184666\n",
      "\n",
      "Family: #: 37\n",
      "\n",
      "FV for Mutated Child #1 at Gen 5 : 1.1212581003731021\n",
      "FV for Mutated Child #2 at Gen 5 : 1.2746861675199144\n",
      "\n",
      "Family: #: 38\n",
      "\n",
      "FV for Mutated Child #1 at Gen 5 : 1.1840355502191515\n",
      "FV for Mutated Child #2 at Gen 5 : 0.7971237294052654\n",
      "\n",
      "Family: #: 39\n",
      "\n",
      "FV for Mutated Child #1 at Gen 5 : 1.2847845593114346\n",
      "FV for Mutated Child #2 at Gen 5 : 0.8438694255785815\n",
      "\n",
      "Family: #: 40\n",
      "\n",
      "FV for Mutated Child #1 at Gen 5 : 0.7463809716920838\n",
      "FV for Mutated Child #2 at Gen 5 : 0.7972327422961331\n",
      "\n",
      "Family: #: 41\n",
      "\n",
      "FV for Mutated Child #1 at Gen 5 : 1.0257292750712004\n",
      "FV for Mutated Child #2 at Gen 5 : 0.8362467792322411\n",
      "\n",
      "Family: #: 42\n",
      "\n",
      "FV for Mutated Child #1 at Gen 5 : 0.8641443358357588\n",
      "FV for Mutated Child #2 at Gen 5 : 0.7941253475242176\n",
      "\n",
      "Family: #: 43\n",
      "\n",
      "FV for Mutated Child #1 at Gen 5 : 1.293351448280415\n",
      "FV for Mutated Child #2 at Gen 5 : 1.0963747675959754\n",
      "\n",
      "Family: #: 44\n",
      "\n",
      "FV for Mutated Child #1 at Gen 5 : 0.789857419710516\n",
      "FV for Mutated Child #2 at Gen 5 : 0.7902279725170386\n",
      "\n",
      "Family: #: 45\n",
      "\n",
      "FV for Mutated Child #1 at Gen 5 : 1.0957898198298646\n",
      "FV for Mutated Child #2 at Gen 5 : 0.7440292849265123\n",
      "\n",
      "Family: #: 46\n",
      "\n",
      "FV for Mutated Child #1 at Gen 5 : 1.0247418153038648\n",
      "FV for Mutated Child #2 at Gen 5 : 1.2446839040100246\n",
      "\n",
      "Family: #: 47\n",
      "\n",
      "FV for Mutated Child #1 at Gen 5 : 1.269820082577736\n",
      "FV for Mutated Child #2 at Gen 5 : 1.2702784315469229\n",
      "\n",
      "Family: #: 48\n",
      "\n",
      "FV for Mutated Child #1 at Gen 5 : 0.7914877721029527\n",
      "FV for Mutated Child #2 at Gen 5 : 0.758282640817976\n",
      "\n",
      "Family: #: 49\n",
      "\n",
      "FV for Mutated Child #1 at Gen 5 : 0.7428562307170968\n",
      "FV for Mutated Child #2 at Gen 5 : 0.7719850081231009\n",
      "\n",
      "Family: #: 50\n",
      "\n",
      "FV for Mutated Child #1 at Gen 5 : 0.9129248333446457\n",
      "FV for Mutated Child #2 at Gen 5 : 0.7564831826183017\n",
      "\n",
      "Min in all Generations: [[4.         0.72570162 0.         0.         0.         0.\n",
      "  0.         0.         0.         1.         0.         1.\n",
      "  1.         1.         1.         0.         1.         0.\n",
      "  0.         1.         0.         0.         0.         1.\n",
      "  1.         1.         0.         1.         1.         1.\n",
      "  1.         1.        ]]\n",
      "\n",
      "Final Solution: [[0. 0. 0. 0. 0. 0. 0. 1. 0. 1. 1. 1. 1. 0. 1. 0. 0. 1. 0. 0. 0. 1. 1. 1.\n",
      "  0. 1. 1. 1. 1. 1.]]\n",
      "Highest R2: [0.27429838]\n",
      "\n",
      "Decoded_X_Encoded_After: 148.2259590441603\n",
      "Decoded_Y_Encoded_After: 0.0015710318308053836\n"
     ]
    }
   ],
   "source": [
    "for i in range(gen):\n",
    "    \n",
    "    \n",
    "    New_Population = np.empty((0,len(XY0)))\n",
    "    \n",
    "    All_in_Generation_X_1 = np.empty((0,len(XY0)+1))\n",
    "    All_in_Generation_X_2 = np.empty((0,len(XY0)+1))\n",
    "    \n",
    "    Min_in_Generation_X_1= []\n",
    "    Min_in_Generation_X_2 = []\n",
    "    \n",
    "    \n",
    "    Save_Best_in_Generation_X = np.empty((0,len(XY0)+1))\n",
    "    Final_Best_in_Generation_X = []\n",
    "    Worst_Best_in_Generation_X = []\n",
    "    \n",
    "    \n",
    "    print()\n",
    "    print(\"GENERATION: #:\",Generation)\n",
    "        \n",
    "    Family = 1\n",
    "    \n",
    "    for j in range(int(pop/2)):\n",
    "        \n",
    "        print()\n",
    "        print(\"Family: #:\",Family)\n",
    "        \n",
    "        # Tour. Selection\n",
    "        \n",
    "        Parents = np.empty((0,len(XY0)))\n",
    "        \n",
    "        for i in range(2):\n",
    "            \n",
    "            Battle_Troops = []\n",
    "            \n",
    "            Warrior_1_index = np.random.randint(0,len(n_list))\n",
    "            Warrior_2_index = np.random.randint(0,len(n_list))\n",
    "            Warrior_3_index = np.random.randint(0,len(n_list))\n",
    "            \n",
    "            while Warrior_1_index==Warrior_2_index:\n",
    "                Warrior_1_index = np.random.randint(0,len(n_list))\n",
    "            while Warrior_2_index==Warrior_3_index:\n",
    "                Warrior_3_index = np.random.randint(0,len(n_list))\n",
    "            while Warrior_1_index==Warrior_3_index:\n",
    "                Warrior_3_index = np.random.randint(0,len(n_list))\n",
    "\n",
    "\n",
    "\n",
    "            Warrior_1 = n_list[Warrior_1_index]\n",
    "            Warrior_2 = n_list[Warrior_2_index]\n",
    "            Warrior_3 = n_list[Warrior_3_index]\n",
    "            \n",
    "            Battle_Troops = [Warrior_1,Warrior_2,Warrior_3]\n",
    "            \n",
    "            \n",
    "            # Warrior 1\n",
    "            \n",
    "            z = 0\n",
    "            t = 1\n",
    "            X0_num_Sum_W1 = 0\n",
    "            \n",
    "            for i in range(len(XY0)//2):\n",
    "                X0_num_W1 = Warrior_1[-t]*2**z\n",
    "                X0_num_Sum_W1 += X0_num_W1\n",
    "                t = t+1\n",
    "                z = z+1\n",
    "            \n",
    "            Y0_num_Sum_W1 = 0\n",
    "            p = 0\n",
    "            u = 1+(len(XY0)//2)\n",
    "            Y0_num_Sum = 0\n",
    "            \n",
    "            for i in range(len(XY0)//2):\n",
    "                Y0_num_W1 = Warrior_1[-u]*2**p\n",
    "                Y0_num_Sum_W1 += Y0_num_W1\n",
    "                u = u+1\n",
    "                p = p+1\n",
    "            \n",
    "            \n",
    "            Decoded_X_W1 = (X0_num_Sum_W1*Precision_X)+a_X\n",
    "            Decoded_Y_W1 = (Y0_num_Sum_W1*Precision_Y)+a_Y\n",
    "            '''\n",
    "            print()\n",
    "            print(\"Decoded_X_W1:\",Decoded_X_W1)\n",
    "            print(\"Decoded_Y_W1:\",Decoded_Y_W1)\n",
    "            '''\n",
    "            P_1 = 0\n",
    "            \n",
    "            kf = cross_validation.KFold(Cnt1,n_folds=kfold)\n",
    "            \n",
    "            for train_index,test_index in kf:\n",
    "                X_train,X_test = X[train_index],X[test_index]\n",
    "                Y_train,Y_test = Y[train_index],Y[test_index]\n",
    "                \n",
    "                model1 = svm.SVR(kernel=\"rbf\",C=Decoded_X_W1,gamma=Decoded_Y_W1)\n",
    "                model1.fit(X_train,Y_train)\n",
    "                PL1 = model1.predict(X_test)\n",
    "                \n",
    "                AC1 = model1.score(X_test,Y_test)\n",
    "                \n",
    "                OF_So_Far_1 = 1-(AC1)\n",
    "                \n",
    "                P_1 += OF_So_Far_1\n",
    "                \n",
    "            OF_So_Far_W1 = P_1/kfold\n",
    "            \n",
    "            \n",
    "            \n",
    "            # Warrior 2\n",
    "            \n",
    "            z = 0\n",
    "            t = 1\n",
    "            X0_num_Sum_W2 = 0\n",
    "            \n",
    "            for i in range(len(XY0)//2):\n",
    "                X0_num_W1 = Warrior_1[-t]*2**z\n",
    "                X0_num_Sum_W1 += X0_num_W1\n",
    "                t = t+1\n",
    "                z = z+1\n",
    "            \n",
    "            Y0_num_Sum_W2 = 0\n",
    "            p = 0\n",
    "            u = 1+(len(XY0)//2)\n",
    "            Y0_num_Sum = 0\n",
    "            \n",
    "            for i in range(len(XY0)//2):\n",
    "                Y0_num_W2 = Warrior_2[-u]*2**p\n",
    "                Y0_num_Sum_W2 += Y0_num_W2\n",
    "                u = u+1\n",
    "                p = p+1\n",
    "            \n",
    "            \n",
    "            Decoded_X_W2 = (X0_num_Sum_W2*Precision_X)+a_X\n",
    "            Decoded_Y_W2 = (Y0_num_Sum_W2*Precision_Y)+a_Y\n",
    "            '''\n",
    "            print()\n",
    "            print(\"Decoded_X_W2:\",Decoded_X_W2)\n",
    "            print(\"Decoded_Y_W2:\",Decoded_Y_W2)\n",
    "            '''\n",
    "            P_1 = 0\n",
    "            \n",
    "            kf = cross_validation.KFold(Cnt1,n_folds=kfold)\n",
    "            \n",
    "            for train_index,test_index in kf:\n",
    "                X_train,X_test = X[train_index],X[test_index]\n",
    "                Y_train,Y_test = Y[train_index],Y[test_index]\n",
    "                \n",
    "                model1 = svm.SVR(kernel=\"rbf\",C=Decoded_X_W2,gamma=Decoded_Y_W2)\n",
    "                model1.fit(X_train,Y_train)\n",
    "                PL1 = model1.predict(X_test)\n",
    "                \n",
    "                AC1 = model1.score(X_test,Y_test)\n",
    "                \n",
    "                OF_So_Far_2 = 1-(AC1)\n",
    "                \n",
    "                P_1 += OF_So_Far_2\n",
    "                \n",
    "            OF_So_Far_W2 = P_1/kfold\n",
    "            \n",
    "            # Warrior 3\n",
    "            \n",
    "            z = 0\n",
    "            t = 1\n",
    "            X0_num_Sum_W3 = 0\n",
    "            \n",
    "            for i in range(len(XY0)//2):\n",
    "                X0_num_W1 = Warrior_3[-t]*2**z\n",
    "                X0_num_Sum_W3 += X0_num_W1\n",
    "                t = t+1\n",
    "                z = z+1\n",
    "            \n",
    "            Y0_num_Sum_W3 = 0\n",
    "            p = 0\n",
    "            u = 1+(len(XY0)//2)\n",
    "            Y0_num_Sum = 0\n",
    "            \n",
    "            for i in range(len(XY0)//2):\n",
    "                Y0_num_W3 = Warrior_3[-u]*2**p\n",
    "                Y0_num_Sum_W3 += Y0_num_W1\n",
    "                u = u+1\n",
    "                p = p+1\n",
    "            \n",
    "            \n",
    "            Decoded_X_W3 = (X0_num_Sum_W1*Precision_X)+a_X\n",
    "            Decoded_Y_W3 = (Y0_num_Sum_W1*Precision_Y)+a_Y\n",
    "            '''\n",
    "            print()\n",
    "            print(\"Decoded_X_W3:\",Decoded_X_W3)\n",
    "            print(\"Decoded_Y_W3:\",Decoded_Y_W3)\n",
    "            '''\n",
    "            P_1 = 0\n",
    "            \n",
    "            kf = cross_validation.KFold(Cnt1,n_folds=kfold)\n",
    "            \n",
    "            for train_index,test_index in kf:\n",
    "                X_train,X_test = X[train_index],X[test_index]\n",
    "                Y_train,Y_test = Y[train_index],Y[test_index]\n",
    "                \n",
    "                model1 = svm.SVR(kernel=\"rbf\",C=Decoded_X_W3,gamma=Decoded_Y_W3)\n",
    "                model1.fit(X_train,Y_train)\n",
    "                PL1 = model1.predict(X_test)\n",
    "                \n",
    "                AC1 = model1.score(X_test,Y_test)\n",
    "                \n",
    "                OF_So_Far_1 = 1-(AC1)\n",
    "                \n",
    "                P_1 += OF_So_Far_1\n",
    "                \n",
    "            OF_So_Far_W3 = P_1/kfold\n",
    "\n",
    "            \n",
    "            Prize_Warrior_1 = OF_So_Far_W1\n",
    "            Prize_Warrior_2 = OF_So_Far_W2\n",
    "            Prize_Warrior_3 = OF_So_Far_W3\n",
    "            \n",
    "            \n",
    "            if Prize_Warrior_1 == min(Prize_Warrior_1,Prize_Warrior_2,Prize_Warrior_3):\n",
    "                Winner = Warrior_1\n",
    "                Prize = Prize_Warrior_1\n",
    "\n",
    "            if Prize_Warrior_2 == min(Prize_Warrior_1,Prize_Warrior_2,Prize_Warrior_3):\n",
    "                Winner = Warrior_2\n",
    "                Prize = Prize_Warrior_2\n",
    "            \n",
    "            if Prize_Warrior_3 == min(Prize_Warrior_1,Prize_Warrior_2,Prize_Warrior_3):\n",
    "                Winner = Warrior_3\n",
    "                Prize = Prize_Warrior_3\n",
    "\n",
    "\n",
    "            Parents = np.vstack((Parents,Winner))\n",
    "        '''\n",
    "        print(Parents)\n",
    "        '''\n",
    "        Parent_1 = Parents[0]\n",
    "        Parent_2 = Parents[1]\n",
    "        \n",
    "        \n",
    "        # Crossover\n",
    "        \n",
    "        Child_1 = np.empty((0,len(XY0)))\n",
    "        Child_2 = np.empty((0,len(XY0)))\n",
    "        \n",
    "        \n",
    "        \n",
    "        \n",
    "        Ran_CO_1 = np.random.rand()\n",
    "        \n",
    "        if Ran_CO_1 < p_c:\n",
    "            \n",
    "            \n",
    "            Cr_1 = np.random.randint(0,len(XY0))\n",
    "            Cr_2 = np.random.randint(0,len(XY0))\n",
    "            \n",
    "            while Cr_1 == Cr_2:\n",
    "                Cr_2 = np.random.randint(0,len(XY0))\n",
    "                \n",
    "            if Cr_1 < Cr_2:\n",
    "                \n",
    "                Med_Seg_1 = Parent_1[Cr_1:Cr_2+1]\n",
    "                Med_Seg_2 = Parent_2[Cr_1:Cr_2+1]\n",
    "                \n",
    "                First_Seg_1 = Parent_1[:Cr_1]\n",
    "                Sec_Seg_1 = Parent_1[Cr_2+1:]\n",
    "                \n",
    "                First_Seg_2 = Parent_2[:Cr_1]\n",
    "                Sec_Seg_2 = Parent_2[Cr_2+1:]\n",
    "                \n",
    "                Child_1 = np.concatenate((First_Seg_1,Med_Seg_2,Sec_Seg_1))\n",
    "                Child_2 = np.concatenate((First_Seg_2,Med_Seg_1,Sec_Seg_2))\n",
    "                \n",
    "            else:\n",
    "                \n",
    "                Med_Seg_1 = Parent_1[Cr_2:Cr_1+1]\n",
    "                Med_Seg_2 = Parent_2[Cr_2:Cr_1+1]\n",
    "                \n",
    "                First_Seg_1 = Parent_1[:Cr_2]\n",
    "                Sec_Seg_1 = Parent_1[Cr_1+1:]\n",
    "                \n",
    "                First_Seg_2 = Parent_2[:Cr_2]\n",
    "                Sec_Seg_2 = Parent_2[Cr_1+1:]\n",
    "                \n",
    "                Child_1 = np.concatenate((First_Seg_1,Med_Seg_2,Sec_Seg_1))\n",
    "                Child_2 = np.concatenate((First_Seg_2,Med_Seg_1,Sec_Seg_2))\n",
    "        \n",
    "        else:\n",
    "            Child_1 = Parent_1\n",
    "            Child_2 = Parent_2\n",
    "            \n",
    "        '''\n",
    "        print()\n",
    "        print(\"Child_1:\",Child_1)\n",
    "        print(\"Child_2:\",Child_2)\n",
    "        '''\n",
    "        \n",
    "        Mutated_Child_1 = []\n",
    "        \n",
    "        t = 0\n",
    "        \n",
    "        for i in Child_1:\n",
    "            \n",
    "            Ran_Mut_1 = np.random.rand()\n",
    "            \n",
    "            if Ran_Mut_1 < p_m:\n",
    "                \n",
    "                if Child_1[t] == 0:\n",
    "                    Child_1[t] = 1\n",
    "                else:\n",
    "                    Child_1[t] = 0\n",
    "                t = t+1\n",
    "                \n",
    "                Mutated_Child_1 = Child_1\n",
    "                \n",
    "            else:\n",
    "                Mutated_Child_1 = Child_1\n",
    "                \n",
    "        \n",
    "        Mutated_Child_2 = []\n",
    "        \n",
    "        t = 0\n",
    "        \n",
    "        for i in Child_2:\n",
    "            \n",
    "            Ran_Mut_2 = np.random.rand()\n",
    "            \n",
    "            if Ran_Mut_2 < p_m:\n",
    "                \n",
    "                if Child_2[t] == 0:\n",
    "                    Child_2[t] = 1\n",
    "                else:\n",
    "                    Child_2[t] = 0\n",
    "                t = t+1\n",
    "                \n",
    "                Mutated_Child_2 = Child_2\n",
    "                \n",
    "            else:\n",
    "                Mutated_Child_2 = Child_2\n",
    "        '''\n",
    "        print()\n",
    "        print(\"Mutated_Child_1:\",Mutated_Child_1)\n",
    "        print(\"Mutated_Child_2:\",Mutated_Child_2)\n",
    "        '''\n",
    "        \n",
    "        # For mutated child_1\n",
    "        \n",
    "        X0_num_Sum_MC_1 = 0\n",
    "        Y0_num_Sum_MC_1 = 0\n",
    "        \n",
    "        z = 0\n",
    "        t = 1\n",
    "        \n",
    "        \n",
    "        for i in range(len(XY0)//2):\n",
    "            X0_num_M1 = Mutated_Child_1[-t]*2**z\n",
    "            X0_num_Sum_MC_1 += X0_num_M1\n",
    "            t = t+1\n",
    "            z = z+1\n",
    "        \n",
    "        p = 0\n",
    "        u = 1+(len(XY0)//2)\n",
    "        \n",
    "        for i in range(len(XY0)//2):\n",
    "            Y0_num_M1 = Mutated_Child_1[-u]*2**p\n",
    "            Y0_num_Sum_MC_1 += Y0_num_M1\n",
    "            u = u+1\n",
    "            p = p+1\n",
    "        \n",
    "        \n",
    "        Decoded_X_M1 = (X0_num_Sum_MC_1*Precision_X)+a_X\n",
    "        Decoded_Y_M1 = (Y0_num_Sum_MC_1*Precision_Y)+a_Y\n",
    "        '''\n",
    "        print()\n",
    "        print(\"Decoded_X_M1:\",Decoded_X_M1)\n",
    "        print(\"Decoded_Y_M1:\",Decoded_Y_M1)\n",
    "        '''\n",
    "        P_1 = 0\n",
    "        \n",
    "        kf = cross_validation.KFold(Cnt1,n_folds=kfold)\n",
    "        \n",
    "        for train_index,test_index in kf:\n",
    "            X_train,X_test = X[train_index],X[test_index]\n",
    "            Y_train,Y_test = Y[train_index],Y[test_index]\n",
    "            \n",
    "            model1 = svm.SVR(kernel=\"rbf\",C=Decoded_X_M1,gamma=Decoded_Y_M1)\n",
    "            model1.fit(X_train,Y_train)\n",
    "            PL1 = model1.predict(X_test)\n",
    "            \n",
    "            AC1 = model1.score(X_test,Y_test)\n",
    "            \n",
    "            OF_So_Far_1 = 1-(AC1)\n",
    "            \n",
    "            P_1 += OF_So_Far_1\n",
    "            \n",
    "        OF_So_Far_M1 = P_1/kfold\n",
    "\n",
    "\n",
    "        # For mutated child_2\n",
    "        \n",
    "        X0_num_Sum_MC_2 = 0\n",
    "        Y0_num_Sum_MC_2 = 0\n",
    "        \n",
    "        z = 0\n",
    "        t = 1\n",
    "        \n",
    "        \n",
    "        for i in range(len(XY0)//2):\n",
    "            X0_num_M2 = Mutated_Child_2[-t]*2**z\n",
    "            X0_num_Sum_MC_2 += X0_num_M2\n",
    "            t = t+1\n",
    "            z = z+1\n",
    "        \n",
    "        p = 0\n",
    "        u = 1+(len(XY0)//2)\n",
    "        \n",
    "        for i in range(len(XY0)//2):\n",
    "            Y0_num_M2 = Mutated_Child_2[-u]*2**p\n",
    "            Y0_num_Sum_MC_2 += Y0_num_M2\n",
    "            u = u+1\n",
    "            p = p+1\n",
    "        \n",
    "        \n",
    "        Decoded_X_M2 = (X0_num_Sum_MC_2*Precision_X)+a_X\n",
    "        Decoded_Y_M2 = (Y0_num_Sum_MC_2*Precision_Y)+a_Y\n",
    "        '''\n",
    "        print()\n",
    "        print(\"Decoded_X_M2:\",Decoded_X_M2)\n",
    "        print(\"Decoded_Y_M2:\",Decoded_Y_M2)\n",
    "        '''\n",
    "        P_1 = 0\n",
    "        \n",
    "        kf = cross_validation.KFold(Cnt1,n_folds=kfold)\n",
    "        \n",
    "        for train_index,test_index in kf:\n",
    "            X_train,X_test = X[train_index],X[test_index]\n",
    "            Y_train,Y_test = Y[train_index],Y[test_index]\n",
    "            \n",
    "            model1 = svm.SVR(kernel=\"rbf\",C=Decoded_X_M2,gamma=Decoded_Y_M2)\n",
    "            model1.fit(X_train,Y_train)\n",
    "            PL1 = model1.predict(X_test)\n",
    "            \n",
    "            AC1 = model1.score(X_test,Y_test)\n",
    "            \n",
    "            OF_So_Far_2 = 1-(AC1)\n",
    "            \n",
    "            P_1 += OF_So_Far_2\n",
    "            \n",
    "        OF_So_Far_M2 = P_1/kfold\n",
    "        \n",
    "        \n",
    "        print()\n",
    "        print(\"FV for Mutated Child #1 at Gen\",Generation,\":\",OF_So_Far_M1)\n",
    "        print(\"FV for Mutated Child #2 at Gen\",Generation,\":\",OF_So_Far_M2)\n",
    "\n",
    "\n",
    "        All_in_Generation_X_1_1_temp = Mutated_Child_1[np.newaxis]\n",
    "        \n",
    "        All_in_Generation_X_1_1 = np.column_stack((OF_So_Far_M1,All_in_Generation_X_1_1_temp))\n",
    "        \n",
    "        All_in_Generation_X_2_2_temp = Mutated_Child_2[np.newaxis]\n",
    "        \n",
    "        All_in_Generation_X_2_2 = np.column_stack((OF_So_Far_M2,All_in_Generation_X_2_2_temp))\n",
    "        \n",
    "        \n",
    "        All_in_Generation_X_1 = np.vstack((All_in_Generation_X_1,All_in_Generation_X_1_1))\n",
    "        All_in_Generation_X_2 = np.vstack((All_in_Generation_X_2,All_in_Generation_X_2_2))\n",
    "        \n",
    "        \n",
    "        Save_Best_in_Generation_X = np.vstack((All_in_Generation_X_1,All_in_Generation_X_2))\n",
    "\n",
    "\n",
    "        New_Population = np.vstack((New_Population,Mutated_Child_1,Mutated_Child_2))\n",
    "        \n",
    "        R_1 = []\n",
    "        t = 0\n",
    "        for i in All_in_Generation_X_1:\n",
    "            \n",
    "            if(All_in_Generation_X_1[t,:1]) <= min(All_in_Generation_X_1[:,:1]):\n",
    "                R_1 = All_in_Generation_X_1[t,:]\n",
    "            t = t+1\n",
    "            \n",
    "        \n",
    "        Min_in_Generation_X_1 = R_1[np.newaxis]\n",
    "        \n",
    "        \n",
    "        R_2 = []\n",
    "        t = 0\n",
    "        for i in All_in_Generation_X_2:\n",
    "            \n",
    "            if(All_in_Generation_X_2[t,:1]) <= min(All_in_Generation_X_2[:,:1]):\n",
    "                R_2 = All_in_Generation_X_2[t,:]\n",
    "            t = t+1\n",
    "            \n",
    "        \n",
    "        Min_in_Generation_X_2 = R_2[np.newaxis]\n",
    "        \n",
    "        \n",
    "        Family = Family+1\n",
    "        \n",
    "        \n",
    "    t = 0\n",
    "    R_11 = []\n",
    "    for i in Save_Best_in_Generation_X:\n",
    "        \n",
    "        if (Save_Best_in_Generation_X[t,:1]) <= min(Save_Best_in_Generation_X[:,:1]):\n",
    "            R_11 = Save_Best_in_Generation_X[t,:]\n",
    "        t = t+1\n",
    "            \n",
    "    Final_Best_in_Generation_X = R_11[np.newaxis]\n",
    "    \n",
    "    \n",
    "    t = 0\n",
    "    R_22 = []\n",
    "    for i in Save_Best_in_Generation_X:\n",
    "        \n",
    "        if (Save_Best_in_Generation_X[t,:1]) >= max(Save_Best_in_Generation_X[:,:1]):\n",
    "            R_22 = Save_Best_in_Generation_X[t,:1]\n",
    "        t = t+1\n",
    "            \n",
    "    Worst_Best_in_Generation_X = R_22[np.newaxis]\n",
    "    \n",
    "    \n",
    "    Darwin_Guy = Final_Best_in_Generation_X[:]\n",
    "    Not_So_Darwin_Guy = Worst_Best_in_Generation_X[:]\n",
    "    \n",
    "    \n",
    "    Darwin_Guy = Darwin_Guy[0:,1:].tolist()\n",
    "    Not_So_Darwin_Guy = Not_So_Darwin_Guy[0:,1:].tolist()\n",
    "    \n",
    "    Best_1 = np.where((New_Population==Darwin_Guy))\n",
    "    Worst_1 = np.where((New_Population==Not_So_Darwin_Guy))\n",
    "    \n",
    "    \n",
    "    New_Population[Worst_1] = Darwin_Guy\n",
    "    \n",
    "    n_list = New_Population\n",
    "\n",
    "    \n",
    "    Min_for_all_Generations_for_Mut_1 = np.vstack((Min_for_all_Generations_for_Mut_1,\n",
    "                                                   Min_in_Generation_X_1))\n",
    "    Min_for_all_Generations_for_Mut_2 = np.vstack((Min_for_all_Generations_for_Mut_2,\n",
    "                                                   Min_in_Generation_X_2))\n",
    "    \n",
    "    \n",
    "    Min_for_all_Generations_for_Mut_1_1 = np.insert(Min_in_Generation_X_1,0,Generation)\n",
    "    Min_for_all_Generations_for_Mut_2_2 = np.insert(Min_in_Generation_X_2,0,Generation)\n",
    "    \n",
    "    \n",
    "    Min_for_all_Generations_for_Mut_1_1_1 = np.vstack((Min_for_all_Generations_for_Mut_1_1_1,\n",
    "                                                       Min_for_all_Generations_for_Mut_1_1))\n",
    "    \n",
    "    Min_for_all_Generations_for_Mut_2_2_2 = np.vstack((Min_for_all_Generations_for_Mut_2_2_2,\n",
    "                                                       Min_for_all_Generations_for_Mut_2_2))\n",
    "    \n",
    "    \n",
    "    Generation = Generation+1\n",
    "    \n",
    "One_Final_Guy = np.vstack((Min_for_all_Generations_for_Mut_1_1_1,\n",
    "                            Min_for_all_Generations_for_Mut_2_2_2))\n",
    "\n",
    "t = 0\n",
    "Final_Here = []\n",
    "\n",
    "for i in One_Final_Guy:\n",
    "    if(One_Final_Guy[t,1]) <= min(One_Final_Guy[:,1]):\n",
    "        Final_Here = One_Final_Guy[t,:]\n",
    "    t = t+1\n",
    "    \n",
    "One_Final_Guy_Final = Final_Here[np.newaxis]\n",
    "\n",
    "print()\n",
    "print(\"Min in all Generations:\",One_Final_Guy_Final)\n",
    "\n",
    "print()\n",
    "print(\"Final Solution:\",One_Final_Guy_Final[:,2:])\n",
    "print(\"Highest R2:\",(1-One_Final_Guy_Final[:,1]))\n",
    "\n",
    "XY0_Encoded_After = One_Final_Guy_Final[:,2:][0]\n",
    "\n",
    "\n",
    "z = 0\n",
    "t = 1\n",
    "X0_num_Sum_Encoded_After = 0\n",
    "\n",
    "for i in range(len(XY0)//2):\n",
    "    X0_num_Encoded_After = XY0_Encoded_After[-t]*2**z\n",
    "    X0_num_Sum_Encoded_After += X0_num_Encoded_After\n",
    "    t = t+1\n",
    "    z = z+1\n",
    "    \n",
    "p = 0\n",
    "u = 1+(len(XY0)//2)\n",
    "Y0_num_Sum_Encoded_After = 0\n",
    "\n",
    "for i in range(len(XY0)//2):\n",
    "    Y0_num_Encoded_After = XY0_Encoded_After[-u]*2**p\n",
    "    Y0_num_Sum_Encoded_After += Y0_num_Encoded_After\n",
    "    u = u+1\n",
    "    p = p+1\n",
    "\n",
    "\n",
    "Decoded_X_Encoded_After = (X0_num_Sum_Encoded_After*Precision_X)+a_X\n",
    "Decoded_Y_Encoded_After = (Y0_num_Sum_Encoded_After*Precision_Y)+a_Y\n",
    "\n",
    "print()\n",
    "print(\"Decoded_X_Encoded_After:\",Decoded_X_Encoded_After)\n",
    "print(\"Decoded_Y_Encoded_After:\",Decoded_Y_Encoded_After)"
   ]
  },
  {
   "cell_type": "code",
   "execution_count": 0,
   "metadata": {
    "colab": {},
    "colab_type": "code",
    "collapsed": true,
    "id": "tm-YMAZ3R0AF"
   },
   "outputs": [],
   "source": [
    "One_Final_Guy = np.vstack((Min_for_all_Generations_for_Mut_1_1_1,\n",
    "                            Min_for_all_Generations_for_Mut_2_2_2))\n",
    "\n",
    "t = 0\n",
    "Final_Here = []\n",
    "\n",
    "for i in One_Final_Guy:\n",
    "    if(One_Final_Guy[t,1]) <= min(One_Final_Guy[:,1]):\n",
    "        Final_Here = One_Final_Guy[t,:]\n",
    "    t = t+1"
   ]
  },
  {
   "cell_type": "code",
   "execution_count": 0,
   "metadata": {
    "colab": {},
    "colab_type": "code",
    "collapsed": true,
    "id": "m4grBN0eRz9J"
   },
   "outputs": [],
   "source": [
    "One_Final_Guy_Final = Final_Here[np.newaxis]"
   ]
  },
  {
   "cell_type": "code",
   "execution_count": 113,
   "metadata": {
    "colab": {
     "base_uri": "https://localhost:8080/",
     "height": 255
    },
    "colab_type": "code",
    "id": "UqGPo5qNRz6L",
    "outputId": "c09e74bf-780c-49a2-85a0-54cc846aa4d6"
   },
   "outputs": [
    {
     "name": "stdout",
     "output_type": "stream",
     "text": [
      "\n",
      "Min in all Generations: [[4.         0.72570162 0.         0.         0.         0.\n",
      "  0.         0.         0.         1.         0.         1.\n",
      "  1.         1.         1.         0.         1.         0.\n",
      "  0.         1.         0.         0.         0.         1.\n",
      "  1.         1.         0.         1.         1.         1.\n",
      "  1.         1.        ]]\n",
      "\n",
      "Final Solution: [[0. 0. 0. 0. 0. 0. 0. 1. 0. 1. 1. 1. 1. 0. 1. 0. 0. 1. 0. 0. 0. 1. 1. 1.\n",
      "  0. 1. 1. 1. 1. 1.]]\n",
      "Highest R2: [0.27429838]\n",
      "\n",
      "Decoded_X_Encoded_After: 148.2259590441603\n",
      "Decoded_Y_Encoded_After: 0.0015710318308053836\n"
     ]
    }
   ],
   "source": [
    "print()\n",
    "print(\"Min in all Generations:\",One_Final_Guy_Final)\n",
    "\n",
    "print()\n",
    "print(\"Final Solution:\",One_Final_Guy_Final[:,2:])\n",
    "print(\"Highest R2:\",(1-One_Final_Guy_Final[:,1]))\n",
    "\n",
    "XY0_Encoded_After = One_Final_Guy_Final[:,2:][0]\n",
    "\n",
    "\n",
    "z = 0\n",
    "t = 1\n",
    "X0_num_Sum_Encoded_After = 0\n",
    "\n",
    "for i in range(len(XY0)//2):\n",
    "    X0_num_Encoded_After = XY0_Encoded_After[-t]*2**z\n",
    "    X0_num_Sum_Encoded_After += X0_num_Encoded_After\n",
    "    t = t+1\n",
    "    z = z+1\n",
    "    \n",
    "p = 0\n",
    "u = 1+(len(XY0)//2)\n",
    "Y0_num_Sum_Encoded_After = 0\n",
    "\n",
    "for i in range(len(XY0)//2):\n",
    "    Y0_num_Encoded_After = XY0_Encoded_After[-u]*2**p\n",
    "    Y0_num_Sum_Encoded_After += Y0_num_Encoded_After\n",
    "    u = u+1\n",
    "    p = p+1\n",
    "\n",
    "\n",
    "Decoded_X_Encoded_After = (X0_num_Sum_Encoded_After*Precision_X)+a_X\n",
    "Decoded_Y_Encoded_After = (Y0_num_Sum_Encoded_After*Precision_Y)+a_Y\n",
    "\n",
    "print()\n",
    "print(\"Decoded_X_Encoded_After:\",Decoded_X_Encoded_After)\n",
    "print(\"Decoded_Y_Encoded_After:\",Decoded_Y_Encoded_After)"
   ]
  },
  {
   "cell_type": "code",
   "execution_count": 0,
   "metadata": {
    "colab": {},
    "colab_type": "code",
    "collapsed": true,
    "id": "W0f1Ru59Rz3P"
   },
   "outputs": [],
   "source": [
    "from sklearn.metrics import mean_squared_error"
   ]
  },
  {
   "cell_type": "code",
   "execution_count": 115,
   "metadata": {
    "colab": {
     "base_uri": "https://localhost:8080/",
     "height": 51
    },
    "colab_type": "code",
    "id": "BkMl3p4ESPwh",
    "outputId": "0180533a-5282-498a-aff4-1fe20aaad0c9"
   },
   "outputs": [
    {
     "name": "stdout",
     "output_type": "stream",
     "text": [
      "\n",
      "R2 for SVM W/O GA: 0.425590\n"
     ]
    }
   ],
   "source": [
    "kfold = 10\n",
    "\n",
    "SVMClass = svm.SVR()\n",
    "\n",
    "Count1 = 1\n",
    "Aa1 = 0\n",
    "\n",
    "Cnt1 = len(X)\n",
    "\n",
    "kf = cross_validation.KFold(Cnt1, n_folds=kfold)\n",
    "\n",
    "for train_index, test_index in kf:\n",
    "    X_train, X_test = X[train_index], X[test_index]\n",
    "    Y_train, Y_test = Y[train_index], Y[test_index]\n",
    "    \n",
    "    model1 = SVMClass\n",
    "    model1.fit(X_train, Y_train)\n",
    "    Pa_1=model1.predict(X_test)\n",
    "    AC1=model1.score(X_test,Y_test)\n",
    "    \n",
    "    Aa1 += AC1\n",
    "       \n",
    "print()\n",
    "print(\"R2 for SVM W/O GA: %f\" % (Aa1/kfold))"
   ]
  },
  {
   "cell_type": "code",
   "execution_count": 117,
   "metadata": {
    "colab": {
     "base_uri": "https://localhost:8080/",
     "height": 51
    },
    "colab_type": "code",
    "id": "65pyWXX9SP2E",
    "outputId": "f4a796b2-9a9a-4c98-99a6-f0e4eb880c13"
   },
   "outputs": [
    {
     "name": "stdout",
     "output_type": "stream",
     "text": [
      "\n",
      "R2 for SVM W/ GA: 0.494088\n"
     ]
    }
   ],
   "source": [
    "SVMClass = svm.SVR(kernel='rbf', C=148.22, gamma=0.0015, epsilon = 0.01)\n",
    "\n",
    "Count1 = 1\n",
    "Aa1 = 0\n",
    "\n",
    "Cnt1 = len(X)\n",
    "\n",
    "kf = cross_validation.KFold(Cnt1, n_folds=kfold)\n",
    "\n",
    "for train_index, test_index in kf:\n",
    "    X_train, X_test = X[train_index], X[test_index]\n",
    "    Y_train, Y_test = Y[train_index], Y[test_index]\n",
    "    \n",
    "    model1 = SVMClass\n",
    "    model1.fit(X_train, Y_train)\n",
    "    Pa_1=model1.predict(X_test)\n",
    "    AC1=model1.score(X_test,Y_test)\n",
    "    \n",
    "    Aa1 += AC1\n",
    "       \n",
    "print()\n",
    "print(\"R2 for SVM W/ GA: %f\" % (Aa1/kfold))\n"
   ]
  },
  {
   "cell_type": "code",
   "execution_count": 0,
   "metadata": {
    "colab": {},
    "colab_type": "code",
    "collapsed": true,
    "id": "rRcrY2g6uAP3"
   },
   "outputs": [],
   "source": [
    "# Selection of the Best Model"
   ]
  },
  {
   "cell_type": "code",
   "execution_count": 0,
   "metadata": {
    "colab": {},
    "colab_type": "code",
    "collapsed": true,
    "id": "iGoiiqVGyFKt"
   },
   "outputs": [],
   "source": [
    "df_test = pd.concat([X22.reset_index(drop=True), X21.reset_index(drop=True)], axis=1)"
   ]
  },
  {
   "cell_type": "code",
   "execution_count": 0,
   "metadata": {
    "colab": {},
    "colab_type": "code",
    "collapsed": true,
    "id": "SYwPmUM80TVo"
   },
   "outputs": [],
   "source": [
    "df_test = df_test.rename(index=str, columns={0: \"Feature_1\",1: \"Feature_2\",2: \"Feature_3\",3: \"Feature_4\",4: \"Feature_9\"})"
   ]
  },
  {
   "cell_type": "code",
   "execution_count": 0,
   "metadata": {
    "colab": {},
    "colab_type": "code",
    "collapsed": true,
    "id": "a-sYfOr42KV3"
   },
   "outputs": [],
   "source": [
    "from sklearn import preprocessing"
   ]
  },
  {
   "cell_type": "code",
   "execution_count": 0,
   "metadata": {
    "colab": {},
    "colab_type": "code",
    "collapsed": true,
    "id": "CtaEbuNQ5Q5H"
   },
   "outputs": [],
   "source": [
    "Xbef = Xbef.drop(['Feature_10'],axis = 1)"
   ]
  },
  {
   "cell_type": "code",
   "execution_count": 0,
   "metadata": {
    "colab": {},
    "colab_type": "code",
    "collapsed": true,
    "id": "HgVujmUO3qIo"
   },
   "outputs": [],
   "source": [
    "min_max_scalar = preprocessing.MinMaxScaler()\n",
    "X_pred = min_max_scalar.fit_transform(Xbef_test)"
   ]
  },
  {
   "cell_type": "code",
   "execution_count": 0,
   "metadata": {
    "colab": {},
    "colab_type": "code",
    "collapsed": true,
    "id": "DQd71fsC3qO8"
   },
   "outputs": [],
   "source": [
    "from sklearn.preprocessing import PolynomialFeatures\n",
    "poly= PolynomialFeatures(degree=2)"
   ]
  },
  {
   "cell_type": "code",
   "execution_count": 0,
   "metadata": {
    "colab": {},
    "colab_type": "code",
    "collapsed": true,
    "id": "wXeTED5c6liU"
   },
   "outputs": [],
   "source": [
    "poly = PolynomialFeatures(degree=2)\n",
    "X_poly_pred = poly.fit_transform(X_pred)"
   ]
  },
  {
   "cell_type": "code",
   "execution_count": 76,
   "metadata": {
    "colab": {
     "base_uri": "https://localhost:8080/",
     "height": 34
    },
    "colab_type": "code",
    "id": "UTPQ8jOqIT3n",
    "outputId": "f6b85a4b-b432-49c2-e667-35f0e90e4633"
   },
   "outputs": [
    {
     "data": {
      "text/plain": [
       "((382, 30), (382, 30), (3400, 30), (382, 496), (2720, 496))"
      ]
     },
     "execution_count": 76,
     "metadata": {
      "tags": []
     },
     "output_type": "execute_result"
    }
   ],
   "source": [
    "X_pred.shape, Xbef_test.shape, Xbef.shape, X_poly_pred.shape, X_train_poly.shape"
   ]
  },
  {
   "cell_type": "code",
   "execution_count": 78,
   "metadata": {
    "colab": {
     "base_uri": "https://localhost:8080/",
     "height": 84
    },
    "colab_type": "code",
    "id": "ThfJAr3V3qa5",
    "outputId": "936cc75e-5c24-4774-e5df-7ad4efecc877"
   },
   "outputs": [
    {
     "name": "stdout",
     "output_type": "stream",
     "text": [
      "(poly deg 2) R-squared score (training): 0.824\n",
      "(poly deg 2) R-squared score (test): 0.804\n",
      "\n",
      "MAE for train data set : 0.24347230911221512\n"
     ]
    }
   ],
   "source": [
    "from sklearn.linear_model import Ridge\n",
    "\n",
    "ridge=Ridge()\n",
    "\n",
    "param_grid = {'alpha': [0.001, 0.01, 0.1, 1, 10, 100]}\n",
    "grid_search=GridSearchCV(ridge,param_grid,cv=5)\n",
    "\n",
    "param_grid = {'alpha': [0.001, 0.01, 0.1, 1, 10, 100]}\n",
    "\n",
    "linridge = grid_search.fit(X_train_poly,y_train_poly)\n",
    "print('(poly deg 2) R-squared score (training): {:.3f}'\n",
    "     .format(linridge.score(X_train_poly, y_train_poly)))\n",
    "print('(poly deg 2) R-squared score (test): {:.3f}\\n'\n",
    "     .format(linridge.score(X_test_poly, y_test_poly)))\n",
    "print('MAE for train data set :', metrics.mean_absolute_error(y_train_poly, grid_search.predict( X_train_poly)))"
   ]
  },
  {
   "cell_type": "code",
   "execution_count": 0,
   "metadata": {
    "colab": {},
    "colab_type": "code",
    "collapsed": true,
    "id": "2iduwYFeSpwD"
   },
   "outputs": [],
   "source": [
    "predictions = grid_search.predict(X_poly_pred)"
   ]
  },
  {
   "cell_type": "code",
   "execution_count": 98,
   "metadata": {
    "colab": {
     "base_uri": "https://localhost:8080/",
     "height": 118
    },
    "colab_type": "code",
    "id": "7wYxL9pIUg7Z",
    "outputId": "3b5208f1-eebd-41b6-e79c-2484bb7a9d5b"
   },
   "outputs": [
    {
     "name": "stderr",
     "output_type": "stream",
     "text": [
      "/usr/local/lib/python3.6/dist-packages/ipykernel_launcher.py:1: SettingWithCopyWarning: \n",
      "A value is trying to be set on a copy of a slice from a DataFrame.\n",
      "Try using .loc[row_indexer,col_indexer] = value instead\n",
      "\n",
      "See the caveats in the documentation: http://pandas.pydata.org/pandas-docs/stable/indexing.html#indexing-view-versus-copy\n",
      "  \"\"\"Entry point for launching an IPython kernel.\n"
     ]
    }
   ],
   "source": [
    "test['Feature_10'] = np.exp(predictions)"
   ]
  },
  {
   "cell_type": "code",
   "execution_count": 105,
   "metadata": {
    "colab": {
     "base_uri": "https://localhost:8080/",
     "height": 34
    },
    "colab_type": "code",
    "id": "cyuGGeXgV1WN",
    "outputId": "c9c17481-99c2-47b4-d66f-41e89dadc8e1"
   },
   "outputs": [
    {
     "data": {
      "text/plain": [
       "(382, 11)"
      ]
     },
     "execution_count": 105,
     "metadata": {
      "tags": []
     },
     "output_type": "execute_result"
    }
   ],
   "source": [
    "test.shape"
   ]
  },
  {
   "cell_type": "code",
   "execution_count": 0,
   "metadata": {
    "colab": {},
    "colab_type": "code",
    "collapsed": true,
    "id": "ZsI0oCva0z8o"
   },
   "outputs": [],
   "source": [
    "test.to_csv('output.csv',mode='a',index=False)"
   ]
  },
  {
   "cell_type": "code",
   "execution_count": 106,
   "metadata": {
    "colab": {
     "base_uri": "https://localhost:8080/",
     "height": 296
    },
    "colab_type": "code",
    "id": "Ak4eY4teVZlF",
    "outputId": "bc16cf46-5e1a-45c4-ca02-2c2b985ff2cb"
   },
   "outputs": [
    {
     "ename": "FileNotFoundError",
     "evalue": "ignored",
     "output_type": "error",
     "traceback": [
      "\u001b[0;31m---------------------------------------------------------------------------\u001b[0m",
      "\u001b[0;31mFileNotFoundError\u001b[0m                         Traceback (most recent call last)",
      "\u001b[0;32m<ipython-input-106-42f5f30e56aa>\u001b[0m in \u001b[0;36m<module>\u001b[0;34m()\u001b[0m\n\u001b[1;32m      1\u001b[0m \u001b[0;32mfrom\u001b[0m \u001b[0mgoogle\u001b[0m\u001b[0;34m.\u001b[0m\u001b[0mcolab\u001b[0m \u001b[0;32mimport\u001b[0m \u001b[0mfiles\u001b[0m\u001b[0;34m\u001b[0m\u001b[0m\n\u001b[0;32m----> 2\u001b[0;31m \u001b[0mfiles\u001b[0m\u001b[0;34m.\u001b[0m\u001b[0mdownload\u001b[0m\u001b[0;34m(\u001b[0m\u001b[0;34m\"test.csv\"\u001b[0m\u001b[0;34m)\u001b[0m\u001b[0;34m\u001b[0m\u001b[0m\n\u001b[0m",
      "\u001b[0;32m/usr/local/lib/python3.6/dist-packages/google/colab/files.py\u001b[0m in \u001b[0;36mdownload\u001b[0;34m(filename)\u001b[0m\n\u001b[1;32m    142\u001b[0m       \u001b[0;32mraise\u001b[0m \u001b[0mOSError\u001b[0m\u001b[0;34m(\u001b[0m\u001b[0mmsg\u001b[0m\u001b[0;34m)\u001b[0m\u001b[0;34m\u001b[0m\u001b[0m\n\u001b[1;32m    143\u001b[0m     \u001b[0;32melse\u001b[0m\u001b[0;34m:\u001b[0m\u001b[0;34m\u001b[0m\u001b[0m\n\u001b[0;32m--> 144\u001b[0;31m       \u001b[0;32mraise\u001b[0m \u001b[0mFileNotFoundError\u001b[0m\u001b[0;34m(\u001b[0m\u001b[0mmsg\u001b[0m\u001b[0;34m)\u001b[0m  \u001b[0;31m# pylint: disable=undefined-variable\u001b[0m\u001b[0;34m\u001b[0m\u001b[0m\n\u001b[0m\u001b[1;32m    145\u001b[0m \u001b[0;34m\u001b[0m\u001b[0m\n\u001b[1;32m    146\u001b[0m   \u001b[0mstarted\u001b[0m \u001b[0;34m=\u001b[0m \u001b[0m_threading\u001b[0m\u001b[0;34m.\u001b[0m\u001b[0mEvent\u001b[0m\u001b[0;34m(\u001b[0m\u001b[0;34m)\u001b[0m\u001b[0;34m\u001b[0m\u001b[0m\n",
      "\u001b[0;31mFileNotFoundError\u001b[0m: Cannot find file: test.csv"
     ]
    }
   ],
   "source": [
    "from google.colab import files\n",
    "files.download(\"test.csv\")"
   ]
  }
 ],
 "metadata": {
  "accelerator": "GPU",
  "colab": {
   "collapsed_sections": [],
   "name": "copart.ipynb",
   "provenance": [],
   "version": "0.3.2"
  },
  "kernelspec": {
   "display_name": "Python 3",
   "language": "python",
   "name": "python3"
  },
  "language_info": {
   "codemirror_mode": {
    "name": "ipython",
    "version": 3
   },
   "file_extension": ".py",
   "mimetype": "text/x-python",
   "name": "python",
   "nbconvert_exporter": "python",
   "pygments_lexer": "ipython3",
   "version": "3.6.3"
  }
 },
 "nbformat": 4,
 "nbformat_minor": 1
}
